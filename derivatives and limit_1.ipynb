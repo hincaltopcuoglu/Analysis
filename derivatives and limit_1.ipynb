{
 "cells": [
  {
   "cell_type": "code",
   "execution_count": 92,
   "metadata": {},
   "outputs": [],
   "source": [
    "import numpy as np\n",
    "import matplotlib.pyplot as plt \n",
    "import os"
   ]
  },
  {
   "cell_type": "code",
   "execution_count": 93,
   "metadata": {},
   "outputs": [],
   "source": [
    "os.chdir('C:\\\\Users\\\\User\\\\Desktop\\\\')"
   ]
  },
  {
   "cell_type": "code",
   "execution_count": 272,
   "metadata": {},
   "outputs": [],
   "source": [
    "#lets define a function that finds taken road by time which is => f(x)=t^2 ==> x(t)=t**2\n",
    "def road_time(t):\n",
    "    x=t**2\n",
    "    return(x)"
   ]
  },
  {
   "cell_type": "code",
   "execution_count": 273,
   "metadata": {},
   "outputs": [
    {
     "data": {
      "text/plain": [
       "4"
      ]
     },
     "execution_count": 273,
     "metadata": {},
     "output_type": "execute_result"
    }
   ],
   "source": [
    "road_time(2)"
   ]
  },
  {
   "cell_type": "code",
   "execution_count": 274,
   "metadata": {},
   "outputs": [
    {
     "name": "stdout",
     "output_type": "stream",
     "text": [
      "0\n",
      "1\n",
      "4\n",
      "25\n"
     ]
    }
   ],
   "source": [
    "#let this function defines taken road within t'th second\n",
    "#so in the 0 th second the car takes\n",
    "print(road_time(0))\n",
    "#in 1th second the car takes\n",
    "print(road_time(1))\n",
    "#in 2th second the car takes\n",
    "print(road_time(2))\n",
    "#in 5th second the car takes\n",
    "print(road_time(5))\n",
    "\n",
    "#and so forth..as you can see our car's speed increasing by the time."
   ]
  },
  {
   "cell_type": "markdown",
   "metadata": {},
   "source": [
    "the question is what is the speed of the car at 5th second?\n",
    "can it be found by math ?"
   ]
  },
  {
   "cell_type": "markdown",
   "metadata": {},
   "source": [
    "you can think that \n",
    "in the 5th second the car takes no road in that second\n",
    "so it is the same as the speed at in 0th second.\n",
    "which results the speed 0 because within this second the car takes no road.\n",
    "this is valid for all the other seconds\n"
   ]
  },
  {
   "cell_type": "markdown",
   "metadata": {},
   "source": [
    "but what if it is possible to calculate the speed in exact \"t\"th second ? \n",
    "yes it is possible because we can calculate the average speed at the given second so we can arrive the answer of\n",
    "question which is it is possible to calculate the speed in an exact second."
   ]
  },
  {
   "cell_type": "code",
   "execution_count": 275,
   "metadata": {},
   "outputs": [],
   "source": [
    "#lets start\n",
    "#calculate average speed between two second points\n",
    "def speed_average_between_times(t1,t2):\n",
    "    average_speed=(road_time(t1)-road_time(t2))/(t1-t2)\n",
    "    return(average_speed)"
   ]
  },
  {
   "cell_type": "code",
   "execution_count": 276,
   "metadata": {},
   "outputs": [
    {
     "ename": "ZeroDivisionError",
     "evalue": "division by zero",
     "output_type": "error",
     "traceback": [
      "\u001b[1;31m---------------------------------------------------------------------------\u001b[0m",
      "\u001b[1;31mZeroDivisionError\u001b[0m                         Traceback (most recent call last)",
      "\u001b[1;32m<ipython-input-276-ca90475f3dcf>\u001b[0m in \u001b[0;36m<module>\u001b[1;34m\u001b[0m\n\u001b[0;32m      1\u001b[0m \u001b[1;31m#lets see the results what if the t is 0 ?\u001b[0m\u001b[1;33m\u001b[0m\u001b[1;33m\u001b[0m\u001b[0m\n\u001b[0;32m      2\u001b[0m \u001b[1;31m#for 5 and 5\u001b[0m\u001b[1;33m\u001b[0m\u001b[1;33m\u001b[0m\u001b[0m\n\u001b[1;32m----> 3\u001b[1;33m \u001b[0mprint\u001b[0m\u001b[1;33m(\u001b[0m\u001b[0mspeed_average_between_times\u001b[0m\u001b[1;33m(\u001b[0m\u001b[1;36m5\u001b[0m\u001b[1;33m,\u001b[0m\u001b[1;36m5\u001b[0m\u001b[1;33m)\u001b[0m\u001b[1;33m)\u001b[0m\u001b[1;33m\u001b[0m\u001b[0m\n\u001b[0m",
      "\u001b[1;32m<ipython-input-275-e73b94e390fe>\u001b[0m in \u001b[0;36mspeed_average_between_times\u001b[1;34m(t1, t2)\u001b[0m\n\u001b[0;32m      2\u001b[0m \u001b[1;31m#calculate average speed between two second points\u001b[0m\u001b[1;33m\u001b[0m\u001b[1;33m\u001b[0m\u001b[0m\n\u001b[0;32m      3\u001b[0m \u001b[1;32mdef\u001b[0m \u001b[0mspeed_average_between_times\u001b[0m\u001b[1;33m(\u001b[0m\u001b[0mt1\u001b[0m\u001b[1;33m,\u001b[0m\u001b[0mt2\u001b[0m\u001b[1;33m)\u001b[0m\u001b[1;33m:\u001b[0m\u001b[1;33m\u001b[0m\u001b[0m\n\u001b[1;32m----> 4\u001b[1;33m     \u001b[0maverage_speed\u001b[0m\u001b[1;33m=\u001b[0m\u001b[1;33m(\u001b[0m\u001b[0mroad_time\u001b[0m\u001b[1;33m(\u001b[0m\u001b[0mt1\u001b[0m\u001b[1;33m)\u001b[0m\u001b[1;33m-\u001b[0m\u001b[0mroad_time\u001b[0m\u001b[1;33m(\u001b[0m\u001b[0mt2\u001b[0m\u001b[1;33m)\u001b[0m\u001b[1;33m)\u001b[0m\u001b[1;33m/\u001b[0m\u001b[1;33m(\u001b[0m\u001b[0mt1\u001b[0m\u001b[1;33m-\u001b[0m\u001b[0mt2\u001b[0m\u001b[1;33m)\u001b[0m\u001b[1;33m\u001b[0m\u001b[0m\n\u001b[0m\u001b[0;32m      5\u001b[0m     \u001b[1;32mreturn\u001b[0m\u001b[1;33m(\u001b[0m\u001b[0maverage_speed\u001b[0m\u001b[1;33m)\u001b[0m\u001b[1;33m\u001b[0m\u001b[0m\n",
      "\u001b[1;31mZeroDivisionError\u001b[0m: division by zero"
     ]
    }
   ],
   "source": [
    "#lets see the results what if the t is 0 ?\n",
    "#for 5 and 5\n",
    "print(speed_average_between_times(5,5))"
   ]
  },
  {
   "cell_type": "markdown",
   "metadata": {},
   "source": [
    "so you cant give the exact seconds parameter to function to find the speed at that point"
   ]
  },
  {
   "cell_type": "code",
   "execution_count": 277,
   "metadata": {},
   "outputs": [
    {
     "name": "stdout",
     "output_type": "stream",
     "text": [
      "5.0\n"
     ]
    }
   ],
   "source": [
    "#then lets consider to find average speed for example between 5th and 0th seconds\n",
    "#using our road function first calculate the road taken at t'th second then divide it into that second to find average speed\n",
    "average_speed = road_time(5)/5\n",
    "print(average_speed)\n"
   ]
  },
  {
   "cell_type": "markdown",
   "metadata": {},
   "source": [
    "as you can see the average speed at the firs 0-5 second is 5 m/s\n",
    "lets enhance it with more seconds and\n",
    "decrease bigger second to converge 5th second because we are interested in to calculate the speed at 5th second"
   ]
  },
  {
   "cell_type": "code",
   "execution_count": 278,
   "metadata": {},
   "outputs": [
    {
     "name": "stdout",
     "output_type": "stream",
     "text": [
      "13.0\n",
      "12.0\n",
      "11.0\n",
      "10.5\n",
      "10.100000000000016\n",
      "10.009999999999977\n",
      "10.000999999999252\n"
     ]
    }
   ],
   "source": [
    "#for 8 and 5\n",
    "print(speed_average_between_times(8,5))\n",
    "#for 7 and 5\n",
    "print(speed_average_between_times(7,5))\n",
    "#for 6 and 5\n",
    "print(speed_average_between_times(6,5))\n",
    "#for 5.5 and 5\n",
    "print(speed_average_between_times(5.5,5))\n",
    "#for 5.1 and 5\n",
    "print(speed_average_between_times(5.1,5))\n",
    "#for 5.01 and 5\n",
    "print(speed_average_between_times(5.01,5))\n",
    "#for 5.001 and 5\n",
    "print(x_average(5.001,5))"
   ]
  },
  {
   "cell_type": "markdown",
   "metadata": {},
   "source": [
    "lets look at from inverse point"
   ]
  },
  {
   "cell_type": "code",
   "execution_count": 279,
   "metadata": {},
   "outputs": [
    {
     "name": "stdout",
     "output_type": "stream",
     "text": [
      "9.999000000000748\n",
      "9.899999999999984\n",
      "9.799999999999995\n",
      "9.5\n"
     ]
    }
   ],
   "source": [
    "#for 4.999 and 5\n",
    "print(speed_average_between_times(5,4.999))\n",
    "#for 4.9 and 5\n",
    "print(speed_average_between_times(5,4.9))\n",
    "#for 4.8 and 5\n",
    "print(speed_average_between_times(5,4.8))\n",
    "#for 4.5 and 5\n",
    "print(speed_average_between_times(5,4.5))\n"
   ]
  },
  {
   "cell_type": "markdown",
   "metadata": {},
   "source": [
    "as you can see we calculated the average speed betweeen two second points and and it converges to 10 either from two points\n",
    "so we can say that the average speed is bounded to time taken\n",
    "in this example it is 10 + t\n"
   ]
  },
  {
   "cell_type": "markdown",
   "metadata": {},
   "source": [
    "at the calculation we made above which we put 0th second to formula it gave error because you cannot put zero at that point"
   ]
  },
  {
   "cell_type": "markdown",
   "metadata": {},
   "source": [
    "but as I said above our formula is now based on time value t and we can put zero at now\n",
    "so we can say that our speed at 5th point is 10\n",
    "because it converged to 10 from two ways as seen above"
   ]
  },
  {
   "attachments": {
    "image.png": {
     "image/png": "[encoded data removed]"
    }
   },
   "cell_type": "markdown",
   "metadata": {},
   "source": [
    "so this is the limit theorem.if we want find the exact result regard to a problem in an exact point\n",
    "we use limit theorem.in this example we provide and prove it with taken so near points to zero but not zero itself.\n",
    "the limit theorem says you can find the exact result at a point by converging it to minimum points\n",
    "![image.png](attachment:image.png)\n"
   ]
  },
  {
   "cell_type": "markdown",
   "metadata": {},
   "source": [
    "Lets show it with plot"
   ]
  },
  {
   "cell_type": "code",
   "execution_count": 280,
   "metadata": {},
   "outputs": [],
   "source": [
    "y=[]\n",
    "for i in range(11):\n",
    "    y.append(i)      "
   ]
  },
  {
   "cell_type": "code",
   "execution_count": 281,
   "metadata": {},
   "outputs": [
    {
     "data": {
      "text/plain": [
       "[0, 1, 2, 3, 4, 5, 6, 7, 8, 9, 10]"
      ]
     },
     "execution_count": 281,
     "metadata": {},
     "output_type": "execute_result"
    }
   ],
   "source": [
    "y"
   ]
  },
  {
   "cell_type": "code",
   "execution_count": 282,
   "metadata": {},
   "outputs": [],
   "source": [
    "xx=[]\n",
    "for i in range(len(y)):\n",
    "    if i<5:\n",
    "        xx.append(4.9999-(1.01*i))\n",
    "    else: \n",
    "        xx.append(5+(0.1*i))"
   ]
  },
  {
   "cell_type": "code",
   "execution_count": 283,
   "metadata": {},
   "outputs": [
    {
     "data": {
      "text/plain": [
       "[4.9999,\n",
       " 3.9899000000000004,\n",
       " 2.9799,\n",
       " 1.9699,\n",
       " 0.9599000000000002,\n",
       " 5.5,\n",
       " 5.6,\n",
       " 5.7,\n",
       " 5.8,\n",
       " 5.9,\n",
       " 6.0]"
      ]
     },
     "execution_count": 283,
     "metadata": {},
     "output_type": "execute_result"
    }
   ],
   "source": [
    "xx"
   ]
  },
  {
   "cell_type": "code",
   "execution_count": 286,
   "metadata": {},
   "outputs": [],
   "source": [
    "z=[]\n",
    "for i in xx:\n",
    "    if(i<5):\n",
    "        z.append(speed_average_between_times(5,i))\n",
    "    else:\n",
    "        z.append(speed_average_between_times(i,5))\n",
    "        "
   ]
  },
  {
   "cell_type": "code",
   "execution_count": 287,
   "metadata": {},
   "outputs": [
    {
     "data": {
      "text/plain": [
       "[5.9599,\n",
       " 6.9699,\n",
       " 7.979900000000001,\n",
       " 8.9899,\n",
       " 9.999899999991726,\n",
       " 10.5,\n",
       " 10.6,\n",
       " 10.7,\n",
       " 10.800000000000002,\n",
       " 10.899999999999999,\n",
       " 11.0]"
      ]
     },
     "execution_count": 287,
     "metadata": {},
     "output_type": "execute_result"
    }
   ],
   "source": [
    "z=sorted(z)\n",
    "z"
   ]
  },
  {
   "cell_type": "code",
   "execution_count": 288,
   "metadata": {},
   "outputs": [
    {
     "name": "stdout",
     "output_type": "stream",
     "text": [
      "[0, 1, 2, 3, 4, 5, 6, 7, 8, 9, 10]\n"
     ]
    },
    {
     "data": {
      "image/png": "[encoded data removed]",
      "text/plain": [
       "<Figure size 432x288 with 1 Axes>"
      ]
     },
     "metadata": {
      "needs_background": "light"
     },
     "output_type": "display_data"
    }
   ],
   "source": [
    "plt.plot(np.array(y),road_time(np.array(y)).astype(np.int))\n",
    "plt.plot(np.array(y),z)\n",
    "roots = y[0:11]\n",
    "mark = [y.index(i) for i in roots]\n",
    "print(mark)\n",
    "plt.plot(np.array(y),road_time(np.array(y)),markevery=mark, ls=\"\", marker=\"o\", label=\"points\")\n",
    "plt.annotate(s='', xy=(3,9), xytext=(5,25), arrowprops=dict(arrowstyle='<-',facecolor='black',))\n",
    "plt.annotate(s='', xy=(7,49), xytext=(5,25), arrowprops=dict(arrowstyle='<-',facecolor='black'))\n",
    "plt.annotate(s='', xy=(5,25), xytext=(5,10), arrowprops=dict(arrowstyle='<-',facecolor='black'))\n",
    "plt.show()"
   ]
  },
  {
   "cell_type": "markdown",
   "metadata": {},
   "source": [
    "in our example the main function which written at the top defines the change of the road taken by the time.\n",
    "with using it we investigated to find ratio or change in average speed regard to time.\n",
    "So actually we arrived a result named \"change or slope\" in a variable with regard to another object.\n",
    "For instance in our example we measured the \"change\" of average speed regard to time.\n",
    "So this is called \"derivative\".\n",
    "which measures the change in a variable regard other interested object.\n",
    "It uses limit theorem as you can see.\n",
    "if we can write a function which defines a quantity regard to another quantity,we can find the what is the change in the main\n",
    "quantitiy regard to another quantitiy which is also slope.\n",
    "So we can easily use derivatives.\n",
    "For example we want to find the change in average speed by time.So by using derivatives we can achive this.\n",
    "\n",
    "\n"
   ]
  },
  {
   "cell_type": "markdown",
   "metadata": {},
   "source": [
    "for speed problem lets define a derivate function\n",
    "which was f(x)=t^2 .\n",
    "the change in the speed will always 2*t using derivation formula.It is also slope and it is same at every point of line"
   ]
  },
  {
   "cell_type": "code",
   "execution_count": 270,
   "metadata": {},
   "outputs": [
    {
     "data": {
      "text/plain": [
       "10"
      ]
     },
     "execution_count": 270,
     "metadata": {},
     "output_type": "execute_result"
    }
   ],
   "source": [
    "#lets easily detect the speed at 5th second using derivation\n",
    "def deriv(t,n):\n",
    "    res=t*n\n",
    "    return(res)\n",
    "\n",
    "#find \n",
    "deriv(5,2)\n"
   ]
  },
  {
   "cell_type": "markdown",
   "metadata": {},
   "source": [
    "it was an introduction to limit and derivatives.\n",
    "Thanks to Ali Nesin and Matematik Dunyasi magazine for giving great information about math !"
   ]
  },
  {
   "cell_type": "code",
   "execution_count": null,
   "metadata": {},
   "outputs": [],
   "source": []
  }
 ],
 "metadata": {
  "kernelspec": {
   "display_name": "Python 3",
   "language": "python",
   "name": "python3"
  },
  "language_info": {
   "codemirror_mode": {
    "name": "ipython",
    "version": 3
   },
   "file_extension": ".py",
   "mimetype": "text/x-python",
   "name": "python",
   "nbconvert_exporter": "python",
   "pygments_lexer": "ipython3",
   "version": "3.6.6"
  }
 },
 "nbformat": 4,
 "nbformat_minor": 2
}

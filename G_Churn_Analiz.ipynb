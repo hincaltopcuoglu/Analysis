{
 "cells": [
  {
   "cell_type": "code",
   "execution_count": 2,
   "metadata": {},
   "outputs": [],
   "source": [
    "#CHURN ANALYSIS# "
   ]
  },
  {
   "cell_type": "code",
   "execution_count": 3,
   "metadata": {},
   "outputs": [],
   "source": [
    "##Churn analysis;##\n",
    "#1-)What is the renewal rate of the product?\n",
    "#2-)What could be the main barriers for not renewing? \n",
    "#What will be your suggestion for not to lose these customers?\n",
    "#3-)Define the profile for the customers not renewed\n",
    "#4-)Why did the customer renewed with us\n",
    "#5-)Create a structured campaign for churn"
   ]
  },
  {
   "cell_type": "code",
   "execution_count": 5,
   "metadata": {},
   "outputs": [],
   "source": [
    "import os\n",
    "import pandas as pd\n",
    "import matplotlib.pyplot as plt\n",
    "import numpy as np"
   ]
  },
  {
   "cell_type": "code",
   "execution_count": 6,
   "metadata": {},
   "outputs": [],
   "source": [
    "os.chdir('C:/Users/User/Desktop/xxx/')\n",
    "df = pd.read_excel('Churn_Analysis.xlsx', sheet_name='Sheet1')"
   ]
  },
  {
   "cell_type": "code",
   "execution_count": 7,
   "metadata": {},
   "outputs": [
    {
     "data": {
      "text/html": [
       "<div>\n",
       "<style scoped>\n",
       "    .dataframe tbody tr th:only-of-type {\n",
       "        vertical-align: middle;\n",
       "    }\n",
       "\n",
       "    .dataframe tbody tr th {\n",
       "        vertical-align: top;\n",
       "    }\n",
       "\n",
       "    .dataframe thead th {\n",
       "        text-align: right;\n",
       "    }\n",
       "</style>\n",
       "<table border=\"1\" class=\"dataframe\">\n",
       "  <thead>\n",
       "    <tr style=\"text-align: right;\">\n",
       "      <th></th>\n",
       "      <th>RenewalResult</th>\n",
       "      <th>VehicleBrand</th>\n",
       "      <th>VehicleModelYear</th>\n",
       "      <th>VehiclePlateCityName</th>\n",
       "      <th>ExsistingPolicyGrossPremium</th>\n",
       "      <th>New Price</th>\n",
       "    </tr>\n",
       "  </thead>\n",
       "  <tbody>\n",
       "    <tr>\n",
       "      <th>0</th>\n",
       "      <td>Not Renewed</td>\n",
       "      <td>RENAULT (OYAK)</td>\n",
       "      <td>2009</td>\n",
       "      <td>İSTANBUL</td>\n",
       "      <td>1087.064</td>\n",
       "      <td>1192.389</td>\n",
       "    </tr>\n",
       "    <tr>\n",
       "      <th>1</th>\n",
       "      <td>Not Renewed</td>\n",
       "      <td>RENAULT (OYAK)</td>\n",
       "      <td>2011</td>\n",
       "      <td>İSTANBUL</td>\n",
       "      <td>603.900</td>\n",
       "      <td>751.245</td>\n",
       "    </tr>\n",
       "    <tr>\n",
       "      <th>2</th>\n",
       "      <td>Not Renewed</td>\n",
       "      <td>MERCEDES</td>\n",
       "      <td>2009</td>\n",
       "      <td>İSTANBUL</td>\n",
       "      <td>1514.986</td>\n",
       "      <td>1710.786</td>\n",
       "    </tr>\n",
       "    <tr>\n",
       "      <th>3</th>\n",
       "      <td>Not Renewed</td>\n",
       "      <td>HYUNDAI</td>\n",
       "      <td>2005</td>\n",
       "      <td>İZMİR</td>\n",
       "      <td>682.099</td>\n",
       "      <td>942.865</td>\n",
       "    </tr>\n",
       "    <tr>\n",
       "      <th>4</th>\n",
       "      <td>Not Renewed</td>\n",
       "      <td>TOFAS-FIAT</td>\n",
       "      <td>2013</td>\n",
       "      <td>İSTANBUL</td>\n",
       "      <td>1413.456</td>\n",
       "      <td>1382.150</td>\n",
       "    </tr>\n",
       "  </tbody>\n",
       "</table>\n",
       "</div>"
      ],
      "text/plain": [
       "  RenewalResult    VehicleBrand  VehicleModelYear VehiclePlateCityName  \\\n",
       "0   Not Renewed  RENAULT (OYAK)              2009             İSTANBUL   \n",
       "1   Not Renewed  RENAULT (OYAK)              2011             İSTANBUL   \n",
       "2   Not Renewed        MERCEDES              2009             İSTANBUL   \n",
       "3   Not Renewed         HYUNDAI              2005                İZMİR   \n",
       "4   Not Renewed      TOFAS-FIAT              2013             İSTANBUL   \n",
       "\n",
       "   ExsistingPolicyGrossPremium  New Price  \n",
       "0                     1087.064   1192.389  \n",
       "1                      603.900    751.245  \n",
       "2                     1514.986   1710.786  \n",
       "3                      682.099    942.865  \n",
       "4                     1413.456   1382.150  "
      ]
     },
     "execution_count": 7,
     "metadata": {},
     "output_type": "execute_result"
    }
   ],
   "source": [
    "df.head()"
   ]
  },
  {
   "cell_type": "code",
   "execution_count": 8,
   "metadata": {},
   "outputs": [
    {
     "data": {
      "text/plain": [
       "RenewalResult\n",
       "Not Renewed    1041\n",
       "Renewed        1754\n",
       "dtype: int64"
      ]
     },
     "execution_count": 8,
     "metadata": {},
     "output_type": "execute_result"
    }
   ],
   "source": [
    "#tek değişkenli analizlere bakalım\n",
    "df[['RenewalResult']].groupby(['RenewalResult']).size()\n",
    "#yenileme sayıları aşağıdaki gibi"
   ]
  },
  {
   "cell_type": "code",
   "execution_count": 9,
   "metadata": {},
   "outputs": [
    {
     "name": "stdout",
     "output_type": "stream",
     "text": [
      "62.75491949910554\n"
     ]
    }
   ],
   "source": [
    "#1.Question\n",
    "renewal_rate=(1754/2795)*100\n",
    "print(renewal_rate)"
   ]
  },
  {
   "cell_type": "code",
   "execution_count": 10,
   "metadata": {},
   "outputs": [
    {
     "data": {
      "text/plain": [
       "<matplotlib.axes._subplots.AxesSubplot at 0x2a99d7ac978>"
      ]
     },
     "execution_count": 10,
     "metadata": {},
     "output_type": "execute_result"
    },
    {
     "data": {
      "image/png": "[encoded data removed]",
      "text/plain": [
       "<Figure size 432x288 with 1 Axes>"
      ]
     },
     "metadata": {
      "needs_background": "light"
     },
     "output_type": "display_data"
    }
   ],
   "source": [
    "df['RenewalResult'].value_counts().plot(kind='bar')\n",
    "#yenileme yapanlar daha fazla bir kitle"
   ]
  },
  {
   "cell_type": "code",
   "execution_count": 11,
   "metadata": {},
   "outputs": [
    {
     "data": {
      "text/plain": [
       "VehicleBrand\n",
       "RENAULT (OYAK)                382\n",
       "VOLKSWAGEN                    335\n",
       "OPEL                          301\n",
       "FORD                          255\n",
       "TOYOTA                        243\n",
       "TOFAS-FIAT                    239\n",
       "HYUNDAI                       201\n",
       "HONDA                         120\n",
       "RENAULT                       102\n",
       "FIAT                           61\n",
       "NISSAN                         60\n",
       "CITROEN                        60\n",
       "SEAT                           59\n",
       "SKODA                          54\n",
       "DACIA                          53\n",
       "CHEVROLET                      52\n",
       "KIA                            48\n",
       "PEUGEOT                        45\n",
       "BMW                            23\n",
       "VOLVO                          22\n",
       "MERCEDES                       20\n",
       "MAZDA                          14\n",
       "SUZUKI                         12\n",
       "MITSUBISHI                     11\n",
       "AUDI                            6\n",
       "SUBARU                          5\n",
       "LANCIA                          4\n",
       "DAIHATSU                        3\n",
       "LADA                            1\n",
       "MINI                            1\n",
       "CHRYSLER DODGE/FARGO/DESOT      1\n",
       "CHRYSLER                        1\n",
       "ALFA ROMEO                      1\n",
       "dtype: int64"
      ]
     },
     "execution_count": 11,
     "metadata": {},
     "output_type": "execute_result"
    }
   ],
   "source": [
    "df[['VehicleBrand']].groupby(['VehicleBrand']).size().sort_values(ascending=False)\n",
    "#en çok araba modelimiz renault,volkswagen,opel,ford dan oluşuyor."
   ]
  },
  {
   "cell_type": "code",
   "execution_count": 12,
   "metadata": {},
   "outputs": [
    {
     "data": {
      "text/plain": [
       "<matplotlib.axes._subplots.AxesSubplot at 0x2a99d82e550>"
      ]
     },
     "execution_count": 12,
     "metadata": {},
     "output_type": "execute_result"
    },
    {
     "data": {
      "image/png": "[encoded data removed]",
      "text/plain": [
       "<Figure size 432x288 with 1 Axes>"
      ]
     },
     "metadata": {
      "needs_background": "light"
     },
     "output_type": "display_data"
    }
   ],
   "source": [
    "#Ürün gamımız da araç modeli olarak renault,volkswagen,opel\n",
    "#ve ford başı çekmektedir\n",
    "df['VehicleBrand'].value_counts().sort_values(ascending=False).plot(kind='bar')"
   ]
  },
  {
   "cell_type": "code",
   "execution_count": 13,
   "metadata": {},
   "outputs": [
    {
     "data": {
      "text/plain": [
       "VehiclePlateCityName\n",
       "İSTANBUL           1362\n",
       "ANKARA              362\n",
       "İZMİR               133\n",
       "BURSA               133\n",
       "ANTALYA              76\n",
       "BALIKESİR            45\n",
       "ADANA                41\n",
       "ESKİŞEHİR            40\n",
       "MERSİN               38\n",
       "TEKIRDAG             35\n",
       "KONYA                33\n",
       "KOCAELİ              31\n",
       "MANİSA               31\n",
       "AYDIN                30\n",
       "MUĞLA                26\n",
       "DENİZLİ              24\n",
       "KÜTAHYA              17\n",
       "GAZİANTEP            17\n",
       "K.MARAŞ              16\n",
       "SAMSUN               16\n",
       "EDİRNE               16\n",
       "KARABÜK              15\n",
       "ZONGULDAK            14\n",
       "MALATYA              14\n",
       "KAYSERİ              13\n",
       "TOKAT                13\n",
       "ÇANAKKALE            12\n",
       "AFYON KARAHİSAR      12\n",
       "TRABZON              12\n",
       "KASTAMONU            12\n",
       "HATAY                10\n",
       "KIRKLARELİ           10\n",
       "SAKARYA              10\n",
       "ORDU                  9\n",
       "YALOVA                8\n",
       "SİNOP                 7\n",
       "SIVAS                 7\n",
       "AKSARAY               6\n",
       "BOLU                  6\n",
       "BURDUR                6\n",
       "UŞAK                  6\n",
       "BİLECİK               6\n",
       "KIRIKKALE             6\n",
       "ISPARTA               6\n",
       "AMASYA                5\n",
       "ÇANKIRI               5\n",
       "RİZE                  5\n",
       "GİRESUN               5\n",
       "NEVŞEHİR              5\n",
       "KIRŞEHİR              4\n",
       "NİĞDE                 4\n",
       "OSMANİYE              4\n",
       "GÜMÜŞHANE             3\n",
       "ÇORUM                 3\n",
       "YOZGAT                3\n",
       "DÜZCE                 3\n",
       "KARAMAN               2\n",
       "BARTIN                2\n",
       "dtype: int64"
      ]
     },
     "execution_count": 13,
     "metadata": {},
     "output_type": "execute_result"
    }
   ],
   "source": [
    "df[['VehiclePlateCityName']].groupby(['VehiclePlateCityName']).size().sort_values(ascending=False)\n",
    "#en çok müşterimiz istanbuldan"
   ]
  },
  {
   "cell_type": "code",
   "execution_count": 14,
   "metadata": {},
   "outputs": [
    {
     "data": {
      "text/plain": [
       "VehicleModelYear\n",
       "2015    414\n",
       "2013    410\n",
       "2012    378\n",
       "2011    365\n",
       "2014    227\n",
       "2016    176\n",
       "2010    170\n",
       "2009    147\n",
       "2008    129\n",
       "2007    101\n",
       "2006    100\n",
       "2004     70\n",
       "2005     57\n",
       "2017     18\n",
       "2001     11\n",
       "2000      7\n",
       "2003      6\n",
       "2002      4\n",
       "1999      2\n",
       "1998      1\n",
       "2018      1\n",
       "1997      1\n",
       "dtype: int64"
      ]
     },
     "execution_count": 14,
     "metadata": {},
     "output_type": "execute_result"
    }
   ],
   "source": [
    "df[['VehicleModelYear']].groupby(['VehicleModelYear']).size().sort_values(ascending=False)\n",
    "#en çok 2015 yılı araba modellerini kaskolamışız"
   ]
  },
  {
   "cell_type": "code",
   "execution_count": 15,
   "metadata": {},
   "outputs": [
    {
     "data": {
      "text/plain": [
       "<matplotlib.axes._subplots.AxesSubplot at 0x2a99d9342e8>"
      ]
     },
     "execution_count": 15,
     "metadata": {},
     "output_type": "execute_result"
    },
    {
     "data": {
      "image/png": "[encoded data removed]",
      "text/plain": [
       "<Figure size 432x288 with 1 Axes>"
      ]
     },
     "metadata": {
      "needs_background": "light"
     },
     "output_type": "display_data"
    }
   ],
   "source": [
    "df['VehicleModelYear'].value_counts().plot(kind='bar')"
   ]
  },
  {
   "cell_type": "code",
   "execution_count": 16,
   "metadata": {},
   "outputs": [
    {
     "data": {
      "text/html": [
       "<div>\n",
       "<style scoped>\n",
       "    .dataframe tbody tr th:only-of-type {\n",
       "        vertical-align: middle;\n",
       "    }\n",
       "\n",
       "    .dataframe tbody tr th {\n",
       "        vertical-align: top;\n",
       "    }\n",
       "\n",
       "    .dataframe thead th {\n",
       "        text-align: right;\n",
       "    }\n",
       "</style>\n",
       "<table border=\"1\" class=\"dataframe\">\n",
       "  <thead>\n",
       "    <tr style=\"text-align: right;\">\n",
       "      <th></th>\n",
       "      <th>ExsistingPolicyGrossPremium</th>\n",
       "    </tr>\n",
       "  </thead>\n",
       "  <tbody>\n",
       "    <tr>\n",
       "      <th>count</th>\n",
       "      <td>2795.000000</td>\n",
       "    </tr>\n",
       "    <tr>\n",
       "      <th>mean</th>\n",
       "      <td>930.321639</td>\n",
       "    </tr>\n",
       "    <tr>\n",
       "      <th>std</th>\n",
       "      <td>343.109501</td>\n",
       "    </tr>\n",
       "    <tr>\n",
       "      <th>min</th>\n",
       "      <td>506.737000</td>\n",
       "    </tr>\n",
       "    <tr>\n",
       "      <th>25%</th>\n",
       "      <td>686.323000</td>\n",
       "    </tr>\n",
       "    <tr>\n",
       "      <th>50%</th>\n",
       "      <td>811.492000</td>\n",
       "    </tr>\n",
       "    <tr>\n",
       "      <th>75%</th>\n",
       "      <td>1105.203000</td>\n",
       "    </tr>\n",
       "    <tr>\n",
       "      <th>max</th>\n",
       "      <td>3115.607000</td>\n",
       "    </tr>\n",
       "  </tbody>\n",
       "</table>\n",
       "</div>"
      ],
      "text/plain": [
       "       ExsistingPolicyGrossPremium\n",
       "count                  2795.000000\n",
       "mean                    930.321639\n",
       "std                     343.109501\n",
       "min                     506.737000\n",
       "25%                     686.323000\n",
       "50%                     811.492000\n",
       "75%                    1105.203000\n",
       "max                    3115.607000"
      ]
     },
     "execution_count": 16,
     "metadata": {},
     "output_type": "execute_result"
    }
   ],
   "source": [
    "df[['ExsistingPolicyGrossPremium']].describe()\n",
    "#mevcut policelere bakarsak ortalamamız 930 lira civarında,500-3100 lira arasında değişim göstermekte."
   ]
  },
  {
   "cell_type": "code",
   "execution_count": 17,
   "metadata": {},
   "outputs": [
    {
     "data": {
      "text/plain": [
       "<matplotlib.axes._subplots.AxesSubplot at 0x2a99d9c7b70>"
      ]
     },
     "execution_count": 17,
     "metadata": {},
     "output_type": "execute_result"
    },
    {
     "data": {
      "image/png": "[encoded data removed]",
      "text/plain": [
       "<Figure size 432x288 with 1 Axes>"
      ]
     },
     "metadata": {
      "needs_background": "light"
     },
     "output_type": "display_data"
    }
   ],
   "source": [
    "df.boxplot('ExsistingPolicyGrossPremium')"
   ]
  },
  {
   "cell_type": "code",
   "execution_count": 18,
   "metadata": {},
   "outputs": [
    {
     "data": {
      "image/png": "[encoded data removed]",
      "text/plain": [
       "<Figure size 432x288 with 1 Axes>"
      ]
     },
     "metadata": {
      "needs_background": "light"
     },
     "output_type": "display_data"
    }
   ],
   "source": [
    "#mevcut police ücretlerinin normal dağılıp dağılmadınna bakalım\n",
    "from matplotlib import pyplot\n",
    "pyplot.hist(df['ExsistingPolicyGrossPremium'])\n",
    "pyplot.show()"
   ]
  },
  {
   "cell_type": "code",
   "execution_count": 19,
   "metadata": {},
   "outputs": [
    {
     "name": "stdout",
     "output_type": "stream",
     "text": [
      "Statistics=0.865, p=0.000\n",
      "Sample does not look Gaussian (reject H0)\n"
     ]
    }
   ],
   "source": [
    "#right skewed yani sağa çarpık bir dağılım sözkonusu\n",
    "#normal dağılıma uygunluk için test yapalım\n",
    "# Shapiro-Wilk Test\n",
    "from numpy.random import seed\n",
    "from scipy.stats import shapiro\n",
    "# seed the random number generator\n",
    "seed(1)\n",
    "# normality test\n",
    "stat, p = shapiro(df['ExsistingPolicyGrossPremium'])\n",
    "print('Statistics=%.3f, p=%.3f' % (stat, p))\n",
    "# interpret\n",
    "alpha = 0.05\n",
    "if p > alpha:\n",
    "    print('Sample looks Gaussian (fail to reject H0)')\n",
    "else:\n",
    "    print('Sample does not look Gaussian (reject H0)')\n",
    "    \n",
    "#Poliçe ücretleri medyanı yaklaşık 800 lira civarıdır\n",
    "#sağa çarpık normal olmayan bir dağılıma sahiptir\n",
    "#burdan çok yüksek ücretli ürünler satmadığımız sonucunu çıkarabiliriz"
   ]
  },
  {
   "cell_type": "code",
   "execution_count": 20,
   "metadata": {},
   "outputs": [
    {
     "name": "stdout",
     "output_type": "stream",
     "text": [
      "Statistics=4196.018, p=0.000\n",
      "Different distributions (reject H0)\n"
     ]
    },
    {
     "name": "stderr",
     "output_type": "stream",
     "text": [
      "C:\\Users\\User\\Anaconda3\\lib\\site-packages\\scipy\\stats\\stats.py:245: RuntimeWarning: The input array could not be properly checked for nan values. nan values will be ignored.\n",
      "  \"values. nan values will be ignored.\", RuntimeWarning)\n"
     ]
    }
   ],
   "source": [
    "#mevcut police ücretlerimiz normal dağılıma uymuyor.\n",
    "#normal dağılıma uymadığı varsayımı altında mevcut police ücretlerinin araba modelleri ile arasında bir ilişki varmı diye\n",
    "#test yapalım\n",
    "# Kruskal-Wallis H-test\n",
    "from numpy.random import seed\n",
    "from scipy.stats import kruskal\n",
    "# seed the random number generator\n",
    "seed(1)\n",
    "# compare samples\n",
    "stat, p = kruskal(df['ExsistingPolicyGrossPremium'], list(df['VehicleBrand']))\n",
    "print('Statistics=%.3f, p=%.3f' % (stat, p))\n",
    "# interpret\n",
    "alpha = 0.05\n",
    "if p > alpha:\n",
    "    print('Same distributions (fail to reject H0)')\n",
    "else:\n",
    "    print('Different distributions (reject H0)')"
   ]
  },
  {
   "cell_type": "code",
   "execution_count": 21,
   "metadata": {},
   "outputs": [],
   "source": [
    "#mevcut poliçe ücretlerinin normal dağılmadığı varsayımı altında\n",
    "#araba modellerine göre değişkenlik gösterip göstermediğine bakmak\n",
    "#için istatistiksel test uıygulanmış ve araç modellerine göre\n",
    "#uygulanan fiyatların farklı olduğu sonucuna ulaşılmıştır.\n"
   ]
  },
  {
   "cell_type": "code",
   "execution_count": 22,
   "metadata": {},
   "outputs": [
    {
     "data": {
      "text/plain": [
       "<matplotlib.axes._subplots.AxesSubplot at 0x2a99f51fb00>"
      ]
     },
     "execution_count": 22,
     "metadata": {},
     "output_type": "execute_result"
    },
    {
     "data": {
      "image/png": "[encoded data removed]",
      "text/plain": [
       "<Figure size 1080x504 with 1 Axes>"
      ]
     },
     "metadata": {
      "needs_background": "light"
     },
     "output_type": "display_data"
    }
   ],
   "source": [
    "#araba modeline ve yenileme durumlarına göre ortalama uygulanan mevcut fiyatlara bakalım\n",
    "#yüksek fiyatlar ödeyen müşteri iptal ediyor gibi gözüküyor.\n",
    "fig, ax = plt.subplots(figsize=(15,7))\n",
    "df.groupby(['VehicleBrand','RenewalResult']).mean()['ExsistingPolicyGrossPremium'].unstack().plot(kind='bar',ax=ax)"
   ]
  },
  {
   "cell_type": "code",
   "execution_count": 23,
   "metadata": {},
   "outputs": [
    {
     "data": {
      "text/plain": [
       "<matplotlib.axes._subplots.AxesSubplot at 0x2a99daa80b8>"
      ]
     },
     "execution_count": 23,
     "metadata": {},
     "output_type": "execute_result"
    },
    {
     "data": {
      "image/png": "[encoded data removed]",
      "text/plain": [
       "<Figure size 1080x504 with 1 Axes>"
      ]
     },
     "metadata": {
      "needs_background": "light"
     },
     "output_type": "display_data"
    }
   ],
   "source": [
    "#araba model yılına ve yenileme durumuna göre baktığımızda 2015 yılı ve sonrası araba modelleri için yüksek fiyat uygulamasıyla \n",
    "#birlikte iptallerin arttığı görülüyor.\n",
    "fig, ax = plt.subplots(figsize=(15,7))\n",
    "df.groupby(['VehicleModelYear','RenewalResult']).mean()['ExsistingPolicyGrossPremium'].unstack().plot(ax=ax)"
   ]
  },
  {
   "cell_type": "code",
   "execution_count": 24,
   "metadata": {},
   "outputs": [
    {
     "data": {
      "text/plain": [
       "<matplotlib.axes._subplots.AxesSubplot at 0x2a99db4bcf8>"
      ]
     },
     "execution_count": 24,
     "metadata": {},
     "output_type": "execute_result"
    },
    {
     "data": {
      "image/png": "[encoded data removed]",
      "text/plain": [
       "<Figure size 1080x504 with 1 Axes>"
      ]
     },
     "metadata": {
      "needs_background": "light"
     },
     "output_type": "display_data"
    }
   ],
   "source": [
    "#araba model yılına ve yenileme durumu sayılarına göre baktığımızda 2015 yılı ve sonrası araba modellerinde yüksek oranda \n",
    "#müşteri iptalivar\n",
    "# plot data\n",
    "fig, ax = plt.subplots(figsize=(15,7))\n",
    "# use unstack()\n",
    "df.groupby(['VehicleModelYear','RenewalResult']).size().unstack().plot(ax=ax)"
   ]
  },
  {
   "cell_type": "code",
   "execution_count": 25,
   "metadata": {},
   "outputs": [
    {
     "name": "stdout",
     "output_type": "stream",
     "text": [
      "Statistics=8.034, p=0.000\n",
      "Different distributions (reject H0)\n"
     ]
    }
   ],
   "source": [
    "#fiyat yükseliği her iki grafikte de churn u etkiliyor diye gözüküyor.yaşı genç araba sahiplerinin hızla churn ettikleri görülüyor.\n",
    "#istatistiksel test ile aralarında anlamlı bir fark olup olmadığına bakalım.\n",
    "\n",
    "t1=df[['RenewalResult','ExsistingPolicyGrossPremium']]\n",
    "\n",
    "tnr=t1[t1['RenewalResult'] == 'Not Renewed']['ExsistingPolicyGrossPremium']\n",
    "tr=t1[t1['RenewalResult'] == 'Renewed']['ExsistingPolicyGrossPremium']\n",
    "\n",
    "from scipy.stats import ttest_ind\n",
    "\n",
    "stat, p = ttest_ind(tnr, tr)\n",
    "print('Statistics=%.3f, p=%.3f' % (stat, p))\n",
    "# interpret\n",
    "alpha = 0.05\n",
    "if p > alpha:\n",
    "    print('Same distributions (fail to reject H0)')\n",
    "else:\n",
    "    print('Different distributions (reject H0)')\n",
    "\n",
    "#istatistiksel teste göre mevcut police fiyatları arasındaki farklılık müşteri iptalini etkiliyor.\n",
    "#iptal yapan ve yapmayan kitlenin dağılımları farklı"
   ]
  },
  {
   "cell_type": "code",
   "execution_count": 26,
   "metadata": {},
   "outputs": [
    {
     "data": {
      "text/plain": [
       "RenewalResult\n",
       "Not Renewed    997.245682\n",
       "Renewed        890.602181\n",
       "Name: ExsistingPolicyGrossPremium, dtype: float64"
      ]
     },
     "execution_count": 26,
     "metadata": {},
     "output_type": "execute_result"
    }
   ],
   "source": [
    "#yenileme durumlarına göre ortalama police fiyatları\n",
    "df.groupby(['RenewalResult']).mean()['ExsistingPolicyGrossPremium']"
   ]
  },
  {
   "cell_type": "code",
   "execution_count": 27,
   "metadata": {},
   "outputs": [],
   "source": [
    "#churn edenler ile etmeyenler arasındaki mevcut poliçe\n",
    "#ücretleri arasında fark olup olmadığına dair istatistiksel\n",
    "#test yaptığımızda iki grubun ücretleri arasında anlamlı bir\n",
    "#fark görünüyor.\n",
    "#sözleşme yenilemeyenler daha yüksek ücret ödeyen kitledir\n"
   ]
  },
  {
   "cell_type": "code",
   "execution_count": 28,
   "metadata": {},
   "outputs": [
    {
     "data": {
      "text/html": [
       "<div>\n",
       "<style scoped>\n",
       "    .dataframe tbody tr th:only-of-type {\n",
       "        vertical-align: middle;\n",
       "    }\n",
       "\n",
       "    .dataframe tbody tr th {\n",
       "        vertical-align: top;\n",
       "    }\n",
       "\n",
       "    .dataframe thead tr th {\n",
       "        text-align: left;\n",
       "    }\n",
       "\n",
       "    .dataframe thead tr:last-of-type th {\n",
       "        text-align: right;\n",
       "    }\n",
       "</style>\n",
       "<table border=\"1\" class=\"dataframe\">\n",
       "  <thead>\n",
       "    <tr>\n",
       "      <th></th>\n",
       "      <th colspan=\"8\" halign=\"left\">ExsistingPolicyGrossPremium</th>\n",
       "    </tr>\n",
       "    <tr>\n",
       "      <th></th>\n",
       "      <th>count</th>\n",
       "      <th>mean</th>\n",
       "      <th>std</th>\n",
       "      <th>min</th>\n",
       "      <th>25%</th>\n",
       "      <th>50%</th>\n",
       "      <th>75%</th>\n",
       "      <th>max</th>\n",
       "    </tr>\n",
       "    <tr>\n",
       "      <th>RenewalResult</th>\n",
       "      <th></th>\n",
       "      <th></th>\n",
       "      <th></th>\n",
       "      <th></th>\n",
       "      <th></th>\n",
       "      <th></th>\n",
       "      <th></th>\n",
       "      <th></th>\n",
       "    </tr>\n",
       "  </thead>\n",
       "  <tbody>\n",
       "    <tr>\n",
       "      <th>Not Renewed</th>\n",
       "      <td>1041.0</td>\n",
       "      <td>997.245682</td>\n",
       "      <td>376.120421</td>\n",
       "      <td>506.737</td>\n",
       "      <td>710.8750</td>\n",
       "      <td>875.754</td>\n",
       "      <td>1222.51800</td>\n",
       "      <td>2766.742</td>\n",
       "    </tr>\n",
       "    <tr>\n",
       "      <th>Renewed</th>\n",
       "      <td>1754.0</td>\n",
       "      <td>890.602181</td>\n",
       "      <td>315.384528</td>\n",
       "      <td>516.241</td>\n",
       "      <td>675.2295</td>\n",
       "      <td>785.433</td>\n",
       "      <td>1015.35225</td>\n",
       "      <td>3115.607</td>\n",
       "    </tr>\n",
       "  </tbody>\n",
       "</table>\n",
       "</div>"
      ],
      "text/plain": [
       "              ExsistingPolicyGrossPremium                                   \\\n",
       "                                    count        mean         std      min   \n",
       "RenewalResult                                                                \n",
       "Not Renewed                        1041.0  997.245682  376.120421  506.737   \n",
       "Renewed                            1754.0  890.602181  315.384528  516.241   \n",
       "\n",
       "                                                        \n",
       "                    25%      50%         75%       max  \n",
       "RenewalResult                                           \n",
       "Not Renewed    710.8750  875.754  1222.51800  2766.742  \n",
       "Renewed        675.2295  785.433  1015.35225  3115.607  "
      ]
     },
     "execution_count": 28,
     "metadata": {},
     "output_type": "execute_result"
    }
   ],
   "source": [
    "#sozlesme yenileyenler ile yenilemeyenlerin mevcut police ücretleri bazında istatiski özeti\n",
    "df[['ExsistingPolicyGrossPremium','RenewalResult']].groupby(['RenewalResult']).describe()\n",
    "#yenileme yapmayanlar ortalama 100 lira daha fazla ödeyen bir kilte olarak karşımıza çıkıyor."
   ]
  },
  {
   "cell_type": "code",
   "execution_count": 29,
   "metadata": {},
   "outputs": [],
   "source": [
    "#acaba farklılık model yılından mı kaynaklanmaktadır ? Sonuçta eski arabaların police ücretlerinin daha düşük olması beklenir\n",
    "q1=pd.DataFrame(df[['VehicleModelYear','ExsistingPolicyGrossPremium','RenewalResult']].groupby(['RenewalResult','VehicleModelYear']).mean()['ExsistingPolicyGrossPremium'])\n",
    "q2=q1.add_suffix('_Mean').reset_index()\n",
    "q3=q2.drop(q2.index[[18,19,20,39]])"
   ]
  },
  {
   "cell_type": "code",
   "execution_count": 70,
   "metadata": {},
   "outputs": [
    {
     "data": {
      "text/html": [
       "<div>\n",
       "<style scoped>\n",
       "    .dataframe tbody tr th:only-of-type {\n",
       "        vertical-align: middle;\n",
       "    }\n",
       "\n",
       "    .dataframe tbody tr th {\n",
       "        vertical-align: top;\n",
       "    }\n",
       "\n",
       "    .dataframe thead th {\n",
       "        text-align: right;\n",
       "    }\n",
       "</style>\n",
       "<table border=\"1\" class=\"dataframe\">\n",
       "  <thead>\n",
       "    <tr style=\"text-align: right;\">\n",
       "      <th></th>\n",
       "      <th>RenewalResult</th>\n",
       "      <th>VehicleModelYear</th>\n",
       "      <th>ExsistingPolicyGrossPremium_Mean</th>\n",
       "    </tr>\n",
       "  </thead>\n",
       "  <tbody>\n",
       "    <tr>\n",
       "      <th>0</th>\n",
       "      <td>Not Renewed</td>\n",
       "      <td>2000</td>\n",
       "      <td>506.737000</td>\n",
       "    </tr>\n",
       "    <tr>\n",
       "      <th>1</th>\n",
       "      <td>Not Renewed</td>\n",
       "      <td>2001</td>\n",
       "      <td>906.499000</td>\n",
       "    </tr>\n",
       "    <tr>\n",
       "      <th>2</th>\n",
       "      <td>Not Renewed</td>\n",
       "      <td>2002</td>\n",
       "      <td>516.945000</td>\n",
       "    </tr>\n",
       "    <tr>\n",
       "      <th>3</th>\n",
       "      <td>Not Renewed</td>\n",
       "      <td>2003</td>\n",
       "      <td>738.567500</td>\n",
       "    </tr>\n",
       "    <tr>\n",
       "      <th>4</th>\n",
       "      <td>Not Renewed</td>\n",
       "      <td>2004</td>\n",
       "      <td>686.464167</td>\n",
       "    </tr>\n",
       "  </tbody>\n",
       "</table>\n",
       "</div>"
      ],
      "text/plain": [
       "  RenewalResult  VehicleModelYear  ExsistingPolicyGrossPremium_Mean\n",
       "0   Not Renewed              2000                        506.737000\n",
       "1   Not Renewed              2001                        906.499000\n",
       "2   Not Renewed              2002                        516.945000\n",
       "3   Not Renewed              2003                        738.567500\n",
       "4   Not Renewed              2004                        686.464167"
      ]
     },
     "execution_count": 70,
     "metadata": {},
     "output_type": "execute_result"
    }
   ],
   "source": [
    "q3.head()"
   ]
  },
  {
   "cell_type": "code",
   "execution_count": 31,
   "metadata": {},
   "outputs": [
    {
     "data": {
      "text/plain": [
       "<matplotlib.axes._subplots.AxesSubplot at 0x2a99f8b7ba8>"
      ]
     },
     "execution_count": 31,
     "metadata": {},
     "output_type": "execute_result"
    },
    {
     "data": {
      "image/png": "[encoded data removed]",
      "text/plain": [
       "<Figure size 1080x504 with 1 Axes>"
      ]
     },
     "metadata": {
      "needs_background": "light"
     },
     "output_type": "display_data"
    }
   ],
   "source": [
    "fig, ax = plt.subplots(figsize=(15,7))\n",
    "# use unstack()\n",
    "q3.groupby(['VehicleModelYear','RenewalResult']).mean()['ExsistingPolicyGrossPremium_Mean'].unstack().plot(kind='bar',ax=ax)"
   ]
  },
  {
   "cell_type": "code",
   "execution_count": 32,
   "metadata": {},
   "outputs": [],
   "source": [
    "#model yılı olarak police ücretlerinde hep bir artış söz konusu,burda yine churn edenlerin police fiyatları daha çok çıkmış.\n",
    "#neden ?\n",
    "#model yılı bazında iptallerin iptal etmeyenlere göre ödedikleri farklı bulalım"
   ]
  },
  {
   "cell_type": "code",
   "execution_count": 36,
   "metadata": {},
   "outputs": [],
   "source": [
    "yil=list(q3.iloc[:,1])\n",
    "renewal=list(q3.iloc[:,0])\n",
    "ExsistingPolicyGrossPremium_Mean=list(q3.iloc[:,2])\n",
    "chng={}\n",
    "chng=list(zip(zip(renewal,yil),ExsistingPolicyGrossPremium_Mean))\n",
    "chng=dict(chng)\n",
    "\n",
    "r_list=[]\n",
    "for key in chng.items():\n",
    "    r_list.append(key[0][0])\n",
    "\n",
    "r_list=list(set(r_list))\n",
    "\n",
    "y_list=[]\n",
    "for key in chng.items():\n",
    "    y_list.append(key[0][1])\n",
    "\n",
    "y_list=list(set(y_list))\n",
    "\n",
    "deg={}\n",
    "for i in y_list:\n",
    "    deg[i]=(chng[(r_list[0],i)]-chng[(r_list[1],i)])/chng[(r_list[1],i)]*100"
   ]
  },
  {
   "cell_type": "code",
   "execution_count": 37,
   "metadata": {},
   "outputs": [
    {
     "data": {
      "text/plain": [
       "OrderedDict([(2017, 17.41881013071054),\n",
       "             (2016, 9.920899754710549),\n",
       "             (2015, 17.594229988610596),\n",
       "             (2014, 3.350305175388446),\n",
       "             (2013, 12.61534875591579),\n",
       "             (2012, 10.911926755124957),\n",
       "             (2011, 10.365406232464744),\n",
       "             (2010, 17.347428373311715),\n",
       "             (2009, 24.794686380862174),\n",
       "             (2008, 10.763126504104958),\n",
       "             (2007, -6.662427575195908),\n",
       "             (2006, -2.9445548155481998),\n",
       "             (2005, 23.917385526501295),\n",
       "             (2004, 1.3922108057638185),\n",
       "             (2003, 10.124734498396759),\n",
       "             (2002, -17.926521868214408),\n",
       "             (2001, 32.63775860230522),\n",
       "             (2000, -28.389553862894452)])"
      ]
     },
     "execution_count": 37,
     "metadata": {},
     "output_type": "execute_result"
    }
   ],
   "source": [
    "from collections import OrderedDict\n",
    "d_sorted_by_value = OrderedDict(sorted(deg.items(), key=lambda x: x[0],reverse=True))\n",
    "d_sorted_by_value\n",
    "#araç model yılları bazında iptal edenler etmeyenlere göre daha faza ücret ödemeektedir."
   ]
  },
  {
   "cell_type": "code",
   "execution_count": 38,
   "metadata": {},
   "outputs": [
    {
     "name": "stdout",
     "output_type": "stream",
     "text": [
      "VehicleModelYear\n",
      "2015    164\n",
      "2013    162\n",
      "2011    143\n",
      "2012    140\n",
      "2014     84\n",
      "2010     59\n",
      "2009     57\n",
      "2008     54\n",
      "2016     52\n",
      "2006     41\n",
      "2007     38\n",
      "2004     18\n",
      "2005     14\n",
      "2017      8\n",
      "2001      3\n",
      "2003      2\n",
      "2002      1\n",
      "2000      1\n",
      "dtype: int64\n"
     ]
    }
   ],
   "source": [
    "#en çok iptal eden model yılları\n",
    "s1=df[df['RenewalResult'] == 'Not Renewed'].groupby(['VehicleModelYear']).size().sort_values(ascending=False)\n",
    "print(s1)"
   ]
  },
  {
   "cell_type": "code",
   "execution_count": 39,
   "metadata": {},
   "outputs": [
    {
     "data": {
      "text/plain": [
       "OrderedDict([(2001, [32.63775860230522, 3]),\n",
       "             (2009, [24.794686380862174, 57]),\n",
       "             (2005, [23.917385526501295, 14]),\n",
       "             (2015, [17.594229988610596, 164]),\n",
       "             (2017, [17.41881013071054, 8]),\n",
       "             (2010, [17.347428373311715, 59]),\n",
       "             (2013, [12.61534875591579, 162]),\n",
       "             (2012, [10.911926755124957, 140]),\n",
       "             (2008, [10.763126504104958, 54]),\n",
       "             (2011, [10.365406232464744, 143]),\n",
       "             (2003, [10.124734498396759, 2]),\n",
       "             (2016, [9.920899754710549, 52]),\n",
       "             (2014, [3.350305175388446, 84]),\n",
       "             (2004, [1.3922108057638185, 18]),\n",
       "             (2006, [-2.9445548155481998, 41]),\n",
       "             (2007, [-6.662427575195908, 38]),\n",
       "             (2002, [-17.926521868214408, 1]),\n",
       "             (2000, [-28.389553862894452, 1])])"
      ]
     },
     "execution_count": 39,
     "metadata": {},
     "output_type": "execute_result"
    }
   ],
   "source": [
    "s1=dict(s1)\n",
    "combined = {key:[deg[key], s1[key]] for key in deg}\n",
    "c1 = OrderedDict(sorted(combined.items(), key=lambda x: x[1],reverse=True))\n",
    "c1"
   ]
  },
  {
   "cell_type": "code",
   "execution_count": 40,
   "metadata": {},
   "outputs": [
    {
     "data": {
      "text/html": [
       "<div>\n",
       "<style scoped>\n",
       "    .dataframe tbody tr th:only-of-type {\n",
       "        vertical-align: middle;\n",
       "    }\n",
       "\n",
       "    .dataframe tbody tr th {\n",
       "        vertical-align: top;\n",
       "    }\n",
       "\n",
       "    .dataframe thead th {\n",
       "        text-align: right;\n",
       "    }\n",
       "</style>\n",
       "<table border=\"1\" class=\"dataframe\">\n",
       "  <thead>\n",
       "    <tr style=\"text-align: right;\">\n",
       "      <th></th>\n",
       "      <th>0</th>\n",
       "      <th>1</th>\n",
       "    </tr>\n",
       "  </thead>\n",
       "  <tbody>\n",
       "    <tr>\n",
       "      <th>0</th>\n",
       "      <td>1.000000</td>\n",
       "      <td>0.233584</td>\n",
       "    </tr>\n",
       "    <tr>\n",
       "      <th>1</th>\n",
       "      <td>0.233584</td>\n",
       "      <td>1.000000</td>\n",
       "    </tr>\n",
       "  </tbody>\n",
       "</table>\n",
       "</div>"
      ],
      "text/plain": [
       "          0         1\n",
       "0  1.000000  0.233584\n",
       "1  0.233584  1.000000"
      ]
     },
     "execution_count": 40,
     "metadata": {},
     "output_type": "execute_result"
    }
   ],
   "source": [
    "x=pd.DataFrame(c1)\n",
    "x.transpose().corr()\n",
    "#araç model yıllarına göre iptal eden/etmeyen müşterilerin mevcut police ücret oranları ile model yılları bazındaki iptaller\n",
    "#arasında %23 lük bir korelasyon çıkmıştır."
   ]
  },
  {
   "cell_type": "code",
   "execution_count": 41,
   "metadata": {},
   "outputs": [],
   "source": [
    "#model yılları bazında çok anlamlı ipucu veren bir sonuçla karşılaşmadık.devam edelim."
   ]
  },
  {
   "cell_type": "code",
   "execution_count": 42,
   "metadata": {},
   "outputs": [
    {
     "data": {
      "text/html": [
       "<div>\n",
       "<style scoped>\n",
       "    .dataframe tbody tr th:only-of-type {\n",
       "        vertical-align: middle;\n",
       "    }\n",
       "\n",
       "    .dataframe tbody tr th {\n",
       "        vertical-align: top;\n",
       "    }\n",
       "\n",
       "    .dataframe thead th {\n",
       "        text-align: right;\n",
       "    }\n",
       "</style>\n",
       "<table border=\"1\" class=\"dataframe\">\n",
       "  <thead>\n",
       "    <tr style=\"text-align: right;\">\n",
       "      <th></th>\n",
       "      <th>RenewalResult</th>\n",
       "      <th>VehicleBrand</th>\n",
       "      <th>Most_Model_Year</th>\n",
       "      <th>Ort_Pol_Fiy</th>\n",
       "      <th>Ort_New_Price</th>\n",
       "      <th>RenewaL_Count</th>\n",
       "      <th>Ort_Fiyat_Degisim</th>\n",
       "    </tr>\n",
       "  </thead>\n",
       "  <tbody>\n",
       "    <tr>\n",
       "      <th>0</th>\n",
       "      <td>Not Renewed</td>\n",
       "      <td>ALFA ROMEO</td>\n",
       "      <td>2006</td>\n",
       "      <td>536.833000</td>\n",
       "      <td>643.159000</td>\n",
       "      <td>1</td>\n",
       "      <td>19.806159</td>\n",
       "    </tr>\n",
       "    <tr>\n",
       "      <th>1</th>\n",
       "      <td>Not Renewed</td>\n",
       "      <td>AUDI</td>\n",
       "      <td>2011</td>\n",
       "      <td>1224.949000</td>\n",
       "      <td>1259.016000</td>\n",
       "      <td>1</td>\n",
       "      <td>2.781095</td>\n",
       "    </tr>\n",
       "    <tr>\n",
       "      <th>2</th>\n",
       "      <td>Not Renewed</td>\n",
       "      <td>BMW</td>\n",
       "      <td>2013</td>\n",
       "      <td>1652.200000</td>\n",
       "      <td>1795.406250</td>\n",
       "      <td>12</td>\n",
       "      <td>8.667610</td>\n",
       "    </tr>\n",
       "    <tr>\n",
       "      <th>3</th>\n",
       "      <td>Not Renewed</td>\n",
       "      <td>CHEVROLET</td>\n",
       "      <td>2012</td>\n",
       "      <td>884.183882</td>\n",
       "      <td>896.385471</td>\n",
       "      <td>17</td>\n",
       "      <td>1.379983</td>\n",
       "    </tr>\n",
       "    <tr>\n",
       "      <th>4</th>\n",
       "      <td>Not Renewed</td>\n",
       "      <td>CHRYSLER DODGE/FARGO/DESOT</td>\n",
       "      <td>2008</td>\n",
       "      <td>1191.597000</td>\n",
       "      <td>947.529000</td>\n",
       "      <td>1</td>\n",
       "      <td>-20.482428</td>\n",
       "    </tr>\n",
       "  </tbody>\n",
       "</table>\n",
       "</div>"
      ],
      "text/plain": [
       "  RenewalResult                VehicleBrand  Most_Model_Year  Ort_Pol_Fiy  \\\n",
       "0   Not Renewed                  ALFA ROMEO             2006   536.833000   \n",
       "1   Not Renewed                        AUDI             2011  1224.949000   \n",
       "2   Not Renewed                         BMW             2013  1652.200000   \n",
       "3   Not Renewed                   CHEVROLET             2012   884.183882   \n",
       "4   Not Renewed  CHRYSLER DODGE/FARGO/DESOT             2008  1191.597000   \n",
       "\n",
       "   Ort_New_Price  RenewaL_Count  Ort_Fiyat_Degisim  \n",
       "0     643.159000              1          19.806159  \n",
       "1    1259.016000              1           2.781095  \n",
       "2    1795.406250             12           8.667610  \n",
       "3     896.385471             17           1.379983  \n",
       "4     947.529000              1         -20.482428  "
      ]
     },
     "execution_count": 42,
     "metadata": {},
     "output_type": "execute_result"
    }
   ],
   "source": [
    "#çok değişkenli incelemeye başlayalım\n",
    "from scipy import stats\n",
    "h1=df.groupby(['RenewalResult','VehicleBrand']).agg({'VehicleModelYear':lambda x:stats.mode(x)[0],'ExsistingPolicyGrossPremium':'mean','New Price':'mean','RenewalResult':'count'})\n",
    "h2=h1.add_suffix('_Count').reset_index()\n",
    "h2.columns = ['RenewalResult', 'VehicleBrand', 'Modest_Model_Year', 'Ort_Pol_Fiy', 'Ort_New_Price','RenewaL_Count']\n",
    "h2['Ort_Fiyat_Degisim']=(h2['Ort_New_Price']-h2['Ort_Pol_Fiy'])/h2['Ort_Pol_Fiy']*100\n",
    "h2.head()\n",
    "\n",
    "#yenileme durumu ve araç modelleri bazında,en çok gözlenen model yılı,ortalama mevcut policçe fiyatı,\n",
    "#yeni fiyat ortalaması,yenileme sayıları ve ortalama değişim miktarları hesaplanmıştır."
   ]
  },
  {
   "cell_type": "code",
   "execution_count": 43,
   "metadata": {},
   "outputs": [
    {
     "data": {
      "text/html": [
       "<div>\n",
       "<style scoped>\n",
       "    .dataframe tbody tr th:only-of-type {\n",
       "        vertical-align: middle;\n",
       "    }\n",
       "\n",
       "    .dataframe tbody tr th {\n",
       "        vertical-align: top;\n",
       "    }\n",
       "\n",
       "    .dataframe thead tr th {\n",
       "        text-align: left;\n",
       "    }\n",
       "</style>\n",
       "<table border=\"1\" class=\"dataframe\">\n",
       "  <thead>\n",
       "    <tr>\n",
       "      <th></th>\n",
       "      <th>RenewalResult</th>\n",
       "      <th colspan=\"3\" halign=\"left\">Ort_Pol_Fiy</th>\n",
       "      <th>Ort_New_Price</th>\n",
       "      <th>Ort_Fiyat_Degisim</th>\n",
       "      <th>RenewaL_Count</th>\n",
       "      <th colspan=\"2\" halign=\"left\">Most_Model_Year</th>\n",
       "    </tr>\n",
       "    <tr>\n",
       "      <th></th>\n",
       "      <th></th>\n",
       "      <th>amin</th>\n",
       "      <th>mean</th>\n",
       "      <th>amax</th>\n",
       "      <th>mean</th>\n",
       "      <th>mean</th>\n",
       "      <th>sum</th>\n",
       "      <th>amin</th>\n",
       "      <th>amax</th>\n",
       "    </tr>\n",
       "  </thead>\n",
       "  <tbody>\n",
       "    <tr>\n",
       "      <th>0</th>\n",
       "      <td>Not Renewed</td>\n",
       "      <td>529.628000</td>\n",
       "      <td>1051.330467</td>\n",
       "      <td>1652.200</td>\n",
       "      <td>1110.926966</td>\n",
       "      <td>7.376478</td>\n",
       "      <td>1041</td>\n",
       "      <td>2006</td>\n",
       "      <td>2015</td>\n",
       "    </tr>\n",
       "    <tr>\n",
       "      <th>1</th>\n",
       "      <td>Renewed</td>\n",
       "      <td>700.274667</td>\n",
       "      <td>942.636639</td>\n",
       "      <td>1623.526</td>\n",
       "      <td>941.918998</td>\n",
       "      <td>-0.027540</td>\n",
       "      <td>1754</td>\n",
       "      <td>1999</td>\n",
       "      <td>2017</td>\n",
       "    </tr>\n",
       "  </tbody>\n",
       "</table>\n",
       "</div>"
      ],
      "text/plain": [
       "  RenewalResult Ort_Pol_Fiy                        Ort_New_Price  \\\n",
       "                       amin         mean      amax          mean   \n",
       "0   Not Renewed  529.628000  1051.330467  1652.200   1110.926966   \n",
       "1       Renewed  700.274667   942.636639  1623.526    941.918998   \n",
       "\n",
       "  Ort_Fiyat_Degisim RenewaL_Count Most_Model_Year        \n",
       "               mean           sum            amin  amax  \n",
       "0          7.376478          1041            2006  2015  \n",
       "1         -0.027540          1754            1999  2017  "
      ]
     },
     "execution_count": 43,
     "metadata": {},
     "output_type": "execute_result"
    }
   ],
   "source": [
    "#bu bağlamda churn gruplarının özelliklerine bakalım artık araç modelini hesaba kattık\n",
    "import numpy as np\n",
    "h2.groupby(['RenewalResult'],as_index=False).agg({'Ort_Pol_Fiy' :  [np.min,np.mean,np.max],'Ort_New_Price' : np.mean,'Ort_Fiyat_Degisim' : np.mean,'RenewaL_Count' : np.sum,'Most_Model_Year' : [np.min, np.max]})\n",
    "#yenileme yapmayan kitlenin mevcut poliçe range i daha geniştir.ve ortalamada daha yüksek ücret ödemekte \n",
    "#aynı zamanda bu kitleye daha yüksek miktarda yeni ücret teklifi yapılmıştır.\n",
    "#yenileme yapan kitle mevcut pozisyonunu korumuş hatta ufak bir indirim bile almıştır.aynı zamanda yenileme yapan kitlenin\n",
    "#araç model yılı range i daha geniştir.eski model arabası olan müşteriler bizimle çalışıyor gibi gözüküyor."
   ]
  },
  {
   "cell_type": "code",
   "execution_count": 44,
   "metadata": {},
   "outputs": [
    {
     "data": {
      "text/html": [
       "<div>\n",
       "<style scoped>\n",
       "    .dataframe tbody tr th:only-of-type {\n",
       "        vertical-align: middle;\n",
       "    }\n",
       "\n",
       "    .dataframe tbody tr th {\n",
       "        vertical-align: top;\n",
       "    }\n",
       "\n",
       "    .dataframe thead th {\n",
       "        text-align: right;\n",
       "    }\n",
       "</style>\n",
       "<table border=\"1\" class=\"dataframe\">\n",
       "  <thead>\n",
       "    <tr style=\"text-align: right;\">\n",
       "      <th></th>\n",
       "      <th>RenewalResult</th>\n",
       "      <th>VehicleBrand</th>\n",
       "      <th>Most_Model_Year</th>\n",
       "      <th>Ort_Pol_Fiy</th>\n",
       "      <th>Ort_New_Price</th>\n",
       "      <th>RenewaL_Count</th>\n",
       "      <th>Ort_Fiyat_Degisim</th>\n",
       "    </tr>\n",
       "  </thead>\n",
       "  <tbody>\n",
       "    <tr>\n",
       "      <th>51</th>\n",
       "      <td>Renewed</td>\n",
       "      <td>RENAULT (OYAK)</td>\n",
       "      <td>2013</td>\n",
       "      <td>923.303642</td>\n",
       "      <td>914.164345</td>\n",
       "      <td>226</td>\n",
       "      <td>-0.989847</td>\n",
       "    </tr>\n",
       "    <tr>\n",
       "      <th>58</th>\n",
       "      <td>Renewed</td>\n",
       "      <td>VOLKSWAGEN</td>\n",
       "      <td>2015</td>\n",
       "      <td>949.331269</td>\n",
       "      <td>948.525366</td>\n",
       "      <td>216</td>\n",
       "      <td>-0.084892</td>\n",
       "    </tr>\n",
       "    <tr>\n",
       "      <th>48</th>\n",
       "      <td>Renewed</td>\n",
       "      <td>OPEL</td>\n",
       "      <td>2012</td>\n",
       "      <td>827.130016</td>\n",
       "      <td>837.112546</td>\n",
       "      <td>185</td>\n",
       "      <td>1.206888</td>\n",
       "    </tr>\n",
       "    <tr>\n",
       "      <th>57</th>\n",
       "      <td>Renewed</td>\n",
       "      <td>TOYOTA</td>\n",
       "      <td>2015</td>\n",
       "      <td>839.446208</td>\n",
       "      <td>830.661595</td>\n",
       "      <td>168</td>\n",
       "      <td>-1.046477</td>\n",
       "    </tr>\n",
       "    <tr>\n",
       "      <th>22</th>\n",
       "      <td>Not Renewed</td>\n",
       "      <td>RENAULT (OYAK)</td>\n",
       "      <td>2013</td>\n",
       "      <td>958.771141</td>\n",
       "      <td>1079.913929</td>\n",
       "      <td>156</td>\n",
       "      <td>12.635214</td>\n",
       "    </tr>\n",
       "    <tr>\n",
       "      <th>56</th>\n",
       "      <td>Renewed</td>\n",
       "      <td>TOFAS-FIAT</td>\n",
       "      <td>2012</td>\n",
       "      <td>808.532436</td>\n",
       "      <td>804.094429</td>\n",
       "      <td>156</td>\n",
       "      <td>-0.548897</td>\n",
       "    </tr>\n",
       "    <tr>\n",
       "      <th>29</th>\n",
       "      <td>Not Renewed</td>\n",
       "      <td>VOLKSWAGEN</td>\n",
       "      <td>2015</td>\n",
       "      <td>1044.719269</td>\n",
       "      <td>1151.037504</td>\n",
       "      <td>119</td>\n",
       "      <td>10.176728</td>\n",
       "    </tr>\n",
       "    <tr>\n",
       "      <th>19</th>\n",
       "      <td>Not Renewed</td>\n",
       "      <td>OPEL</td>\n",
       "      <td>2012</td>\n",
       "      <td>884.069052</td>\n",
       "      <td>1001.548103</td>\n",
       "      <td>116</td>\n",
       "      <td>13.288447</td>\n",
       "    </tr>\n",
       "    <tr>\n",
       "      <th>8</th>\n",
       "      <td>Not Renewed</td>\n",
       "      <td>FORD</td>\n",
       "      <td>2011</td>\n",
       "      <td>1010.775813</td>\n",
       "      <td>1143.772495</td>\n",
       "      <td>107</td>\n",
       "      <td>13.157881</td>\n",
       "    </tr>\n",
       "    <tr>\n",
       "      <th>27</th>\n",
       "      <td>Not Renewed</td>\n",
       "      <td>TOFAS-FIAT</td>\n",
       "      <td>2011</td>\n",
       "      <td>915.586855</td>\n",
       "      <td>987.782506</td>\n",
       "      <td>83</td>\n",
       "      <td>7.885178</td>\n",
       "    </tr>\n",
       "  </tbody>\n",
       "</table>\n",
       "</div>"
      ],
      "text/plain": [
       "   RenewalResult    VehicleBrand  Most_Model_Year  Ort_Pol_Fiy  Ort_New_Price  \\\n",
       "51       Renewed  RENAULT (OYAK)             2013   923.303642     914.164345   \n",
       "58       Renewed      VOLKSWAGEN             2015   949.331269     948.525366   \n",
       "48       Renewed            OPEL             2012   827.130016     837.112546   \n",
       "57       Renewed          TOYOTA             2015   839.446208     830.661595   \n",
       "22   Not Renewed  RENAULT (OYAK)             2013   958.771141    1079.913929   \n",
       "56       Renewed      TOFAS-FIAT             2012   808.532436     804.094429   \n",
       "29   Not Renewed      VOLKSWAGEN             2015  1044.719269    1151.037504   \n",
       "19   Not Renewed            OPEL             2012   884.069052    1001.548103   \n",
       "8    Not Renewed            FORD             2011  1010.775813    1143.772495   \n",
       "27   Not Renewed      TOFAS-FIAT             2011   915.586855     987.782506   \n",
       "\n",
       "    RenewaL_Count  Ort_Fiyat_Degisim  \n",
       "51            226          -0.989847  \n",
       "58            216          -0.084892  \n",
       "48            185           1.206888  \n",
       "57            168          -1.046477  \n",
       "22            156          12.635214  \n",
       "56            156          -0.548897  \n",
       "29            119          10.176728  \n",
       "19            116          13.288447  \n",
       "8             107          13.157881  \n",
       "27             83           7.885178  "
      ]
     },
     "execution_count": 44,
     "metadata": {},
     "output_type": "execute_result"
    }
   ],
   "source": [
    "#model,yıl,eski yeni fiyatlar bilgileri nin yanında en çok yenileme yapan ve yapmayan modelleri inceleyelimn\n",
    "#en çok iptaller en çok ürün sattığımız modeller olan renault,volkswagen,opel,ford olarak karşımıza çıkmakdatır\n",
    "h3 = h2.sort_values(['RenewaL_Count'], ascending=[False]).groupby(['RenewalResult']).head(5)\n",
    "h3\n",
    "#yenileme yapanlara fiyat indirimi yapılarak elde tutundurulmuş\n",
    "#yenileme yapmayanlara %10 un üzerinde fiyat artışı teklif edilmiştir.\n"
   ]
  },
  {
   "cell_type": "code",
   "execution_count": 45,
   "metadata": {},
   "outputs": [
    {
     "name": "stdout",
     "output_type": "stream",
     "text": [
      "Statistics=14.729, p=0.000\n",
      "Different distributions (reject H0)\n"
     ]
    }
   ],
   "source": [
    "#fiyat değişimlerimiz normal dağılıma uymuyor.\n",
    "#normal dağılıma uymadığı varsayımı altında fiyat değişimleri ile churn arasında bir ilişki varmı diye\n",
    "#test yapalım\n",
    "# Kruskal-Wallis H-test\n",
    "from numpy.random import seed\n",
    "from scipy.stats import kruskal\n",
    "# seed the random number generator\n",
    "seed(1)\n",
    "# compare samples\n",
    "stat, p = kruskal(h3['Ort_Fiyat_Degisim'], list(h3['RenewalResult']))\n",
    "print('Statistics=%.3f, p=%.3f' % (stat, p))\n",
    "# interpret\n",
    "alpha = 0.05\n",
    "if p > alpha:\n",
    "    print('Same distributions (fail to reject H0)')\n",
    "else:\n",
    "    print('Different distributions (reject H0)')"
   ]
  },
  {
   "cell_type": "code",
   "execution_count": null,
   "metadata": {},
   "outputs": [],
   "source": [
    "#istatistiksel teste göre fiyat değişimleri churn'ü etkiliyor."
   ]
  },
  {
   "cell_type": "code",
   "execution_count": 46,
   "metadata": {},
   "outputs": [
    {
     "data": {
      "text/html": [
       "<div>\n",
       "<style scoped>\n",
       "    .dataframe tbody tr th:only-of-type {\n",
       "        vertical-align: middle;\n",
       "    }\n",
       "\n",
       "    .dataframe tbody tr th {\n",
       "        vertical-align: top;\n",
       "    }\n",
       "\n",
       "    .dataframe thead th {\n",
       "        text-align: right;\n",
       "    }\n",
       "</style>\n",
       "<table border=\"1\" class=\"dataframe\">\n",
       "  <thead>\n",
       "    <tr style=\"text-align: right;\">\n",
       "      <th></th>\n",
       "      <th>VehicleModelYear</th>\n",
       "      <th>ExsistingPolicyGrossPremium</th>\n",
       "      <th>New Price</th>\n",
       "    </tr>\n",
       "  </thead>\n",
       "  <tbody>\n",
       "    <tr>\n",
       "      <th>VehicleModelYear</th>\n",
       "      <td>1.000000</td>\n",
       "      <td>0.279951</td>\n",
       "      <td>0.207959</td>\n",
       "    </tr>\n",
       "    <tr>\n",
       "      <th>ExsistingPolicyGrossPremium</th>\n",
       "      <td>0.279951</td>\n",
       "      <td>1.000000</td>\n",
       "      <td>0.710876</td>\n",
       "    </tr>\n",
       "    <tr>\n",
       "      <th>New Price</th>\n",
       "      <td>0.207959</td>\n",
       "      <td>0.710876</td>\n",
       "      <td>1.000000</td>\n",
       "    </tr>\n",
       "  </tbody>\n",
       "</table>\n",
       "</div>"
      ],
      "text/plain": [
       "                             VehicleModelYear  ExsistingPolicyGrossPremium  \\\n",
       "VehicleModelYear                     1.000000                     0.279951   \n",
       "ExsistingPolicyGrossPremium          0.279951                     1.000000   \n",
       "New Price                            0.207959                     0.710876   \n",
       "\n",
       "                             New Price  \n",
       "VehicleModelYear              0.207959  \n",
       "ExsistingPolicyGrossPremium   0.710876  \n",
       "New Price                     1.000000  "
      ]
     },
     "execution_count": 46,
     "metadata": {},
     "output_type": "execute_result"
    }
   ],
   "source": [
    "#şimdiye kadar yıl bazında inceleme yaptık ancak kayda değer bir bulgu bulamadık.\n",
    "#model bazında yaptığımız incelemelerde fiyat artışlarının churn ü etkildeğini gözlemledik.\n",
    "#ana dataya geri dönelim\n",
    "df.corr()\n",
    "#eski fiyatlarla yeni fiyatlar arasında yüksek korelasyon görülüyor yani şirket aynı ücret politikasını sürdürüyor olacak."
   ]
  },
  {
   "cell_type": "code",
   "execution_count": 49,
   "metadata": {},
   "outputs": [],
   "source": [
    "#fiyattaki değişimi gözlemleyelim\n",
    "df['fiyat_degisimi']=(df['New Price']-df['ExsistingPolicyGrossPremium'])/df['ExsistingPolicyGrossPremium']*100"
   ]
  },
  {
   "cell_type": "code",
   "execution_count": 50,
   "metadata": {},
   "outputs": [
    {
     "data": {
      "text/plain": [
       "RenewalResult\n",
       "Not Renewed    14.662398\n",
       "Renewed         2.911729\n",
       "Name: fiyat_degisimi, dtype: float64"
      ]
     },
     "execution_count": 50,
     "metadata": {},
     "output_type": "execute_result"
    }
   ],
   "source": [
    "#yenileme yapanlar ile yapmayanlar arasındaki ortalama fiyat değişimine bakalım\n",
    "df.groupby(['RenewalResult']).mean()['fiyat_degisimi']"
   ]
  },
  {
   "cell_type": "code",
   "execution_count": 51,
   "metadata": {},
   "outputs": [
    {
     "data": {
      "text/plain": [
       "<matplotlib.axes._subplots.AxesSubplot at 0x2a9a03c6710>"
      ]
     },
     "execution_count": 51,
     "metadata": {},
     "output_type": "execute_result"
    },
    {
     "data": {
      "image/png": "[encoded data removed]",
      "text/plain": [
       "<Figure size 1080x504 with 1 Axes>"
      ]
     },
     "metadata": {
      "needs_background": "light"
     },
     "output_type": "display_data"
    }
   ],
   "source": [
    "#yenileme yapmamaya karar verenlere eski fiyata göre ortalama %14 daha fazla fiyat teklif edilmiş,bu oran yenileme yapanlarda\n",
    "# %2\n",
    "fig, ax = plt.subplots(figsize=(15,7))\n",
    "df.groupby(['RenewalResult']).mean()['fiyat_degisimi'].plot(kind='bar',ax=ax)"
   ]
  },
  {
   "cell_type": "code",
   "execution_count": 53,
   "metadata": {},
   "outputs": [
    {
     "data": {
      "image/png": "[encoded data removed]",
      "text/plain": [
       "<Figure size 432x288 with 1 Axes>"
      ]
     },
     "metadata": {
      "needs_background": "light"
     },
     "output_type": "display_data"
    }
   ],
   "source": [
    "#eski fiyatlar bazında kümeleme yapalım\n",
    "from sklearn.preprocessing import MinMaxScaler\n",
    "from sklearn.cluster import KMeans\n",
    "\n",
    "#yukarda oluşturduğum dataset i kullanıcam\n",
    "#To give equal importance to all features, we need to scale the continuous features. \n",
    "#We will be using scikit-learn’s MinMaxScaler as the feature matrix is a mix of binary and continuous features\n",
    "mms = MinMaxScaler()\n",
    "reshaped = np.array(df.iloc[:,4]).reshape(-1, 1)\n",
    "mms.fit(reshaped)\n",
    "data_transformed = mms.transform(reshaped)\n",
    "#For each k value, we will initialise k-means \n",
    "#and use the inertia attribute to identify the sum of squared distances of samples to the nearest cluster centre\n",
    "Sum_of_squared_distances = []\n",
    "K = range(1,10)\n",
    "for k in K:\n",
    "    km = KMeans(n_clusters=k)\n",
    "    km = km.fit(data_transformed)\n",
    "    Sum_of_squared_distances.append(km.inertia_)\n",
    "\n",
    "\n",
    "plt.plot(K, Sum_of_squared_distances, 'bx-')\n",
    "plt.xlabel('k')\n",
    "plt.ylabel('Sum_of_squared_distances')\n",
    "plt.title('Elbow Method For Optimal k')\n",
    "plt.show()"
   ]
  },
  {
   "cell_type": "code",
   "execution_count": 54,
   "metadata": {},
   "outputs": [],
   "source": [
    "# 2 clusters are optimal graph says \n",
    "from mpl_toolkits.mplot3d import Axes3D\n",
    "from sklearn.datasets import make_blobs\n",
    "\n",
    "kmeans = KMeans(n_clusters=2)\n",
    "kmeans.fit(reshaped)\n",
    "y_kmeans = kmeans.predict(reshaped)\n",
    "\n",
    "#plt.scatter(xx.iloc[:, 2], xx.iloc[:, 3], c=y_kmeans, s=50, cmap='viridis')\n",
    "\n",
    "centers = kmeans.cluster_centers_\n",
    "#plt.scatter(centers[:, 0], centers[:, 1], c='black', s=200, alpha=0.5);"
   ]
  },
  {
   "cell_type": "code",
   "execution_count": 55,
   "metadata": {},
   "outputs": [
    {
     "name": "stdout",
     "output_type": "stream",
     "text": [
      "             0\n",
      "0  1419.088643\n",
      "1   761.042508\n"
     ]
    }
   ],
   "source": [
    "print(pd.DataFrame(centers))"
   ]
  },
  {
   "cell_type": "code",
   "execution_count": 58,
   "metadata": {},
   "outputs": [],
   "source": [
    "df['Cluster'] = y_kmeans\n",
    "\n",
    "for i in range(len(df)):\n",
    "    if df.iloc[i,7]==0:\n",
    "        df.iloc[i,7]='High'\n",
    "    elif df.iloc[i,7]==1:\n",
    "        df.iloc[i,7]='Low'"
   ]
  },
  {
   "cell_type": "code",
   "execution_count": 59,
   "metadata": {},
   "outputs": [
    {
     "data": {
      "text/html": [
       "<div>\n",
       "<style scoped>\n",
       "    .dataframe tbody tr th:only-of-type {\n",
       "        vertical-align: middle;\n",
       "    }\n",
       "\n",
       "    .dataframe tbody tr th {\n",
       "        vertical-align: top;\n",
       "    }\n",
       "\n",
       "    .dataframe thead th {\n",
       "        text-align: right;\n",
       "    }\n",
       "</style>\n",
       "<table border=\"1\" class=\"dataframe\">\n",
       "  <thead>\n",
       "    <tr style=\"text-align: right;\">\n",
       "      <th></th>\n",
       "      <th>RenewalResult</th>\n",
       "      <th>VehicleBrand</th>\n",
       "      <th>VehicleModelYear</th>\n",
       "      <th>VehiclePlateCityName</th>\n",
       "      <th>ExsistingPolicyGrossPremium</th>\n",
       "      <th>New Price</th>\n",
       "      <th>fiyat_degisimi</th>\n",
       "      <th>Cluster</th>\n",
       "    </tr>\n",
       "  </thead>\n",
       "  <tbody>\n",
       "    <tr>\n",
       "      <th>0</th>\n",
       "      <td>Not Renewed</td>\n",
       "      <td>RENAULT (OYAK)</td>\n",
       "      <td>2009</td>\n",
       "      <td>İSTANBUL</td>\n",
       "      <td>1087.064</td>\n",
       "      <td>1192.389</td>\n",
       "      <td>9.688942</td>\n",
       "      <td>Low</td>\n",
       "    </tr>\n",
       "    <tr>\n",
       "      <th>1</th>\n",
       "      <td>Not Renewed</td>\n",
       "      <td>RENAULT (OYAK)</td>\n",
       "      <td>2011</td>\n",
       "      <td>İSTANBUL</td>\n",
       "      <td>603.900</td>\n",
       "      <td>751.245</td>\n",
       "      <td>24.398907</td>\n",
       "      <td>Low</td>\n",
       "    </tr>\n",
       "    <tr>\n",
       "      <th>2</th>\n",
       "      <td>Not Renewed</td>\n",
       "      <td>MERCEDES</td>\n",
       "      <td>2009</td>\n",
       "      <td>İSTANBUL</td>\n",
       "      <td>1514.986</td>\n",
       "      <td>1710.786</td>\n",
       "      <td>12.924212</td>\n",
       "      <td>High</td>\n",
       "    </tr>\n",
       "    <tr>\n",
       "      <th>3</th>\n",
       "      <td>Not Renewed</td>\n",
       "      <td>HYUNDAI</td>\n",
       "      <td>2005</td>\n",
       "      <td>İZMİR</td>\n",
       "      <td>682.099</td>\n",
       "      <td>942.865</td>\n",
       "      <td>38.229934</td>\n",
       "      <td>Low</td>\n",
       "    </tr>\n",
       "    <tr>\n",
       "      <th>4</th>\n",
       "      <td>Not Renewed</td>\n",
       "      <td>TOFAS-FIAT</td>\n",
       "      <td>2013</td>\n",
       "      <td>İSTANBUL</td>\n",
       "      <td>1413.456</td>\n",
       "      <td>1382.150</td>\n",
       "      <td>-2.214855</td>\n",
       "      <td>High</td>\n",
       "    </tr>\n",
       "  </tbody>\n",
       "</table>\n",
       "</div>"
      ],
      "text/plain": [
       "  RenewalResult    VehicleBrand  VehicleModelYear VehiclePlateCityName  \\\n",
       "0   Not Renewed  RENAULT (OYAK)              2009             İSTANBUL   \n",
       "1   Not Renewed  RENAULT (OYAK)              2011             İSTANBUL   \n",
       "2   Not Renewed        MERCEDES              2009             İSTANBUL   \n",
       "3   Not Renewed         HYUNDAI              2005                İZMİR   \n",
       "4   Not Renewed      TOFAS-FIAT              2013             İSTANBUL   \n",
       "\n",
       "   ExsistingPolicyGrossPremium  New Price  fiyat_degisimi Cluster  \n",
       "0                     1087.064   1192.389        9.688942     Low  \n",
       "1                      603.900    751.245       24.398907     Low  \n",
       "2                     1514.986   1710.786       12.924212    High  \n",
       "3                      682.099    942.865       38.229934     Low  \n",
       "4                     1413.456   1382.150       -2.214855    High  "
      ]
     },
     "execution_count": 59,
     "metadata": {},
     "output_type": "execute_result"
    }
   ],
   "source": [
    "df.head()"
   ]
  },
  {
   "cell_type": "code",
   "execution_count": 60,
   "metadata": {},
   "outputs": [
    {
     "data": {
      "text/html": [
       "<div>\n",
       "<style scoped>\n",
       "    .dataframe tbody tr th:only-of-type {\n",
       "        vertical-align: middle;\n",
       "    }\n",
       "\n",
       "    .dataframe tbody tr th {\n",
       "        vertical-align: top;\n",
       "    }\n",
       "\n",
       "    .dataframe thead th {\n",
       "        text-align: right;\n",
       "    }\n",
       "</style>\n",
       "<table border=\"1\" class=\"dataframe\">\n",
       "  <thead>\n",
       "    <tr style=\"text-align: right;\">\n",
       "      <th></th>\n",
       "      <th>count</th>\n",
       "      <th>mean</th>\n",
       "      <th>std</th>\n",
       "      <th>min</th>\n",
       "      <th>25%</th>\n",
       "      <th>50%</th>\n",
       "      <th>75%</th>\n",
       "      <th>max</th>\n",
       "    </tr>\n",
       "    <tr>\n",
       "      <th>Cluster</th>\n",
       "      <th></th>\n",
       "      <th></th>\n",
       "      <th></th>\n",
       "      <th></th>\n",
       "      <th></th>\n",
       "      <th></th>\n",
       "      <th></th>\n",
       "      <th></th>\n",
       "    </tr>\n",
       "  </thead>\n",
       "  <tbody>\n",
       "    <tr>\n",
       "      <th>High</th>\n",
       "      <td>719.0</td>\n",
       "      <td>1419.088643</td>\n",
       "      <td>282.512523</td>\n",
       "      <td>1090.078</td>\n",
       "      <td>1206.9585</td>\n",
       "      <td>1355.6400</td>\n",
       "      <td>1552.1715</td>\n",
       "      <td>3115.607</td>\n",
       "    </tr>\n",
       "    <tr>\n",
       "      <th>Low</th>\n",
       "      <td>2076.0</td>\n",
       "      <td>761.042508</td>\n",
       "      <td>139.469549</td>\n",
       "      <td>506.737</td>\n",
       "      <td>651.9095</td>\n",
       "      <td>739.9755</td>\n",
       "      <td>860.7445</td>\n",
       "      <td>1088.791</td>\n",
       "    </tr>\n",
       "  </tbody>\n",
       "</table>\n",
       "</div>"
      ],
      "text/plain": [
       "          count         mean         std       min        25%        50%  \\\n",
       "Cluster                                                                    \n",
       "High      719.0  1419.088643  282.512523  1090.078  1206.9585  1355.6400   \n",
       "Low      2076.0   761.042508  139.469549   506.737   651.9095   739.9755   \n",
       "\n",
       "               75%       max  \n",
       "Cluster                       \n",
       "High     1552.1715  3115.607  \n",
       "Low       860.7445  1088.791  "
      ]
     },
     "execution_count": 60,
     "metadata": {},
     "output_type": "execute_result"
    }
   ],
   "source": [
    "#kümeleme sonuçlarına göre en çok low segmennte müşterimiz var yani 500 -1000 lira arasında fiyat ödeyen kitleye daha çok hitap\n",
    "#ediyoruz\n",
    "#high segmentte rakamlar çok yüksek\n",
    "df.groupby(['Cluster']).describe()['ExsistingPolicyGrossPremium']"
   ]
  },
  {
   "cell_type": "code",
   "execution_count": 61,
   "metadata": {},
   "outputs": [
    {
     "data": {
      "text/html": [
       "<div>\n",
       "<style scoped>\n",
       "    .dataframe tbody tr th:only-of-type {\n",
       "        vertical-align: middle;\n",
       "    }\n",
       "\n",
       "    .dataframe tbody tr th {\n",
       "        vertical-align: top;\n",
       "    }\n",
       "\n",
       "    .dataframe thead th {\n",
       "        text-align: right;\n",
       "    }\n",
       "</style>\n",
       "<table border=\"1\" class=\"dataframe\">\n",
       "  <thead>\n",
       "    <tr style=\"text-align: right;\">\n",
       "      <th></th>\n",
       "      <th></th>\n",
       "      <th>count</th>\n",
       "      <th>mean</th>\n",
       "      <th>std</th>\n",
       "      <th>min</th>\n",
       "      <th>25%</th>\n",
       "      <th>50%</th>\n",
       "      <th>75%</th>\n",
       "      <th>max</th>\n",
       "    </tr>\n",
       "    <tr>\n",
       "      <th>Cluster</th>\n",
       "      <th>RenewalResult</th>\n",
       "      <th></th>\n",
       "      <th></th>\n",
       "      <th></th>\n",
       "      <th></th>\n",
       "      <th></th>\n",
       "      <th></th>\n",
       "      <th></th>\n",
       "      <th></th>\n",
       "    </tr>\n",
       "  </thead>\n",
       "  <tbody>\n",
       "    <tr>\n",
       "      <th rowspan=\"2\" valign=\"top\">High</th>\n",
       "      <th>Not Renewed</th>\n",
       "      <td>342.0</td>\n",
       "      <td>1450.897684</td>\n",
       "      <td>284.433858</td>\n",
       "      <td>1090.540</td>\n",
       "      <td>1227.9190</td>\n",
       "      <td>1400.707</td>\n",
       "      <td>1601.94375</td>\n",
       "      <td>2766.742</td>\n",
       "    </tr>\n",
       "    <tr>\n",
       "      <th>Renewed</th>\n",
       "      <td>377.0</td>\n",
       "      <td>1390.232695</td>\n",
       "      <td>277.997297</td>\n",
       "      <td>1090.078</td>\n",
       "      <td>1197.7130</td>\n",
       "      <td>1312.542</td>\n",
       "      <td>1509.78300</td>\n",
       "      <td>3115.607</td>\n",
       "    </tr>\n",
       "    <tr>\n",
       "      <th rowspan=\"2\" valign=\"top\">Low</th>\n",
       "      <th>Not Renewed</th>\n",
       "      <td>699.0</td>\n",
       "      <td>775.287192</td>\n",
       "      <td>145.205904</td>\n",
       "      <td>506.737</td>\n",
       "      <td>663.0745</td>\n",
       "      <td>761.266</td>\n",
       "      <td>878.80650</td>\n",
       "      <td>1088.791</td>\n",
       "    </tr>\n",
       "    <tr>\n",
       "      <th>Renewed</th>\n",
       "      <td>1377.0</td>\n",
       "      <td>753.811547</td>\n",
       "      <td>135.948967</td>\n",
       "      <td>516.241</td>\n",
       "      <td>647.8120</td>\n",
       "      <td>733.172</td>\n",
       "      <td>849.47500</td>\n",
       "      <td>1087.900</td>\n",
       "    </tr>\n",
       "  </tbody>\n",
       "</table>\n",
       "</div>"
      ],
      "text/plain": [
       "                        count         mean         std       min        25%  \\\n",
       "Cluster RenewalResult                                                         \n",
       "High    Not Renewed     342.0  1450.897684  284.433858  1090.540  1227.9190   \n",
       "        Renewed         377.0  1390.232695  277.997297  1090.078  1197.7130   \n",
       "Low     Not Renewed     699.0   775.287192  145.205904   506.737   663.0745   \n",
       "        Renewed        1377.0   753.811547  135.948967   516.241   647.8120   \n",
       "\n",
       "                            50%         75%       max  \n",
       "Cluster RenewalResult                                  \n",
       "High    Not Renewed    1400.707  1601.94375  2766.742  \n",
       "        Renewed        1312.542  1509.78300  3115.607  \n",
       "Low     Not Renewed     761.266   878.80650  1088.791  \n",
       "        Renewed         733.172   849.47500  1087.900  "
      ]
     },
     "execution_count": 61,
     "metadata": {},
     "output_type": "execute_result"
    }
   ],
   "source": [
    "#bu segmentlere göre yenieleme durumlarına bakarsak low segmentinin yenileme performansının iyi olduğunu\n",
    "#high segmentte yarı yarıya yenileme olduğunu görüyoruz\n",
    "#ama yine de en çok low segmentte churn var.bu sayı olarak çokluktan kaynaklanabilir.\n",
    "df.groupby(['Cluster','RenewalResult']).describe()['ExsistingPolicyGrossPremium']"
   ]
  },
  {
   "cell_type": "code",
   "execution_count": 62,
   "metadata": {},
   "outputs": [
    {
     "data": {
      "text/plain": [
       "Cluster  RenewalResult\n",
       "High     Not Renewed      -2.219563\n",
       "         Renewed         -11.184292\n",
       "Low      Not Renewed      22.922241\n",
       "         Renewed           6.770988\n",
       "Name: fiyat_degisimi, dtype: float64"
      ]
     },
     "execution_count": 62,
     "metadata": {},
     "output_type": "execute_result"
    }
   ],
   "source": [
    "#high segmentinde yüksek indirim ile müşteriyi elde tutarken\n",
    "#low segmentinde %22 ve üzeri ücret artışı churn e sebep olmaktadır.ortalama %6 ücret artışı low segment için kabul edileblirdir\n",
    "df.groupby(['Cluster','RenewalResult']).mean()['fiyat_degisimi']"
   ]
  },
  {
   "cell_type": "code",
   "execution_count": 63,
   "metadata": {},
   "outputs": [
    {
     "data": {
      "image/png": "[encoded data removed]",
      "text/plain": [
       "<Figure size 432x288 with 1 Axes>"
      ]
     },
     "metadata": {
      "needs_background": "light"
     },
     "output_type": "display_data"
    }
   ],
   "source": [
    "import seaborn as sns\n",
    "yy =df[['RenewalResult','Cluster']]\n",
    "ax = sns.countplot(x=\"Cluster\" ,hue=\"RenewalResult\", data=yy)"
   ]
  },
  {
   "cell_type": "code",
   "execution_count": 64,
   "metadata": {},
   "outputs": [],
   "source": [
    "#en çok churn ü olan 4 modele bakalım.\n",
    "#churnler en çok low segmentinde toplanmış ki bu segmentin churn sayısı toplam churn un yarısından fazla\n",
    "#bu 4 modelin churn oranı da bu segmentin %70 ine tekabül ediyor.\n",
    "#en çok churn eden araba gruplarını alalım\n",
    "vehicles =['RENAULT (OYAK)','VOLKSWAGEN','OPEL','FORD']\n",
    "df2 = df[['Cluster','VehicleBrand','RenewalResult','ExsistingPolicyGrossPremium']] \n",
    "analysis_list=[]\n",
    "for i in vehicles:\n",
    "    analysis_list.append(df2[(df2['VehicleBrand'] == i)].groupby(['Cluster','VehicleBrand','RenewalResult']).agg(['mean', 'count']))\n",
    "    "
   ]
  },
  {
   "cell_type": "code",
   "execution_count": 65,
   "metadata": {},
   "outputs": [
    {
     "data": {
      "text/plain": [
       "[                                     ExsistingPolicyGrossPremium      \n",
       "                                                             mean count\n",
       " Cluster VehicleBrand   RenewalResult                                  \n",
       " High    RENAULT (OYAK) Not Renewed                   1423.746383    47\n",
       "                        Renewed                       1436.456052    58\n",
       " Low     RENAULT (OYAK) Not Renewed                    758.277229   109\n",
       "                        Renewed                        746.143881   168,\n",
       "                                    ExsistingPolicyGrossPremium      \n",
       "                                                           mean count\n",
       " Cluster VehicleBrand RenewalResult                                  \n",
       " High    VOLKSWAGEN   Not Renewed                   1462.599548    42\n",
       "                      Renewed                       1428.803895    57\n",
       " Low     VOLKSWAGEN   Not Renewed                    816.784571    77\n",
       "                      Renewed                        777.444855   159,\n",
       "                                    ExsistingPolicyGrossPremium      \n",
       "                                                           mean count\n",
       " Cluster VehicleBrand RenewalResult                                  \n",
       " High    OPEL         Not Renewed                   1395.007308    26\n",
       "                      Renewed                       1328.751188    32\n",
       " Low     OPEL         Not Renewed                    736.464667    90\n",
       "                      Renewed                        722.215784   153,\n",
       "                                    ExsistingPolicyGrossPremium      \n",
       "                                                           mean count\n",
       " Cluster VehicleBrand RenewalResult                                  \n",
       " High    FORD         Not Renewed                   1467.721829    35\n",
       "                      Renewed                       1311.633125    24\n",
       " Low     FORD         Not Renewed                    788.649278    72\n",
       "                      Renewed                        759.209177   124]"
      ]
     },
     "execution_count": 65,
     "metadata": {},
     "output_type": "execute_result"
    }
   ],
   "source": [
    "analysis_list\n",
    "#segmentler ve iptallere göre baktığımızda ödenen mevcut policeler arasında bir fark gözükmemektedir."
   ]
  },
  {
   "cell_type": "code",
   "execution_count": 68,
   "metadata": {},
   "outputs": [],
   "source": [
    "# en çok low segmentte churn var aynı model arabalar için bu segmente yoğunlaşalım\n",
    "df3 = df[['Cluster','VehicleBrand','RenewalResult','ExsistingPolicyGrossPremium','fiyat_degisimi']] \n",
    "\n",
    "result=[]\n",
    "for i in vehicles:\n",
    "       result.append(df3[(df3['VehicleBrand'] == i) & (df3['Cluster'] == 'Low')].groupby(['VehicleBrand','RenewalResult']).\n",
    "                  mean()[['ExsistingPolicyGrossPremium','fiyat_degisimi']])"
   ]
  },
  {
   "cell_type": "code",
   "execution_count": 69,
   "metadata": {},
   "outputs": [
    {
     "data": {
      "text/plain": [
       "[                              ExsistingPolicyGrossPremium  fiyat_degisimi\n",
       " VehicleBrand   RenewalResult                                             \n",
       " RENAULT (OYAK) Not Renewed                     758.277229       29.231308\n",
       "                Renewed                         746.143881        9.137780,\n",
       "                             ExsistingPolicyGrossPremium  fiyat_degisimi\n",
       " VehicleBrand RenewalResult                                             \n",
       " VOLKSWAGEN   Not Renewed                     816.784571       23.990378\n",
       "              Renewed                         777.444855        7.908491,\n",
       "                             ExsistingPolicyGrossPremium  fiyat_degisimi\n",
       " VehicleBrand RenewalResult                                             \n",
       " OPEL         Not Renewed                     736.464667       27.039924\n",
       "              Renewed                         722.215784        7.958787,\n",
       "                             ExsistingPolicyGrossPremium  fiyat_degisimi\n",
       " VehicleBrand RenewalResult                                             \n",
       " FORD         Not Renewed                     788.649278       29.023038\n",
       "              Renewed                         759.209177        8.257232]"
      ]
     },
     "execution_count": 69,
     "metadata": {},
     "output_type": "execute_result"
    }
   ],
   "source": [
    "#görüldüğü gibi bu segmentte mevcut poliçede ödenen fiyatlar arasında fark olmamasına rağmen  müşterilere yüksek oranda\n",
    "#fiyat artışının yapılması churn u direk etkilemiştir.neden bir anda bu kadar yüksek fiyat teklifinin verildiği\n",
    "#araştırılmaldıır.kazalı araçlarla daha mı çok çalışıyoruz?araç kiralama şirketleriyle daha çok mu çalışıyoruz ?\n",
    "#upsell yapılacak kitle yanlış seçilmiş olabilir.\n",
    "#eğer bu segmentte fiyat artışı yapılmak isteniyorsa daha önce bahsedildiği gibi %6-7 uygundur.\n",
    "result"
   ]
  },
  {
   "cell_type": "code",
   "execution_count": null,
   "metadata": {},
   "outputs": [],
   "source": [
    "#sonuc :\n",
    "#özetle daha çok 500-1000 lira ücret ödeyen bir kitleye hitap ediyoruz.Bu kitle karşımıza low segment olarak çıkıyor.\n",
    "#Bu segmentte yapılan yüksek ücret artışları (%25 ve üstü) direk churnü etkiliyor.\n",
    "#high segmenti daha balanced giden bir segment.yarı yarıya yenileme görülüyor.\n",
    "#high segmentinde müşteriyi elde tutmak için %15 lere varan indirim yapılması gerekilebilir.\n",
    "#genel yenileme / yenilememe durumlarına bakarak %2 lik bir fiyat artışı makul görülebilir.en azından müşteriyi elde tutmak açısından\n",
    "#faydalı olacaktır.low segmenti için ortalama %7 artış kabul edilebilir bir kampanyadır\n",
    "#eğer araç kiralama şirketleriyle yoğun olarak çalışlıyorsa ki bana öyle geldi poliçelerdeki fiyat dengesizliği buna ve kazalara\n",
    "#bağlı olabilir\n",
    "#2017-2018 yılı modeli araçlar olarak portföymüz zayıf low segmentine göre uygun kampanyalarla müşteri kazanımına gidilebilinir.\n",
    "#kampanya teklifim high segmente %15 indirim ve low segmentin en çok ücret ödeyen %10 luk kesimine %8 lik bir artış teklif \n",
    "#edilip orta sınıf bir segment yaratılması."
   ]
  }
 ],
 "metadata": {
  "kernelspec": {
   "display_name": "Python 3",
   "language": "python",
   "name": "python3"
  },
  "language_info": {
   "codemirror_mode": {
    "name": "ipython",
    "version": 3
   },
   "file_extension": ".py",
   "mimetype": "text/x-python",
   "name": "python",
   "nbconvert_exporter": "python",
   "pygments_lexer": "ipython3",
   "version": "3.6.6"
  }
 },
 "nbformat": 4,
 "nbformat_minor": 2
}

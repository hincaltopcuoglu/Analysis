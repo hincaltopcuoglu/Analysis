{
 "cells": [
  {
   "cell_type": "markdown",
   "metadata": {},
   "source": [
    "## DISTRIBUTION FUNCTION and INVERSE DISTRIBUTION FUNCTION"
   ]
  },
  {
   "cell_type": "code",
   "execution_count": 1,
   "metadata": {},
   "outputs": [],
   "source": [
    "import numpy as np\n",
    "import pandas as pd"
   ]
  },
  {
   "cell_type": "markdown",
   "metadata": {},
   "source": [
    "## lets investigate P[X<=x]=F(x)=alpha for example x=0 and alpha=1/4\n",
    "## F(x)=alpha\n",
    "## G(alpha)=x\n",
    "## G(F(x))=x\n",
    "## G(alpha)=x\n",
    "## P[X<=x]=F(x)=alpha\n",
    "## P[X<=G(alpha)]=F(x)=alpha\n",
    "\n",
    "## F(x)=alpha\n",
    "## F(0)=1/4\n",
    "## G(1/4)=0"
   ]
  },
  {
   "cell_type": "code",
   "execution_count": 207,
   "metadata": {},
   "outputs": [
    {
     "name": "stdout",
     "output_type": "stream",
     "text": [
      "0.25\n",
      "0\n",
      "0\n"
     ]
    }
   ],
   "source": [
    "def f(x):\n",
    "    alpha=1/4\n",
    "    return alpha\n",
    "    \n",
    "def g(alpha):\n",
    "    x=0\n",
    "    return x\n",
    "\n",
    "print(f(0))\n",
    "print(g(f(0)))\n",
    "print(g(1/4))\n",
    "  "
   ]
  }
 ],
 "metadata": {
  "kernelspec": {
   "display_name": "Python 3",
   "language": "python",
   "name": "python3"
  },
  "language_info": {
   "codemirror_mode": {
    "name": "ipython",
    "version": 3
   },
   "file_extension": ".py",
   "mimetype": "text/x-python",
   "name": "python",
   "nbconvert_exporter": "python",
   "pygments_lexer": "ipython3",
   "version": "3.7.1"
  }
 },
 "nbformat": 4,
 "nbformat_minor": 2
}

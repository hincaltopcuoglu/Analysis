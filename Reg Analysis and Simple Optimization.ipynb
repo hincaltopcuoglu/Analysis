{
 "cells": [
  {
   "cell_type": "code",
   "execution_count": 1,
   "metadata": {},
   "outputs": [],
   "source": [
    "import pandas as pd\n",
    "import numpy as np\n",
    "import matplotlib.pyplot as plt\n",
    "import seaborn as sns\n",
    "from copy import deepcopy\n",
    "import statsmodels.api as sm\n",
    "import warnings\n",
    "from pandas import datetime\n",
    "from statsmodels.tsa.arima_model import ARIMA\n",
    "from sklearn.metrics import mean_squared_error\n",
    "from scipy.stats import boxcox"
   ]
  },
  {
   "cell_type": "markdown",
   "metadata": {},
   "source": [
    "#### read csv data"
   ]
  },
  {
   "cell_type": "code",
   "execution_count": 2,
   "metadata": {},
   "outputs": [],
   "source": [
    "data = pd.read_csv(\"RawData.csv\",sep=\";\")"
   ]
  },
  {
   "cell_type": "code",
   "execution_count": 3,
   "metadata": {},
   "outputs": [
    {
     "data": {
      "text/html": [
       "<div>\n",
       "<style scoped>\n",
       "    .dataframe tbody tr th:only-of-type {\n",
       "        vertical-align: middle;\n",
       "    }\n",
       "\n",
       "    .dataframe tbody tr th {\n",
       "        vertical-align: top;\n",
       "    }\n",
       "\n",
       "    .dataframe thead th {\n",
       "        text-align: right;\n",
       "    }\n",
       "</style>\n",
       "<table border=\"1\" class=\"dataframe\">\n",
       "  <thead>\n",
       "    <tr style=\"text-align: right;\">\n",
       "      <th></th>\n",
       "      <th>ProductName</th>\n",
       "      <th>Week</th>\n",
       "      <th>Price</th>\n",
       "      <th>SalesQty.</th>\n",
       "    </tr>\n",
       "  </thead>\n",
       "  <tbody>\n",
       "    <tr>\n",
       "      <th>0</th>\n",
       "      <td>Product1</td>\n",
       "      <td>2011-31</td>\n",
       "      <td>1,58</td>\n",
       "      <td>361</td>\n",
       "    </tr>\n",
       "    <tr>\n",
       "      <th>1</th>\n",
       "      <td>Product1</td>\n",
       "      <td>2011-32</td>\n",
       "      <td>1,9</td>\n",
       "      <td>282</td>\n",
       "    </tr>\n",
       "    <tr>\n",
       "      <th>2</th>\n",
       "      <td>Product1</td>\n",
       "      <td>2011-33</td>\n",
       "      <td>1,9</td>\n",
       "      <td>315</td>\n",
       "    </tr>\n",
       "    <tr>\n",
       "      <th>3</th>\n",
       "      <td>Product1</td>\n",
       "      <td>2011-34</td>\n",
       "      <td>1,9</td>\n",
       "      <td>254</td>\n",
       "    </tr>\n",
       "    <tr>\n",
       "      <th>4</th>\n",
       "      <td>Product1</td>\n",
       "      <td>2011-35</td>\n",
       "      <td>1,9</td>\n",
       "      <td>197</td>\n",
       "    </tr>\n",
       "  </tbody>\n",
       "</table>\n",
       "</div>"
      ],
      "text/plain": [
       "  ProductName     Week Price  SalesQty.\n",
       "0    Product1  2011-31  1,58        361\n",
       "1    Product1  2011-32   1,9        282\n",
       "2    Product1  2011-33   1,9        315\n",
       "3    Product1  2011-34   1,9        254\n",
       "4    Product1  2011-35   1,9        197"
      ]
     },
     "execution_count": 3,
     "metadata": {},
     "output_type": "execute_result"
    }
   ],
   "source": [
    "data.head()"
   ]
  },
  {
   "cell_type": "markdown",
   "metadata": {},
   "source": [
    "#### data info"
   ]
  },
  {
   "cell_type": "code",
   "execution_count": 4,
   "metadata": {},
   "outputs": [
    {
     "name": "stdout",
     "output_type": "stream",
     "text": [
      "<class 'pandas.core.frame.DataFrame'>\n",
      "RangeIndex: 52 entries, 0 to 51\n",
      "Data columns (total 4 columns):\n",
      "ProductName    52 non-null object\n",
      "Week           52 non-null object\n",
      "Price          52 non-null object\n",
      "SalesQty.      52 non-null int64\n",
      "dtypes: int64(1), object(3)\n",
      "memory usage: 1.8+ KB\n"
     ]
    }
   ],
   "source": [
    "data.info()"
   ]
  },
  {
   "cell_type": "markdown",
   "metadata": {},
   "source": [
    "#### convert date object to datetime format"
   ]
  },
  {
   "cell_type": "code",
   "execution_count": 5,
   "metadata": {},
   "outputs": [],
   "source": [
    "data['Week'] = data['Week'].astype('str')\n",
    "data['Date'] = pd.to_datetime(data.pop('Week') + '0', format='%Y-%W%w')"
   ]
  },
  {
   "cell_type": "markdown",
   "metadata": {},
   "source": [
    "#### replace comma with dots in price variable and convert it to float"
   ]
  },
  {
   "cell_type": "code",
   "execution_count": 6,
   "metadata": {},
   "outputs": [],
   "source": [
    "data['Price'] = data['Price'] .apply(lambda x: str(x.replace(',','.')))\n",
    "data['Price'] = data['Price'].astype(float)"
   ]
  },
  {
   "cell_type": "code",
   "execution_count": 7,
   "metadata": {},
   "outputs": [
    {
     "name": "stdout",
     "output_type": "stream",
     "text": [
      "<class 'pandas.core.frame.DataFrame'>\n",
      "RangeIndex: 52 entries, 0 to 51\n",
      "Data columns (total 4 columns):\n",
      "ProductName    52 non-null object\n",
      "Price          52 non-null float64\n",
      "SalesQty.      52 non-null int64\n",
      "Date           52 non-null datetime64[ns]\n",
      "dtypes: datetime64[ns](1), float64(1), int64(1), object(1)\n",
      "memory usage: 1.8+ KB\n"
     ]
    }
   ],
   "source": [
    "data.info()"
   ]
  },
  {
   "cell_type": "code",
   "execution_count": 8,
   "metadata": {},
   "outputs": [
    {
     "data": {
      "text/html": [
       "<div>\n",
       "<style scoped>\n",
       "    .dataframe tbody tr th:only-of-type {\n",
       "        vertical-align: middle;\n",
       "    }\n",
       "\n",
       "    .dataframe tbody tr th {\n",
       "        vertical-align: top;\n",
       "    }\n",
       "\n",
       "    .dataframe thead th {\n",
       "        text-align: right;\n",
       "    }\n",
       "</style>\n",
       "<table border=\"1\" class=\"dataframe\">\n",
       "  <thead>\n",
       "    <tr style=\"text-align: right;\">\n",
       "      <th></th>\n",
       "      <th>ProductName</th>\n",
       "      <th>Price</th>\n",
       "      <th>SalesQty.</th>\n",
       "      <th>Date</th>\n",
       "    </tr>\n",
       "  </thead>\n",
       "  <tbody>\n",
       "    <tr>\n",
       "      <th>0</th>\n",
       "      <td>Product1</td>\n",
       "      <td>1.58</td>\n",
       "      <td>361</td>\n",
       "      <td>2011-08-07</td>\n",
       "    </tr>\n",
       "    <tr>\n",
       "      <th>1</th>\n",
       "      <td>Product1</td>\n",
       "      <td>1.90</td>\n",
       "      <td>282</td>\n",
       "      <td>2011-08-14</td>\n",
       "    </tr>\n",
       "    <tr>\n",
       "      <th>2</th>\n",
       "      <td>Product1</td>\n",
       "      <td>1.90</td>\n",
       "      <td>315</td>\n",
       "      <td>2011-08-21</td>\n",
       "    </tr>\n",
       "    <tr>\n",
       "      <th>3</th>\n",
       "      <td>Product1</td>\n",
       "      <td>1.90</td>\n",
       "      <td>254</td>\n",
       "      <td>2011-08-28</td>\n",
       "    </tr>\n",
       "    <tr>\n",
       "      <th>4</th>\n",
       "      <td>Product1</td>\n",
       "      <td>1.90</td>\n",
       "      <td>197</td>\n",
       "      <td>2011-09-04</td>\n",
       "    </tr>\n",
       "  </tbody>\n",
       "</table>\n",
       "</div>"
      ],
      "text/plain": [
       "  ProductName  Price  SalesQty.       Date\n",
       "0    Product1   1.58        361 2011-08-07\n",
       "1    Product1   1.90        282 2011-08-14\n",
       "2    Product1   1.90        315 2011-08-21\n",
       "3    Product1   1.90        254 2011-08-28\n",
       "4    Product1   1.90        197 2011-09-04"
      ]
     },
     "execution_count": 8,
     "metadata": {},
     "output_type": "execute_result"
    }
   ],
   "source": [
    "data.head()"
   ]
  },
  {
   "cell_type": "code",
   "execution_count": 9,
   "metadata": {},
   "outputs": [
    {
     "data": {
      "text/html": [
       "<div>\n",
       "<style scoped>\n",
       "    .dataframe tbody tr th:only-of-type {\n",
       "        vertical-align: middle;\n",
       "    }\n",
       "\n",
       "    .dataframe tbody tr th {\n",
       "        vertical-align: top;\n",
       "    }\n",
       "\n",
       "    .dataframe thead th {\n",
       "        text-align: right;\n",
       "    }\n",
       "</style>\n",
       "<table border=\"1\" class=\"dataframe\">\n",
       "  <thead>\n",
       "    <tr style=\"text-align: right;\">\n",
       "      <th></th>\n",
       "      <th>Price</th>\n",
       "      <th>SalesQty.</th>\n",
       "    </tr>\n",
       "  </thead>\n",
       "  <tbody>\n",
       "    <tr>\n",
       "      <th>count</th>\n",
       "      <td>52.000000</td>\n",
       "      <td>52.000000</td>\n",
       "    </tr>\n",
       "    <tr>\n",
       "      <th>mean</th>\n",
       "      <td>2.004231</td>\n",
       "      <td>170.423077</td>\n",
       "    </tr>\n",
       "    <tr>\n",
       "      <th>std</th>\n",
       "      <td>0.138087</td>\n",
       "      <td>47.918782</td>\n",
       "    </tr>\n",
       "    <tr>\n",
       "      <th>min</th>\n",
       "      <td>1.580000</td>\n",
       "      <td>110.000000</td>\n",
       "    </tr>\n",
       "    <tr>\n",
       "      <th>25%</th>\n",
       "      <td>1.900000</td>\n",
       "      <td>142.250000</td>\n",
       "    </tr>\n",
       "    <tr>\n",
       "      <th>50%</th>\n",
       "      <td>2.015000</td>\n",
       "      <td>160.000000</td>\n",
       "    </tr>\n",
       "    <tr>\n",
       "      <th>75%</th>\n",
       "      <td>2.090000</td>\n",
       "      <td>176.000000</td>\n",
       "    </tr>\n",
       "    <tr>\n",
       "      <th>max</th>\n",
       "      <td>2.200000</td>\n",
       "      <td>361.000000</td>\n",
       "    </tr>\n",
       "  </tbody>\n",
       "</table>\n",
       "</div>"
      ],
      "text/plain": [
       "           Price   SalesQty.\n",
       "count  52.000000   52.000000\n",
       "mean    2.004231  170.423077\n",
       "std     0.138087   47.918782\n",
       "min     1.580000  110.000000\n",
       "25%     1.900000  142.250000\n",
       "50%     2.015000  160.000000\n",
       "75%     2.090000  176.000000\n",
       "max     2.200000  361.000000"
      ]
     },
     "execution_count": 9,
     "metadata": {},
     "output_type": "execute_result"
    }
   ],
   "source": [
    "data.describe()"
   ]
  },
  {
   "cell_type": "markdown",
   "metadata": {},
   "source": [
    "##### the standart deviations are small than mean, by this we can infer that there is no so much variation in data"
   ]
  },
  {
   "cell_type": "markdown",
   "metadata": {},
   "source": [
    "#### lets look at if there are more than one product for each week"
   ]
  },
  {
   "cell_type": "code",
   "execution_count": 10,
   "metadata": {},
   "outputs": [
    {
     "data": {
      "text/plain": [
       "Date\n",
       "2011-08-07    1\n",
       "2011-08-14    1\n",
       "2011-08-21    1\n",
       "2011-08-28    1\n",
       "2011-09-04    1\n",
       "2011-09-11    1\n",
       "2011-09-18    1\n",
       "2011-09-25    1\n",
       "2011-10-02    1\n",
       "2011-10-09    1\n",
       "2011-10-16    1\n",
       "2011-10-23    1\n",
       "2011-10-30    1\n",
       "2011-11-06    1\n",
       "2011-11-13    1\n",
       "2011-11-20    1\n",
       "2011-11-27    1\n",
       "2011-12-04    1\n",
       "2011-12-11    1\n",
       "2011-12-18    1\n",
       "2011-12-25    1\n",
       "2012-01-01    1\n",
       "2012-01-08    1\n",
       "2012-01-15    1\n",
       "2012-01-22    1\n",
       "2012-01-29    1\n",
       "2012-02-05    1\n",
       "2012-02-12    1\n",
       "2012-02-19    1\n",
       "2012-02-26    1\n",
       "2012-03-04    1\n",
       "2012-03-11    1\n",
       "2012-03-18    1\n",
       "2012-03-25    1\n",
       "2012-04-01    1\n",
       "2012-04-08    1\n",
       "2012-04-15    1\n",
       "2012-04-22    1\n",
       "2012-04-29    1\n",
       "2012-05-06    1\n",
       "2012-05-13    1\n",
       "2012-05-20    1\n",
       "2012-05-27    1\n",
       "2012-06-03    1\n",
       "2012-06-10    1\n",
       "2012-06-17    1\n",
       "2012-06-24    1\n",
       "2012-07-01    1\n",
       "2012-07-08    1\n",
       "2012-07-15    1\n",
       "2012-07-22    1\n",
       "2012-07-29    1\n",
       "Name: ProductName, dtype: int64"
      ]
     },
     "execution_count": 10,
     "metadata": {},
     "output_type": "execute_result"
    }
   ],
   "source": [
    "data.groupby('Date')['ProductName'].size()"
   ]
  },
  {
   "cell_type": "markdown",
   "metadata": {},
   "source": [
    "##### comment : there is only one product for each week"
   ]
  },
  {
   "cell_type": "markdown",
   "metadata": {},
   "source": [
    "#### so we can drop product column"
   ]
  },
  {
   "cell_type": "code",
   "execution_count": 11,
   "metadata": {},
   "outputs": [],
   "source": [
    "data = data.drop(['ProductName'], axis=1)"
   ]
  },
  {
   "cell_type": "code",
   "execution_count": 12,
   "metadata": {},
   "outputs": [
    {
     "data": {
      "text/html": [
       "<div>\n",
       "<style scoped>\n",
       "    .dataframe tbody tr th:only-of-type {\n",
       "        vertical-align: middle;\n",
       "    }\n",
       "\n",
       "    .dataframe tbody tr th {\n",
       "        vertical-align: top;\n",
       "    }\n",
       "\n",
       "    .dataframe thead th {\n",
       "        text-align: right;\n",
       "    }\n",
       "</style>\n",
       "<table border=\"1\" class=\"dataframe\">\n",
       "  <thead>\n",
       "    <tr style=\"text-align: right;\">\n",
       "      <th></th>\n",
       "      <th>Price</th>\n",
       "      <th>SalesQty.</th>\n",
       "    </tr>\n",
       "    <tr>\n",
       "      <th>Date</th>\n",
       "      <th></th>\n",
       "      <th></th>\n",
       "    </tr>\n",
       "  </thead>\n",
       "  <tbody>\n",
       "    <tr>\n",
       "      <th>2011-08-07</th>\n",
       "      <td>1.58</td>\n",
       "      <td>361</td>\n",
       "    </tr>\n",
       "    <tr>\n",
       "      <th>2011-08-14</th>\n",
       "      <td>1.90</td>\n",
       "      <td>282</td>\n",
       "    </tr>\n",
       "    <tr>\n",
       "      <th>2011-08-21</th>\n",
       "      <td>1.90</td>\n",
       "      <td>315</td>\n",
       "    </tr>\n",
       "    <tr>\n",
       "      <th>2011-08-28</th>\n",
       "      <td>1.90</td>\n",
       "      <td>254</td>\n",
       "    </tr>\n",
       "    <tr>\n",
       "      <th>2011-09-04</th>\n",
       "      <td>1.90</td>\n",
       "      <td>197</td>\n",
       "    </tr>\n",
       "  </tbody>\n",
       "</table>\n",
       "</div>"
      ],
      "text/plain": [
       "            Price  SalesQty.\n",
       "Date                        \n",
       "2011-08-07   1.58        361\n",
       "2011-08-14   1.90        282\n",
       "2011-08-21   1.90        315\n",
       "2011-08-28   1.90        254\n",
       "2011-09-04   1.90        197"
      ]
     },
     "execution_count": 12,
     "metadata": {},
     "output_type": "execute_result"
    }
   ],
   "source": [
    "data = data.set_index('Date')\n",
    "data = data.sort_index()\n",
    "\n",
    "data.head()"
   ]
  },
  {
   "cell_type": "markdown",
   "metadata": {},
   "source": [
    "#### and give Date column as index"
   ]
  },
  {
   "cell_type": "markdown",
   "metadata": {},
   "source": [
    "#### lets look at null values"
   ]
  },
  {
   "cell_type": "code",
   "execution_count": 13,
   "metadata": {},
   "outputs": [
    {
     "data": {
      "text/plain": [
       "Price        0\n",
       "SalesQty.    0\n",
       "dtype: int64"
      ]
     },
     "execution_count": 13,
     "metadata": {},
     "output_type": "execute_result"
    }
   ],
   "source": [
    "data.isnull().sum()"
   ]
  },
  {
   "cell_type": "markdown",
   "metadata": {},
   "source": [
    "##### comment: there is no null value in dataset"
   ]
  },
  {
   "cell_type": "markdown",
   "metadata": {},
   "source": [
    "#### lets get the distributions"
   ]
  },
  {
   "cell_type": "code",
   "execution_count": 14,
   "metadata": {},
   "outputs": [
    {
     "data": {
      "text/plain": [
       "<seaborn.axisgrid.PairGrid at 0x19fa20499b0>"
      ]
     },
     "execution_count": 14,
     "metadata": {},
     "output_type": "execute_result"
    },
    {
     "data": {
      "image/png": "[encoded data removed]",
      "text/plain": [
       "<Figure size 360x360 with 6 Axes>"
      ]
     },
     "metadata": {
      "needs_background": "light"
     },
     "output_type": "display_data"
    }
   ],
   "source": [
    "sns.pairplot(data)"
   ]
  },
  {
   "cell_type": "markdown",
   "metadata": {},
   "source": [
    "##### comment: it seems there is some linear relationship between sales and price"
   ]
  },
  {
   "cell_type": "markdown",
   "metadata": {},
   "source": [
    "##### comment : the Price is left skewed ad Sales is right skewed also"
   ]
  },
  {
   "cell_type": "markdown",
   "metadata": {},
   "source": [
    "#### lets plot time series graph"
   ]
  },
  {
   "cell_type": "code",
   "execution_count": 15,
   "metadata": {},
   "outputs": [],
   "source": [
    "data = data.reset_index()\n",
    "data = data.sort_values(by='Date')"
   ]
  },
  {
   "cell_type": "code",
   "execution_count": 16,
   "metadata": {},
   "outputs": [
    {
     "data": {
      "text/html": [
       "<div>\n",
       "<style scoped>\n",
       "    .dataframe tbody tr th:only-of-type {\n",
       "        vertical-align: middle;\n",
       "    }\n",
       "\n",
       "    .dataframe tbody tr th {\n",
       "        vertical-align: top;\n",
       "    }\n",
       "\n",
       "    .dataframe thead th {\n",
       "        text-align: right;\n",
       "    }\n",
       "</style>\n",
       "<table border=\"1\" class=\"dataframe\">\n",
       "  <thead>\n",
       "    <tr style=\"text-align: right;\">\n",
       "      <th></th>\n",
       "      <th>Date</th>\n",
       "      <th>Price</th>\n",
       "      <th>SalesQty.</th>\n",
       "    </tr>\n",
       "  </thead>\n",
       "  <tbody>\n",
       "    <tr>\n",
       "      <th>0</th>\n",
       "      <td>2011-08-07</td>\n",
       "      <td>1.58</td>\n",
       "      <td>361</td>\n",
       "    </tr>\n",
       "    <tr>\n",
       "      <th>1</th>\n",
       "      <td>2011-08-14</td>\n",
       "      <td>1.90</td>\n",
       "      <td>282</td>\n",
       "    </tr>\n",
       "    <tr>\n",
       "      <th>2</th>\n",
       "      <td>2011-08-21</td>\n",
       "      <td>1.90</td>\n",
       "      <td>315</td>\n",
       "    </tr>\n",
       "    <tr>\n",
       "      <th>3</th>\n",
       "      <td>2011-08-28</td>\n",
       "      <td>1.90</td>\n",
       "      <td>254</td>\n",
       "    </tr>\n",
       "    <tr>\n",
       "      <th>4</th>\n",
       "      <td>2011-09-04</td>\n",
       "      <td>1.90</td>\n",
       "      <td>197</td>\n",
       "    </tr>\n",
       "  </tbody>\n",
       "</table>\n",
       "</div>"
      ],
      "text/plain": [
       "        Date  Price  SalesQty.\n",
       "0 2011-08-07   1.58        361\n",
       "1 2011-08-14   1.90        282\n",
       "2 2011-08-21   1.90        315\n",
       "3 2011-08-28   1.90        254\n",
       "4 2011-09-04   1.90        197"
      ]
     },
     "execution_count": 16,
     "metadata": {},
     "output_type": "execute_result"
    }
   ],
   "source": [
    "data.head()"
   ]
  },
  {
   "cell_type": "markdown",
   "metadata": {},
   "source": [
    "#### for sales:"
   ]
  },
  {
   "cell_type": "code",
   "execution_count": 17,
   "metadata": {},
   "outputs": [
    {
     "name": "stderr",
     "output_type": "stream",
     "text": [
      "C:\\Users\\Hincal\\Anaconda3\\lib\\site-packages\\pandas\\plotting\\_matplotlib\\converter.py:103: FutureWarning: Using an implicitly registered datetime converter for a matplotlib plotting method. The converter was registered by pandas on import. Future versions of pandas will require you to explicitly register matplotlib converters.\n",
      "\n",
      "To register the converters:\n",
      "\t>>> from pandas.plotting import register_matplotlib_converters\n",
      "\t>>> register_matplotlib_converters()\n",
      "  warnings.warn(msg, FutureWarning)\n"
     ]
    },
    {
     "data": {
      "image/png": "[encoded data removed]",
      "text/plain": [
       "<Figure size 432x288 with 1 Axes>"
      ]
     },
     "metadata": {
      "needs_background": "light"
     },
     "output_type": "display_data"
    }
   ],
   "source": [
    "df = data.melt('Date', var_name='cols',  value_name='vals')\n",
    "g = sns.lineplot(x=\"Date\", y=\"vals\", hue='cols', data=df)"
   ]
  },
  {
   "cell_type": "markdown",
   "metadata": {},
   "source": [
    "#### comment: the changes in price are so low , we cannot make inference about effects of changes in time manner from this graph"
   ]
  },
  {
   "cell_type": "markdown",
   "metadata": {},
   "source": [
    "#### lets look at them in seperate graphs"
   ]
  },
  {
   "cell_type": "code",
   "execution_count": 18,
   "metadata": {},
   "outputs": [
    {
     "data": {
      "text/plain": [
       "<matplotlib.axes._subplots.AxesSubplot at 0x19fa25f3780>"
      ]
     },
     "execution_count": 18,
     "metadata": {},
     "output_type": "execute_result"
    },
    {
     "data": {
      "image/png": "[encoded data removed]",
      "text/plain": [
       "<Figure size 1800x576 with 1 Axes>"
      ]
     },
     "metadata": {
      "needs_background": "light"
     },
     "output_type": "display_data"
    }
   ],
   "source": [
    "fig = plt.figure(figsize=(25, 8))\n",
    "sns.lineplot(x=\"Date\", y=\"SalesQty.\",\n",
    "             ci=None, data=data)"
   ]
  },
  {
   "cell_type": "markdown",
   "metadata": {},
   "source": [
    "#### for price:"
   ]
  },
  {
   "cell_type": "code",
   "execution_count": 19,
   "metadata": {},
   "outputs": [
    {
     "data": {
      "text/plain": [
       "<matplotlib.axes._subplots.AxesSubplot at 0x19fa2657f60>"
      ]
     },
     "execution_count": 19,
     "metadata": {},
     "output_type": "execute_result"
    },
    {
     "data": {
      "image/png": "[encoded data removed]",
      "text/plain": [
       "<Figure size 1800x576 with 1 Axes>"
      ]
     },
     "metadata": {
      "needs_background": "light"
     },
     "output_type": "display_data"
    }
   ],
   "source": [
    "fig = plt.figure(figsize=(25, 8))\n",
    "sns.lineplot(x=\"Date\", y=\"Price\",\n",
    "             ci=None, data=data)"
   ]
  },
  {
   "cell_type": "markdown",
   "metadata": {},
   "source": [
    "#### comment : when price falls sales increases, and also there is a seasonality in price variable which occurs in every two months"
   ]
  },
  {
   "cell_type": "markdown",
   "metadata": {},
   "source": [
    "#### lets check if distribution is gaussian"
   ]
  },
  {
   "cell_type": "code",
   "execution_count": 20,
   "metadata": {},
   "outputs": [
    {
     "name": "stdout",
     "output_type": "stream",
     "text": [
      "Statistics=0.940, p=0.012\n",
      "Sample Price does not look Gaussian (reject H0)\n",
      "Statistics=0.791, p=0.000\n",
      "Sample SalesQty. does not look Gaussian (reject H0)\n"
     ]
    }
   ],
   "source": [
    "# Shapiro-Wilk Test\n",
    "from numpy.random import seed\n",
    "from scipy.stats import shapiro\n",
    "\n",
    "cols_to_check_dist = data.columns[1:3].tolist()\n",
    "\n",
    "# seed the random number generator\n",
    "seed(1)\n",
    "# normality test\n",
    "for i in cols_to_check_dist:\n",
    "    stat, p = shapiro(data[i])\n",
    "    print('Statistics=%.3f, p=%.3f' % (stat, p))\n",
    "# interpret\n",
    "    alpha = 0.05\n",
    "    if p > alpha:\n",
    "        print('Sample %s looks Gaussian (fail to reject H0)' %i)\n",
    "    else:\n",
    "        print('Sample %s does not look Gaussian (reject H0)' %i)"
   ]
  },
  {
   "cell_type": "markdown",
   "metadata": {},
   "source": [
    "##### comment : variables doesnt look gaussian, so we can choose non-parametric approaches or try to make it gaussian by transformations"
   ]
  },
  {
   "cell_type": "markdown",
   "metadata": {},
   "source": [
    "#### lets look at correlations by non-parametric approach"
   ]
  },
  {
   "cell_type": "code",
   "execution_count": 21,
   "metadata": {},
   "outputs": [
    {
     "data": {
      "text/plain": [
       "['Price', 'SalesQty.']"
      ]
     },
     "execution_count": 21,
     "metadata": {},
     "output_type": "execute_result"
    }
   ],
   "source": [
    "cols_to_check_dist"
   ]
  },
  {
   "cell_type": "code",
   "execution_count": 22,
   "metadata": {},
   "outputs": [
    {
     "data": {
      "text/plain": [
       "<matplotlib.axes._subplots.AxesSubplot at 0x19fa26c4240>"
      ]
     },
     "execution_count": 22,
     "metadata": {},
     "output_type": "execute_result"
    },
    {
     "data": {
      "image/png": "[encoded data removed]",
      "text/plain": [
       "<Figure size 576x576 with 2 Axes>"
      ]
     },
     "metadata": {
      "needs_background": "light"
     },
     "output_type": "display_data"
    }
   ],
   "source": [
    "# data doesnt look gaussian so we should take spearman correlation to check correlations\n",
    "\n",
    "spearman_corrx = {}\n",
    "for i in cols_to_check_dist:\n",
    "    spearman_corrx[i] = data.loc[:,i]\n",
    "    \n",
    "spearman_df = pd.DataFrame.from_dict(spearman_corrx)\n",
    "\n",
    "\n",
    "# Compute the correlation matrix\n",
    "corr = spearman_df.corr(method='spearman')\n",
    "\n",
    "# Generate a mask for the upper triangle\n",
    "#mask = np.zeros_like(corr, dtype=np.bool)\n",
    "#mask[np.triu_indices_from(mask)] = True\n",
    "\n",
    "# Set up the matplotlib figure\n",
    "f, ax = plt.subplots(figsize=(8, 8))\n",
    "\n",
    "# Generate a custom diverging colormap\n",
    "cmap = sns.diverging_palette(80, 10, as_cmap=True)\n",
    "\n",
    "# Draw the heatmap with the mask and correct aspect ratio\n",
    "sns.heatmap(corr, cmap=cmap, vmax=1, center=0,annot=True,\n",
    "            square=True, linewidths=.5, cbar_kws={\"shrink\": .5})"
   ]
  },
  {
   "cell_type": "markdown",
   "metadata": {},
   "source": [
    "##### comment: there is negative but strong linear relationship with Price and Sales"
   ]
  },
  {
   "cell_type": "markdown",
   "metadata": {},
   "source": [
    "#### lets find outliers"
   ]
  },
  {
   "cell_type": "markdown",
   "metadata": {},
   "source": [
    "#### I will create a non-outliered dataframe names \"data2\""
   ]
  },
  {
   "cell_type": "code",
   "execution_count": 23,
   "metadata": {},
   "outputs": [],
   "source": [
    "data2 = deepcopy(data)"
   ]
  },
  {
   "cell_type": "code",
   "execution_count": 24,
   "metadata": {},
   "outputs": [
    {
     "data": {
      "text/html": [
       "<div>\n",
       "<style scoped>\n",
       "    .dataframe tbody tr th:only-of-type {\n",
       "        vertical-align: middle;\n",
       "    }\n",
       "\n",
       "    .dataframe tbody tr th {\n",
       "        vertical-align: top;\n",
       "    }\n",
       "\n",
       "    .dataframe thead th {\n",
       "        text-align: right;\n",
       "    }\n",
       "</style>\n",
       "<table border=\"1\" class=\"dataframe\">\n",
       "  <thead>\n",
       "    <tr style=\"text-align: right;\">\n",
       "      <th></th>\n",
       "      <th>Price_valcounts</th>\n",
       "      <th>SalesQty._valcounts</th>\n",
       "    </tr>\n",
       "  </thead>\n",
       "  <tbody>\n",
       "    <tr>\n",
       "      <th>all_count</th>\n",
       "      <td>52.0</td>\n",
       "      <td>52.0</td>\n",
       "    </tr>\n",
       "    <tr>\n",
       "      <th>outlier_cnts</th>\n",
       "      <td>1.0</td>\n",
       "      <td>5.0</td>\n",
       "    </tr>\n",
       "    <tr>\n",
       "      <th>non_outlier_cnts</th>\n",
       "      <td>51.0</td>\n",
       "      <td>47.0</td>\n",
       "    </tr>\n",
       "    <tr>\n",
       "      <th>equal_min_cnts</th>\n",
       "      <td>1.0</td>\n",
       "      <td>1.0</td>\n",
       "    </tr>\n",
       "    <tr>\n",
       "      <th>betw_q25_min_cnts</th>\n",
       "      <td>9.0</td>\n",
       "      <td>13.0</td>\n",
       "    </tr>\n",
       "    <tr>\n",
       "      <th>betw_q50_q25_cnts</th>\n",
       "      <td>17.0</td>\n",
       "      <td>13.0</td>\n",
       "    </tr>\n",
       "    <tr>\n",
       "      <th>betw_q75_q50_cnts</th>\n",
       "      <td>6.0</td>\n",
       "      <td>13.0</td>\n",
       "    </tr>\n",
       "    <tr>\n",
       "      <th>betw_max_q75_cnts</th>\n",
       "      <td>17.0</td>\n",
       "      <td>12.0</td>\n",
       "    </tr>\n",
       "  </tbody>\n",
       "</table>\n",
       "</div>"
      ],
      "text/plain": [
       "                   Price_valcounts  SalesQty._valcounts\n",
       "all_count                     52.0                 52.0\n",
       "outlier_cnts                   1.0                  5.0\n",
       "non_outlier_cnts              51.0                 47.0\n",
       "equal_min_cnts                 1.0                  1.0\n",
       "betw_q25_min_cnts              9.0                 13.0\n",
       "betw_q50_q25_cnts             17.0                 13.0\n",
       "betw_q75_q50_cnts              6.0                 13.0\n",
       "betw_max_q75_cnts             17.0                 12.0"
      ]
     },
     "execution_count": 24,
     "metadata": {},
     "output_type": "execute_result"
    }
   ],
   "source": [
    "Q1 = data2[cols_to_check_dist].quantile(0.25)\n",
    "Q3 = data2[cols_to_check_dist].quantile(0.75)\n",
    "IQR = Q3 - Q1\n",
    "\n",
    "columns_desc= cols_to_check_dist\n",
    "\n",
    "desc_df = pd.DataFrame()\n",
    "for col in columns_desc:\n",
    "    desc_df[col] = data2[col].describe(include='all')\n",
    "    desc_df[col + '_valcounts'] = np.nan\n",
    "    \n",
    "for col in columns_desc:\n",
    "    desc_df = desc_df.T\n",
    "    desc_df.columns = ['count','mean','std','min','q25','q50','q75','max']\n",
    "    desc_df = desc_df.T\n",
    "    desc_df.loc['min',col + '_valcounts'] = data2.loc[(data2[col].values == desc_df.loc['min',col])].count()['Date']\n",
    "    desc_df.loc['q25',col + '_valcounts'] = data2.loc[(data2[col].values >= desc_df.loc['min',col]) & (data2[col].values < desc_df.loc['q25',col])].count()['Date']\n",
    "    desc_df.loc['q50',col + '_valcounts'] = data2.loc[(data2[col].values >= desc_df.loc['q25',col]) & (data2[col].values < desc_df.loc['q50',col])].count()['Date']\n",
    "    desc_df.loc['q75',col + '_valcounts'] = data2.loc[(data2[col].values >= desc_df.loc['q50',col]) & (data2[col].values < desc_df.loc['q75',col])].count()['Date']\n",
    "    desc_df.loc['max',col + '_valcounts'] = data2.loc[(data2[col].values >= desc_df.loc['q75',col]) & (data2[col].values < desc_df.loc['max',col])].count()['Date']\n",
    "    desc_df.loc['std',col + '_valcounts'] = data2.loc[(data2[col].values >= (Q1[col] -  1.5*IQR[col])) & (data2[col].values <= (Q3[col] +  1.5*IQR[col]))].count()['Date']\n",
    "    desc_df.loc['count',col + '_valcounts'] = desc_df.loc['count',col]\n",
    "    desc_df.loc['mean',col + '_valcounts'] = desc_df.loc['count',col + '_valcounts'] -  desc_df.loc['std',col + '_valcounts']\n",
    "    \n",
    "    \n",
    "desc_df_cols = desc_df.columns.tolist()\n",
    "end_words = ['_valcounts']\n",
    "val_count_cols = [col for col in desc_df_cols if any(col.endswith(end) for end in end_words)]\n",
    "\n",
    "desc_df_cnts = desc_df[val_count_cols]\n",
    "\n",
    "desc_df_cnts = desc_df_cnts.T\n",
    "\n",
    "desc_df_cnts.columns = ['all_count','outlier_cnts','non_outlier_cnts','equal_min_cnts','betw_q25_min_cnts','betw_q50_q25_cnts','betw_q75_q50_cnts','betw_max_q75_cnts']\n",
    "desc_df_cnts = desc_df_cnts.T\n",
    "\n",
    "desc_df_cnts"
   ]
  },
  {
   "cell_type": "markdown",
   "metadata": {},
   "source": [
    "#### there are so few outliers, lets replace them by column means"
   ]
  },
  {
   "cell_type": "code",
   "execution_count": 25,
   "metadata": {},
   "outputs": [
    {
     "name": "stderr",
     "output_type": "stream",
     "text": [
      "C:\\Users\\Hincal\\Anaconda3\\lib\\site-packages\\ipykernel_launcher.py:4: SettingWithCopyWarning: \n",
      "A value is trying to be set on a copy of a slice from a DataFrame\n",
      "\n",
      "See the caveats in the documentation: http://pandas.pydata.org/pandas-docs/stable/user_guide/indexing.html#returning-a-view-versus-a-copy\n",
      "  after removing the cwd from sys.path.\n"
     ]
    }
   ],
   "source": [
    "mean = {}\n",
    "for col in cols_to_check_dist:\n",
    "    mean[col] = data2[col].mean()\n",
    "    data2[col][((data2[col] < (Q1[col] -  1.5*IQR[col])) | (data[col] > (Q3[col] +  1.5*IQR[col])))] = np.nan\n",
    "    data2[col].fillna(mean[col],inplace=True)"
   ]
  },
  {
   "cell_type": "markdown",
   "metadata": {},
   "source": [
    "#### now check the descriptives and distributions again"
   ]
  },
  {
   "cell_type": "code",
   "execution_count": 26,
   "metadata": {},
   "outputs": [
    {
     "data": {
      "text/html": [
       "<div>\n",
       "<style scoped>\n",
       "    .dataframe tbody tr th:only-of-type {\n",
       "        vertical-align: middle;\n",
       "    }\n",
       "\n",
       "    .dataframe tbody tr th {\n",
       "        vertical-align: top;\n",
       "    }\n",
       "\n",
       "    .dataframe thead th {\n",
       "        text-align: right;\n",
       "    }\n",
       "</style>\n",
       "<table border=\"1\" class=\"dataframe\">\n",
       "  <thead>\n",
       "    <tr style=\"text-align: right;\">\n",
       "      <th></th>\n",
       "      <th>Price</th>\n",
       "      <th>SalesQty.</th>\n",
       "    </tr>\n",
       "  </thead>\n",
       "  <tbody>\n",
       "    <tr>\n",
       "      <th>count</th>\n",
       "      <td>52.000000</td>\n",
       "      <td>52.000000</td>\n",
       "    </tr>\n",
       "    <tr>\n",
       "      <th>mean</th>\n",
       "      <td>2.012389</td>\n",
       "      <td>158.771450</td>\n",
       "    </tr>\n",
       "    <tr>\n",
       "      <th>std</th>\n",
       "      <td>0.124384</td>\n",
       "      <td>23.296350</td>\n",
       "    </tr>\n",
       "    <tr>\n",
       "      <th>min</th>\n",
       "      <td>1.710000</td>\n",
       "      <td>110.000000</td>\n",
       "    </tr>\n",
       "    <tr>\n",
       "      <th>25%</th>\n",
       "      <td>1.900000</td>\n",
       "      <td>142.250000</td>\n",
       "    </tr>\n",
       "    <tr>\n",
       "      <th>50%</th>\n",
       "      <td>2.015000</td>\n",
       "      <td>160.000000</td>\n",
       "    </tr>\n",
       "    <tr>\n",
       "      <th>75%</th>\n",
       "      <td>2.090000</td>\n",
       "      <td>170.423077</td>\n",
       "    </tr>\n",
       "    <tr>\n",
       "      <th>max</th>\n",
       "      <td>2.200000</td>\n",
       "      <td>205.000000</td>\n",
       "    </tr>\n",
       "  </tbody>\n",
       "</table>\n",
       "</div>"
      ],
      "text/plain": [
       "           Price   SalesQty.\n",
       "count  52.000000   52.000000\n",
       "mean    2.012389  158.771450\n",
       "std     0.124384   23.296350\n",
       "min     1.710000  110.000000\n",
       "25%     1.900000  142.250000\n",
       "50%     2.015000  160.000000\n",
       "75%     2.090000  170.423077\n",
       "max     2.200000  205.000000"
      ]
     },
     "execution_count": 26,
     "metadata": {},
     "output_type": "execute_result"
    }
   ],
   "source": [
    "data2.describe()"
   ]
  },
  {
   "cell_type": "code",
   "execution_count": 27,
   "metadata": {},
   "outputs": [
    {
     "data": {
      "text/plain": [
       "<seaborn.axisgrid.PairGrid at 0x19f8ebda0b8>"
      ]
     },
     "execution_count": 27,
     "metadata": {},
     "output_type": "execute_result"
    },
    {
     "data": {
      "image/png": "[encoded data removed]",
      "text/plain": [
       "<Figure size 360x360 with 6 Axes>"
      ]
     },
     "metadata": {
      "needs_background": "light"
     },
     "output_type": "display_data"
    }
   ],
   "source": [
    "sns.pairplot(data2)"
   ]
  },
  {
   "cell_type": "markdown",
   "metadata": {},
   "source": [
    "##### comment : more normalized data we have now"
   ]
  },
  {
   "cell_type": "markdown",
   "metadata": {},
   "source": [
    "##### check correlations to see if there is an improvement"
   ]
  },
  {
   "cell_type": "code",
   "execution_count": 28,
   "metadata": {},
   "outputs": [
    {
     "data": {
      "text/plain": [
       "<matplotlib.axes._subplots.AxesSubplot at 0x19fa2f30940>"
      ]
     },
     "execution_count": 28,
     "metadata": {},
     "output_type": "execute_result"
    },
    {
     "data": {
      "image/png": "[encoded data removed]",
      "text/plain": [
       "<Figure size 576x576 with 2 Axes>"
      ]
     },
     "metadata": {
      "needs_background": "light"
     },
     "output_type": "display_data"
    }
   ],
   "source": [
    "# data doesnt look gaussian so we should take spearman correlation to check correlations\n",
    "\n",
    "spearman_corrx = {}\n",
    "for i in cols_to_check_dist:\n",
    "    spearman_corrx[i] = data2.loc[:,i]\n",
    "    \n",
    "spearman_df = pd.DataFrame.from_dict(spearman_corrx)\n",
    "\n",
    "\n",
    "# Compute the correlation matrix\n",
    "corr = spearman_df.corr(method='spearman')\n",
    "\n",
    "# Generate a mask for the upper triangle\n",
    "#mask = np.zeros_like(corr, dtype=np.bool)\n",
    "#mask[np.triu_indices_from(mask)] = True\n",
    "\n",
    "# Set up the matplotlib figure\n",
    "f, ax = plt.subplots(figsize=(8, 8))\n",
    "\n",
    "# Generate a custom diverging colormap\n",
    "cmap = sns.diverging_palette(80, 10, as_cmap=True)\n",
    "\n",
    "# Draw the heatmap with the mask and correct aspect ratio\n",
    "sns.heatmap(corr, cmap=cmap, vmax=1, center=0,annot=True,\n",
    "            square=True, linewidths=.5, cbar_kws={\"shrink\": .5})"
   ]
  },
  {
   "cell_type": "markdown",
   "metadata": {},
   "source": [
    "#### comment: there is a small decrease in correlation but it is in acceptable range, so we can use this data with algorithms which have linear assumptions"
   ]
  },
  {
   "cell_type": "markdown",
   "metadata": {},
   "source": [
    "#### lets try also make some transformations on non-outliered data to fit the distribution to normal"
   ]
  },
  {
   "cell_type": "markdown",
   "metadata": {},
   "source": [
    "#### lets plot firstly the distribution of price variable"
   ]
  },
  {
   "cell_type": "code",
   "execution_count": 29,
   "metadata": {},
   "outputs": [
    {
     "data": {
      "text/plain": [
       "<matplotlib.axes._subplots.AxesSubplot at 0x19fa2fb9a20>"
      ]
     },
     "execution_count": 29,
     "metadata": {},
     "output_type": "execute_result"
    },
    {
     "data": {
      "image/png": "[encoded data removed]",
      "text/plain": [
       "<Figure size 432x288 with 1 Axes>"
      ]
     },
     "metadata": {
      "needs_background": "light"
     },
     "output_type": "display_data"
    }
   ],
   "source": [
    "sns.distplot(data.Price,ax=plt.gca())"
   ]
  },
  {
   "cell_type": "markdown",
   "metadata": {},
   "source": [
    "#### use box-cox transformations"
   ]
  },
  {
   "cell_type": "code",
   "execution_count": 30,
   "metadata": {},
   "outputs": [
    {
     "data": {
      "text/plain": [
       "<matplotlib.axes._subplots.AxesSubplot at 0x19fa2ffe390>"
      ]
     },
     "execution_count": 30,
     "metadata": {},
     "output_type": "execute_result"
    },
    {
     "data": {
      "image/png": "[encoded data removed]",
      "text/plain": [
       "<Figure size 432x288 with 1 Axes>"
      ]
     },
     "metadata": {
      "needs_background": "light"
     },
     "output_type": "display_data"
    }
   ],
   "source": [
    "from scipy.stats import boxcox\n",
    "price_0 = boxcox(data.Price,0)\n",
    "sns.distplot(price_0,ax=plt.gca())"
   ]
  },
  {
   "cell_type": "code",
   "execution_count": 31,
   "metadata": {},
   "outputs": [
    {
     "data": {
      "text/plain": [
       "<matplotlib.axes._subplots.AxesSubplot at 0x19fa307fef0>"
      ]
     },
     "execution_count": 31,
     "metadata": {},
     "output_type": "execute_result"
    },
    {
     "data": {
      "image/png": "[encoded data removed]",
      "text/plain": [
       "<Figure size 432x288 with 1 Axes>"
      ]
     },
     "metadata": {
      "needs_background": "light"
     },
     "output_type": "display_data"
    }
   ],
   "source": [
    "from scipy.stats import boxcox\n",
    "price_1 = boxcox(data.Price,1)\n",
    "sns.distplot(price_1,ax=plt.gca())"
   ]
  },
  {
   "cell_type": "code",
   "execution_count": 32,
   "metadata": {},
   "outputs": [
    {
     "data": {
      "text/plain": [
       "<matplotlib.axes._subplots.AxesSubplot at 0x19fa30f82b0>"
      ]
     },
     "execution_count": 32,
     "metadata": {},
     "output_type": "execute_result"
    },
    {
     "data": {
      "image/png": "[encoded data removed]",
      "text/plain": [
       "<Figure size 432x288 with 1 Axes>"
      ]
     },
     "metadata": {
      "needs_background": "light"
     },
     "output_type": "display_data"
    }
   ],
   "source": [
    "from scipy.stats import boxcox\n",
    "price_2 = boxcox(data.Price,2)\n",
    "sns.distplot(price_2,ax=plt.gca())"
   ]
  },
  {
   "cell_type": "code",
   "execution_count": 33,
   "metadata": {},
   "outputs": [
    {
     "data": {
      "text/plain": [
       "<matplotlib.axes._subplots.AxesSubplot at 0x19fa417b588>"
      ]
     },
     "execution_count": 33,
     "metadata": {},
     "output_type": "execute_result"
    },
    {
     "data": {
      "image/png": "[encoded data removed]",
      "text/plain": [
       "<Figure size 432x288 with 1 Axes>"
      ]
     },
     "metadata": {
      "needs_background": "light"
     },
     "output_type": "display_data"
    }
   ],
   "source": [
    "from scipy.stats import boxcox\n",
    "price__1 = boxcox(data.Price,-1)\n",
    "sns.distplot(price__1,ax=plt.gca())"
   ]
  },
  {
   "cell_type": "code",
   "execution_count": 34,
   "metadata": {},
   "outputs": [
    {
     "data": {
      "text/plain": [
       "<matplotlib.axes._subplots.AxesSubplot at 0x19fa41c84a8>"
      ]
     },
     "execution_count": 34,
     "metadata": {},
     "output_type": "execute_result"
    },
    {
     "data": {
      "image/png": "[encoded data removed]",
      "text/plain": [
       "<Figure size 432x288 with 1 Axes>"
      ]
     },
     "metadata": {
      "needs_background": "light"
     },
     "output_type": "display_data"
    }
   ],
   "source": [
    "\n",
    "price__2 = boxcox(data.Price,-2)\n",
    "sns.distplot(price__2,ax=plt.gca())"
   ]
  },
  {
   "cell_type": "markdown",
   "metadata": {},
   "source": [
    "##### comment: we can use \"-1\" log transformation in future"
   ]
  },
  {
   "cell_type": "markdown",
   "metadata": {},
   "source": [
    "#### lets make same thing for sales variable"
   ]
  },
  {
   "cell_type": "markdown",
   "metadata": {},
   "source": [
    "#### the original distribution of sales :"
   ]
  },
  {
   "cell_type": "code",
   "execution_count": 35,
   "metadata": {},
   "outputs": [
    {
     "data": {
      "text/plain": [
       "<matplotlib.axes._subplots.AxesSubplot at 0x19fa425c240>"
      ]
     },
     "execution_count": 35,
     "metadata": {},
     "output_type": "execute_result"
    },
    {
     "data": {
      "image/png": "[encoded data removed]",
      "text/plain": [
       "<Figure size 432x288 with 1 Axes>"
      ]
     },
     "metadata": {
      "needs_background": "light"
     },
     "output_type": "display_data"
    }
   ],
   "source": [
    "sns.distplot(data['SalesQty.'],ax=plt.gca())"
   ]
  },
  {
   "cell_type": "code",
   "execution_count": 36,
   "metadata": {},
   "outputs": [
    {
     "data": {
      "text/plain": [
       "<matplotlib.axes._subplots.AxesSubplot at 0x19fa42eadd8>"
      ]
     },
     "execution_count": 36,
     "metadata": {},
     "output_type": "execute_result"
    },
    {
     "data": {
      "image/png": "[encoded data removed]",
      "text/plain": [
       "<Figure size 432x288 with 1 Axes>"
      ]
     },
     "metadata": {
      "needs_background": "light"
     },
     "output_type": "display_data"
    }
   ],
   "source": [
    "sales_0 = boxcox(data['SalesQty.'],0)\n",
    "sns.distplot(sales_0,ax=plt.gca())"
   ]
  },
  {
   "cell_type": "code",
   "execution_count": 37,
   "metadata": {},
   "outputs": [
    {
     "data": {
      "text/plain": [
       "<matplotlib.axes._subplots.AxesSubplot at 0x19fa4370f98>"
      ]
     },
     "execution_count": 37,
     "metadata": {},
     "output_type": "execute_result"
    },
    {
     "data": {
      "image/png": "[encoded data removed]",
      "text/plain": [
       "<Figure size 432x288 with 1 Axes>"
      ]
     },
     "metadata": {
      "needs_background": "light"
     },
     "output_type": "display_data"
    }
   ],
   "source": [
    "sales_1 = boxcox(data['SalesQty.'],1)\n",
    "sns.distplot(sales_1,ax=plt.gca())"
   ]
  },
  {
   "cell_type": "code",
   "execution_count": 38,
   "metadata": {},
   "outputs": [
    {
     "data": {
      "text/plain": [
       "<matplotlib.axes._subplots.AxesSubplot at 0x19fa43fe470>"
      ]
     },
     "execution_count": 38,
     "metadata": {},
     "output_type": "execute_result"
    },
    {
     "data": {
      "image/png": "[encoded data removed]",
      "text/plain": [
       "<Figure size 432x288 with 1 Axes>"
      ]
     },
     "metadata": {
      "needs_background": "light"
     },
     "output_type": "display_data"
    }
   ],
   "source": [
    "sales_2 = boxcox(data['SalesQty.'],2)\n",
    "sns.distplot(sales_2,ax=plt.gca())"
   ]
  },
  {
   "cell_type": "code",
   "execution_count": 39,
   "metadata": {},
   "outputs": [
    {
     "data": {
      "text/plain": [
       "<matplotlib.axes._subplots.AxesSubplot at 0x19fa4493a58>"
      ]
     },
     "execution_count": 39,
     "metadata": {},
     "output_type": "execute_result"
    },
    {
     "data": {
      "image/png": "[encoded data removed]",
      "text/plain": [
       "<Figure size 432x288 with 1 Axes>"
      ]
     },
     "metadata": {
      "needs_background": "light"
     },
     "output_type": "display_data"
    }
   ],
   "source": [
    "sales__1 = boxcox(data['SalesQty.'],-1)\n",
    "sns.distplot(sales__1,ax=plt.gca())"
   ]
  },
  {
   "cell_type": "code",
   "execution_count": 40,
   "metadata": {},
   "outputs": [
    {
     "data": {
      "text/plain": [
       "<matplotlib.axes._subplots.AxesSubplot at 0x19fa450cfd0>"
      ]
     },
     "execution_count": 40,
     "metadata": {},
     "output_type": "execute_result"
    },
    {
     "data": {
      "image/png": "[encoded data removed]",
      "text/plain": [
       "<Figure size 432x288 with 1 Axes>"
      ]
     },
     "metadata": {
      "needs_background": "light"
     },
     "output_type": "display_data"
    }
   ],
   "source": [
    "sales__2 = boxcox(data['SalesQty.'],-2)\n",
    "sns.distplot(sales__2,ax=plt.gca())"
   ]
  },
  {
   "cell_type": "code",
   "execution_count": 41,
   "metadata": {},
   "outputs": [],
   "source": [
    "sales_tup = (sales__2,sales__1,sales_0,sales_1,sales_2)\n",
    "price_tup = (price__2,price__1,price_0,price_1,price_2)"
   ]
  },
  {
   "cell_type": "code",
   "execution_count": 42,
   "metadata": {},
   "outputs": [
    {
     "name": "stdout",
     "output_type": "stream",
     "text": [
      "(4, 0)\n"
     ]
    }
   ],
   "source": [
    "dct={}\n",
    "for sale in range(len(sales_tup)):\n",
    "    for pri in range(len(price_tup)):\n",
    "        dct[sale,pri] = np.corrcoef(sales_tup[sale],price_tup[pri])[0][1]\n",
    "\n",
    "print(min(dct, key=dct.get))"
   ]
  },
  {
   "cell_type": "code",
   "execution_count": 43,
   "metadata": {},
   "outputs": [
    {
     "data": {
      "text/plain": [
       "array([[ 1.        , -0.63310651],\n",
       "       [-0.63310651,  1.        ]])"
      ]
     },
     "execution_count": 43,
     "metadata": {},
     "output_type": "execute_result"
    }
   ],
   "source": [
    "np.corrcoef(sales_2,price__2)"
   ]
  },
  {
   "cell_type": "markdown",
   "metadata": {},
   "source": [
    "##### comment : we now have more correlated variables with log transformations !"
   ]
  },
  {
   "cell_type": "code",
   "execution_count": 44,
   "metadata": {},
   "outputs": [],
   "source": [
    "data['sales_2'] = sales_2\n",
    "data['price__2'] = price__2"
   ]
  },
  {
   "cell_type": "code",
   "execution_count": 45,
   "metadata": {},
   "outputs": [],
   "source": [
    "data = data.set_index('Date')\n",
    "data = data.sort_index()"
   ]
  },
  {
   "cell_type": "code",
   "execution_count": 46,
   "metadata": {},
   "outputs": [
    {
     "data": {
      "text/html": [
       "<div>\n",
       "<style scoped>\n",
       "    .dataframe tbody tr th:only-of-type {\n",
       "        vertical-align: middle;\n",
       "    }\n",
       "\n",
       "    .dataframe tbody tr th {\n",
       "        vertical-align: top;\n",
       "    }\n",
       "\n",
       "    .dataframe thead th {\n",
       "        text-align: right;\n",
       "    }\n",
       "</style>\n",
       "<table border=\"1\" class=\"dataframe\">\n",
       "  <thead>\n",
       "    <tr style=\"text-align: right;\">\n",
       "      <th></th>\n",
       "      <th>Price</th>\n",
       "      <th>SalesQty.</th>\n",
       "      <th>sales_2</th>\n",
       "      <th>price__2</th>\n",
       "    </tr>\n",
       "    <tr>\n",
       "      <th>Date</th>\n",
       "      <th></th>\n",
       "      <th></th>\n",
       "      <th></th>\n",
       "      <th></th>\n",
       "    </tr>\n",
       "  </thead>\n",
       "  <tbody>\n",
       "    <tr>\n",
       "      <th>2011-08-07</th>\n",
       "      <td>1.58</td>\n",
       "      <td>361</td>\n",
       "      <td>65160.0</td>\n",
       "      <td>0.299712</td>\n",
       "    </tr>\n",
       "    <tr>\n",
       "      <th>2011-08-14</th>\n",
       "      <td>1.90</td>\n",
       "      <td>282</td>\n",
       "      <td>39761.5</td>\n",
       "      <td>0.361496</td>\n",
       "    </tr>\n",
       "    <tr>\n",
       "      <th>2011-08-21</th>\n",
       "      <td>1.90</td>\n",
       "      <td>315</td>\n",
       "      <td>49612.0</td>\n",
       "      <td>0.361496</td>\n",
       "    </tr>\n",
       "    <tr>\n",
       "      <th>2011-08-28</th>\n",
       "      <td>1.90</td>\n",
       "      <td>254</td>\n",
       "      <td>32257.5</td>\n",
       "      <td>0.361496</td>\n",
       "    </tr>\n",
       "    <tr>\n",
       "      <th>2011-09-04</th>\n",
       "      <td>1.90</td>\n",
       "      <td>197</td>\n",
       "      <td>19404.0</td>\n",
       "      <td>0.361496</td>\n",
       "    </tr>\n",
       "  </tbody>\n",
       "</table>\n",
       "</div>"
      ],
      "text/plain": [
       "            Price  SalesQty.  sales_2  price__2\n",
       "Date                                           \n",
       "2011-08-07   1.58        361  65160.0  0.299712\n",
       "2011-08-14   1.90        282  39761.5  0.361496\n",
       "2011-08-21   1.90        315  49612.0  0.361496\n",
       "2011-08-28   1.90        254  32257.5  0.361496\n",
       "2011-09-04   1.90        197  19404.0  0.361496"
      ]
     },
     "execution_count": 46,
     "metadata": {},
     "output_type": "execute_result"
    }
   ],
   "source": [
    "data.head()"
   ]
  },
  {
   "cell_type": "markdown",
   "metadata": {},
   "source": [
    "### to the this point : I looked at null counts, outliers, distributions, correlations and made transformations, so feature engineering part is finished"
   ]
  },
  {
   "cell_type": "markdown",
   "metadata": {},
   "source": [
    "#### now lets create some models "
   ]
  },
  {
   "cell_type": "markdown",
   "metadata": {},
   "source": [
    "### firstly I will make basic time series model with ony Sales variable"
   ]
  },
  {
   "cell_type": "code",
   "execution_count": 47,
   "metadata": {},
   "outputs": [
    {
     "name": "stdout",
     "output_type": "stream",
     "text": [
      "ARIMA(0, 0, 0) MSE=462.796\n",
      "ARIMA(0, 0, 1) MSE=370.897\n",
      "ARIMA(0, 0, 2) MSE=745.362\n",
      "ARIMA(0, 1, 0) MSE=690.784\n",
      "ARIMA(0, 1, 1) MSE=656.683\n",
      "ARIMA(0, 1, 2) MSE=669.015\n",
      "ARIMA(0, 2, 0) MSE=1691.565\n",
      "ARIMA(0, 2, 1) MSE=580.838\n",
      "ARIMA(1, 0, 0) MSE=528.517\n",
      "ARIMA(1, 0, 1) MSE=429.033\n",
      "ARIMA(1, 0, 2) MSE=361.410\n",
      "ARIMA(1, 1, 0) MSE=651.294\n",
      "ARIMA(1, 2, 0) MSE=1007.576\n",
      "ARIMA(2, 0, 0) MSE=486.856\n",
      "ARIMA(2, 0, 1) MSE=478.665\n",
      "ARIMA(2, 0, 2) MSE=510.553\n",
      "ARIMA(2, 1, 0) MSE=638.942\n",
      "ARIMA(2, 1, 1) MSE=670.981\n",
      "ARIMA(2, 1, 2) MSE=701.000\n",
      "ARIMA(2, 2, 0) MSE=576.169\n",
      "ARIMA(3, 0, 0) MSE=468.907\n",
      "ARIMA(3, 0, 1) MSE=476.984\n",
      "ARIMA(3, 0, 2) MSE=494.000\n",
      "ARIMA(3, 1, 0) MSE=769.343\n",
      "ARIMA(3, 1, 1) MSE=676.019\n",
      "ARIMA(3, 2, 0) MSE=938.466\n",
      "ARIMA(3, 2, 1) MSE=535.641\n",
      "ARIMA(5, 0, 0) MSE=602.990\n",
      "ARIMA(5, 0, 1) MSE=537.976\n",
      "ARIMA(5, 0, 2) MSE=521.323\n",
      "ARIMA(5, 1, 0) MSE=796.821\n",
      "ARIMA(5, 1, 1) MSE=819.707\n",
      "ARIMA(5, 1, 2) MSE=805.442\n",
      "ARIMA(5, 2, 0) MSE=569.812\n",
      "ARIMA(5, 2, 1) MSE=518.352\n",
      "ARIMA(6, 0, 0) MSE=607.585\n",
      "ARIMA(6, 0, 1) MSE=613.844\n",
      "ARIMA(6, 1, 0) MSE=759.177\n",
      "ARIMA(6, 1, 1) MSE=828.429\n",
      "ARIMA(6, 2, 0) MSE=588.965\n",
      "ARIMA(6, 2, 1) MSE=529.286\n",
      "Best ARIMA(1, 0, 2) MSE=361.410\n"
     ]
    }
   ],
   "source": [
    "# evaluate an ARIMA model for a given order (p,d,q)\n",
    "def evaluate_arima_model(X, arima_order):\n",
    "    # prepare training dataset\n",
    "    train_size = 44\n",
    "    train, test = X[0:train_size], X[train_size:]\n",
    "    history = [x for x in train]\n",
    "    # make predictions\n",
    "    predictions = list()\n",
    "    for t in range(len(test)):\n",
    "        model = ARIMA(history, order=arima_order)\n",
    "        model_fit = model.fit(disp=0)\n",
    "        yhat = model_fit.forecast()[0]\n",
    "        predictions.append(yhat)\n",
    "        history.append(test[t])\n",
    "    # calculate out of sample error\n",
    "    error = mean_squared_error(test, predictions)\n",
    "    return error\n",
    " \n",
    "# evaluate combinations of p, d and q values for an ARIMA model\n",
    "def evaluate_models(dataset, p_values, d_values, q_values):\n",
    "    dataset = dataset.astype('float32')\n",
    "    best_score, best_cfg = float(\"inf\"), None\n",
    "    for p in p_values:\n",
    "        for d in d_values:\n",
    "            for q in q_values:\n",
    "                order = (p,d,q)\n",
    "                try:\n",
    "                    mse = evaluate_arima_model(dataset, order)\n",
    "                    if mse < best_score:\n",
    "                        best_score, best_cfg = mse, order\n",
    "                    print('ARIMA%s MSE=%.3f' % (order,mse))\n",
    "                except:\n",
    "                    continue\n",
    "    print('Best ARIMA%s MSE=%.3f' % (best_cfg, best_score))\n",
    "\n",
    "series = data['SalesQty.']\n",
    "# evaluate parameters\n",
    "p_values = [0, 1, 2, 3, 5, 6]\n",
    "d_values = range(0, 3)\n",
    "q_values = range(0, 3)\n",
    "warnings.filterwarnings(\"ignore\")\n",
    "evaluate_models(series.values, p_values, d_values, q_values)"
   ]
  },
  {
   "cell_type": "markdown",
   "metadata": {},
   "source": [
    "#### lets make a lineer regression model with original variables to see if we can achive a better MSE "
   ]
  },
  {
   "cell_type": "code",
   "execution_count": 48,
   "metadata": {},
   "outputs": [
    {
     "name": "stdout",
     "output_type": "stream",
     "text": [
      "                                 OLS Regression Results                                \n",
      "=======================================================================================\n",
      "Dep. Variable:                      y   R-squared (uncentered):                   0.892\n",
      "Model:                            OLS   Adj. R-squared (uncentered):              0.889\n",
      "Method:                 Least Squares   F-statistic:                              354.0\n",
      "Date:                Sun, 05 Jan 2020   Prob (F-statistic):                    2.25e-22\n",
      "Time:                        13:21:57   Log-Likelihood:                         -241.53\n",
      "No. Observations:                  44   AIC:                                      485.1\n",
      "Df Residuals:                      43   BIC:                                      486.8\n",
      "Df Model:                           1                                                  \n",
      "Covariance Type:            nonrobust                                                  \n",
      "==============================================================================\n",
      "                 coef    std err          t      P>|t|      [0.025      0.975]\n",
      "------------------------------------------------------------------------------\n",
      "x1            84.7554      4.505     18.814      0.000      75.670      93.840\n",
      "==============================================================================\n",
      "Omnibus:                       27.752   Durbin-Watson:                   0.388\n",
      "Prob(Omnibus):                  0.000   Jarque-Bera (JB):               50.780\n",
      "Skew:                           1.840   Prob(JB):                     9.40e-12\n",
      "Kurtosis:                       6.763   Cond. No.                         1.00\n",
      "==============================================================================\n",
      "\n",
      "Warnings:\n",
      "[1] Standard Errors assume that the covariance matrix of the errors is correctly specified.\n",
      "Mean Squared Error: 922.1214977034924\n"
     ]
    }
   ],
   "source": [
    "X = data['Price']\n",
    "y = data['SalesQty.']\n",
    "train_size = 44\n",
    "X_train, X_test, y_train, y_test = X[0:train_size], X[train_size:],y[0:train_size], y[train_size:]\n",
    "\n",
    "model = sm.OLS(y_train.values.reshape(-1,1), X_train.values.reshape(-1,1))\n",
    "results = model.fit()\n",
    "print(results.summary())\n",
    "\n",
    "y_pred=results.predict(X_test.values.reshape(-1,1))\n",
    "print('Mean Squared Error:', mean_squared_error(y_test.values.reshape(-1,1), y_pred)) "
   ]
  },
  {
   "cell_type": "markdown",
   "metadata": {},
   "source": [
    "#### now lets make a linear regression model with non-outliered data"
   ]
  },
  {
   "cell_type": "code",
   "execution_count": 49,
   "metadata": {},
   "outputs": [
    {
     "name": "stdout",
     "output_type": "stream",
     "text": [
      "                                 OLS Regression Results                                \n",
      "=======================================================================================\n",
      "Dep. Variable:                      y   R-squared (uncentered):                   0.966\n",
      "Model:                            OLS   Adj. R-squared (uncentered):              0.965\n",
      "Method:                 Least Squares   F-statistic:                              1226.\n",
      "Date:                Sun, 05 Jan 2020   Prob (F-statistic):                    3.07e-33\n",
      "Time:                        13:21:57   Log-Likelihood:                         -210.86\n",
      "No. Observations:                  44   AIC:                                      423.7\n",
      "Df Residuals:                      43   BIC:                                      425.5\n",
      "Df Model:                           1                                                  \n",
      "Covariance Type:            nonrobust                                                  \n",
      "==============================================================================\n",
      "                 coef    std err          t      P>|t|      [0.025      0.975]\n",
      "------------------------------------------------------------------------------\n",
      "x1            78.2071      2.234     35.011      0.000      73.702      82.712\n",
      "==============================================================================\n",
      "Omnibus:                        0.672   Durbin-Watson:                   0.436\n",
      "Prob(Omnibus):                  0.715   Jarque-Bera (JB):                0.754\n",
      "Skew:                           0.259   Prob(JB):                        0.686\n",
      "Kurtosis:                       2.623   Cond. No.                         1.00\n",
      "==============================================================================\n",
      "\n",
      "Warnings:\n",
      "[1] Standard Errors assume that the covariance matrix of the errors is correctly specified.\n",
      "Mean Squared Error: 748.1691047637411\n"
     ]
    }
   ],
   "source": [
    "X = data2['Price']\n",
    "y = data2['SalesQty.']\n",
    "train_size = 44\n",
    "X_train, X_test, y_train, y_test = X[0:train_size], X[train_size:],y[0:train_size], y[train_size:]\n",
    "\n",
    "model = sm.OLS(y_train.values.reshape(-1,1), X_train.values.reshape(-1,1))\n",
    "results = model.fit()\n",
    "print(results.summary())\n",
    "\n",
    "y_pred=results.predict(X_test.values.reshape(-1,1))\n",
    "print('Mean Squared Error:', mean_squared_error(y_test.values.reshape(-1,1), y_pred)) "
   ]
  },
  {
   "cell_type": "markdown",
   "metadata": {},
   "source": [
    "### lets create a model with log-tranformed data"
   ]
  },
  {
   "cell_type": "code",
   "execution_count": 50,
   "metadata": {},
   "outputs": [
    {
     "name": "stdout",
     "output_type": "stream",
     "text": [
      "                                 OLS Regression Results                                \n",
      "=======================================================================================\n",
      "Dep. Variable:                      y   R-squared (uncentered):                   0.628\n",
      "Model:                            OLS   Adj. R-squared (uncentered):              0.619\n",
      "Method:                 Least Squares   F-statistic:                              72.52\n",
      "Date:                Sun, 05 Jan 2020   Prob (F-statistic):                    8.93e-11\n",
      "Time:                        13:21:57   Log-Likelihood:                         -475.30\n",
      "No. Observations:                  44   AIC:                                      952.6\n",
      "Df Residuals:                      43   BIC:                                      954.4\n",
      "Df Model:                           1                                                  \n",
      "Covariance Type:            nonrobust                                                  \n",
      "==============================================================================\n",
      "                 coef    std err          t      P>|t|      [0.025      0.975]\n",
      "------------------------------------------------------------------------------\n",
      "x1          4.161e+04   4886.412      8.516      0.000    3.18e+04    5.15e+04\n",
      "==============================================================================\n",
      "Omnibus:                       45.137   Durbin-Watson:                   0.383\n",
      "Prob(Omnibus):                  0.000   Jarque-Bera (JB):              161.132\n",
      "Skew:                           2.680   Prob(JB):                     1.02e-35\n",
      "Kurtosis:                      10.691   Cond. No.                         1.00\n",
      "==============================================================================\n",
      "\n",
      "Warnings:\n",
      "[1] Standard Errors assume that the covariance matrix of the errors is correctly specified.\n",
      "Mean Squared Error: 19426717.753354874\n"
     ]
    }
   ],
   "source": [
    "X = data['price__2']\n",
    "y = data['sales_2']\n",
    "train_size = 44\n",
    "X_train, X_test, y_train, y_test = X[0:train_size], X[train_size:],y[0:train_size], y[train_size:]\n",
    "\n",
    "model = sm.OLS(y_train.values.reshape(-1,1), X_train.values.reshape(-1,1))\n",
    "results = model.fit()\n",
    "print(results.summary())\n",
    "\n",
    "y_pred=results.predict(X_test.values.reshape(-1,1))\n",
    "print('Mean Squared Error:', mean_squared_error(y_test.values.reshape(-1,1), y_pred)) "
   ]
  },
  {
   "cell_type": "markdown",
   "metadata": {},
   "source": [
    "#### lets create some variables for linear regression"
   ]
  },
  {
   "cell_type": "code",
   "execution_count": 51,
   "metadata": {},
   "outputs": [],
   "source": [
    "def rolling_avg(df, column, point, time_idx='Date', name_format=\"{}_{}_week_average\", verbose=True):\n",
    "    try:\n",
    "        if verbose:\n",
    "            print(\"average column: {} point: {}\".format(column, point))\n",
    "        name = name_format.format(column, point)\n",
    "        print(name)\n",
    "        result = df[column].rolling(window=point).mean()\n",
    "        df[name] = result\n",
    "        return df\n",
    "    except Exception as ex:\n",
    "        print(ex)\n",
    "        raise"
   ]
  },
  {
   "cell_type": "code",
   "execution_count": 52,
   "metadata": {},
   "outputs": [
    {
     "name": "stdout",
     "output_type": "stream",
     "text": [
      "average column: Price point: 2\n",
      "Price_2_week_average\n",
      "average column: Price point: 3\n",
      "Price_3_week_average\n",
      "average column: Price point: 4\n",
      "Price_4_week_average\n",
      "average column: Price point: 5\n",
      "Price_5_week_average\n",
      "average column: Price point: 6\n",
      "Price_6_week_average\n",
      "average column: Price point: 7\n",
      "Price_7_week_average\n",
      "average column: Price point: 8\n",
      "Price_8_week_average\n",
      "average column: Price point: 9\n",
      "Price_9_week_average\n",
      "average column: Price point: 10\n",
      "Price_10_week_average\n"
     ]
    }
   ],
   "source": [
    "points = [2, 3, 4, 5, 6, 7, 8, 9 ,10]\n",
    "\n",
    "for rol_col in ['Price']:\n",
    "    for point in points:\n",
    "        data = rolling_avg(df=data, column=rol_col, point=point)"
   ]
  },
  {
   "cell_type": "code",
   "execution_count": 53,
   "metadata": {},
   "outputs": [],
   "source": [
    "data.replace([np.inf, -np.inf], np.nan, inplace=True)\n",
    "data.fillna(0, inplace=True)"
   ]
  },
  {
   "cell_type": "code",
   "execution_count": 54,
   "metadata": {},
   "outputs": [
    {
     "data": {
      "text/html": [
       "<div>\n",
       "<style scoped>\n",
       "    .dataframe tbody tr th:only-of-type {\n",
       "        vertical-align: middle;\n",
       "    }\n",
       "\n",
       "    .dataframe tbody tr th {\n",
       "        vertical-align: top;\n",
       "    }\n",
       "\n",
       "    .dataframe thead th {\n",
       "        text-align: right;\n",
       "    }\n",
       "</style>\n",
       "<table border=\"1\" class=\"dataframe\">\n",
       "  <thead>\n",
       "    <tr style=\"text-align: right;\">\n",
       "      <th></th>\n",
       "      <th>Price</th>\n",
       "      <th>SalesQty.</th>\n",
       "      <th>sales_2</th>\n",
       "      <th>price__2</th>\n",
       "      <th>Price_2_week_average</th>\n",
       "      <th>Price_3_week_average</th>\n",
       "      <th>Price_4_week_average</th>\n",
       "      <th>Price_5_week_average</th>\n",
       "      <th>Price_6_week_average</th>\n",
       "      <th>Price_7_week_average</th>\n",
       "      <th>Price_8_week_average</th>\n",
       "      <th>Price_9_week_average</th>\n",
       "      <th>Price_10_week_average</th>\n",
       "    </tr>\n",
       "    <tr>\n",
       "      <th>Date</th>\n",
       "      <th></th>\n",
       "      <th></th>\n",
       "      <th></th>\n",
       "      <th></th>\n",
       "      <th></th>\n",
       "      <th></th>\n",
       "      <th></th>\n",
       "      <th></th>\n",
       "      <th></th>\n",
       "      <th></th>\n",
       "      <th></th>\n",
       "      <th></th>\n",
       "      <th></th>\n",
       "    </tr>\n",
       "  </thead>\n",
       "  <tbody>\n",
       "    <tr>\n",
       "      <th>2011-08-07</th>\n",
       "      <td>1.58</td>\n",
       "      <td>361</td>\n",
       "      <td>65160.0</td>\n",
       "      <td>0.299712</td>\n",
       "      <td>0.00</td>\n",
       "      <td>0.000000</td>\n",
       "      <td>0.00</td>\n",
       "      <td>0.000</td>\n",
       "      <td>0.0</td>\n",
       "      <td>0.0</td>\n",
       "      <td>0.0</td>\n",
       "      <td>0.0</td>\n",
       "      <td>0.0</td>\n",
       "    </tr>\n",
       "    <tr>\n",
       "      <th>2011-08-14</th>\n",
       "      <td>1.90</td>\n",
       "      <td>282</td>\n",
       "      <td>39761.5</td>\n",
       "      <td>0.361496</td>\n",
       "      <td>1.74</td>\n",
       "      <td>0.000000</td>\n",
       "      <td>0.00</td>\n",
       "      <td>0.000</td>\n",
       "      <td>0.0</td>\n",
       "      <td>0.0</td>\n",
       "      <td>0.0</td>\n",
       "      <td>0.0</td>\n",
       "      <td>0.0</td>\n",
       "    </tr>\n",
       "    <tr>\n",
       "      <th>2011-08-21</th>\n",
       "      <td>1.90</td>\n",
       "      <td>315</td>\n",
       "      <td>49612.0</td>\n",
       "      <td>0.361496</td>\n",
       "      <td>1.90</td>\n",
       "      <td>1.793333</td>\n",
       "      <td>0.00</td>\n",
       "      <td>0.000</td>\n",
       "      <td>0.0</td>\n",
       "      <td>0.0</td>\n",
       "      <td>0.0</td>\n",
       "      <td>0.0</td>\n",
       "      <td>0.0</td>\n",
       "    </tr>\n",
       "    <tr>\n",
       "      <th>2011-08-28</th>\n",
       "      <td>1.90</td>\n",
       "      <td>254</td>\n",
       "      <td>32257.5</td>\n",
       "      <td>0.361496</td>\n",
       "      <td>1.90</td>\n",
       "      <td>1.900000</td>\n",
       "      <td>1.82</td>\n",
       "      <td>0.000</td>\n",
       "      <td>0.0</td>\n",
       "      <td>0.0</td>\n",
       "      <td>0.0</td>\n",
       "      <td>0.0</td>\n",
       "      <td>0.0</td>\n",
       "    </tr>\n",
       "    <tr>\n",
       "      <th>2011-09-04</th>\n",
       "      <td>1.90</td>\n",
       "      <td>197</td>\n",
       "      <td>19404.0</td>\n",
       "      <td>0.361496</td>\n",
       "      <td>1.90</td>\n",
       "      <td>1.900000</td>\n",
       "      <td>1.90</td>\n",
       "      <td>1.836</td>\n",
       "      <td>0.0</td>\n",
       "      <td>0.0</td>\n",
       "      <td>0.0</td>\n",
       "      <td>0.0</td>\n",
       "      <td>0.0</td>\n",
       "    </tr>\n",
       "  </tbody>\n",
       "</table>\n",
       "</div>"
      ],
      "text/plain": [
       "            Price  SalesQty.  sales_2  price__2  Price_2_week_average  \\\n",
       "Date                                                                    \n",
       "2011-08-07   1.58        361  65160.0  0.299712                  0.00   \n",
       "2011-08-14   1.90        282  39761.5  0.361496                  1.74   \n",
       "2011-08-21   1.90        315  49612.0  0.361496                  1.90   \n",
       "2011-08-28   1.90        254  32257.5  0.361496                  1.90   \n",
       "2011-09-04   1.90        197  19404.0  0.361496                  1.90   \n",
       "\n",
       "            Price_3_week_average  Price_4_week_average  Price_5_week_average  \\\n",
       "Date                                                                           \n",
       "2011-08-07              0.000000                  0.00                 0.000   \n",
       "2011-08-14              0.000000                  0.00                 0.000   \n",
       "2011-08-21              1.793333                  0.00                 0.000   \n",
       "2011-08-28              1.900000                  1.82                 0.000   \n",
       "2011-09-04              1.900000                  1.90                 1.836   \n",
       "\n",
       "            Price_6_week_average  Price_7_week_average  Price_8_week_average  \\\n",
       "Date                                                                           \n",
       "2011-08-07                   0.0                   0.0                   0.0   \n",
       "2011-08-14                   0.0                   0.0                   0.0   \n",
       "2011-08-21                   0.0                   0.0                   0.0   \n",
       "2011-08-28                   0.0                   0.0                   0.0   \n",
       "2011-09-04                   0.0                   0.0                   0.0   \n",
       "\n",
       "            Price_9_week_average  Price_10_week_average  \n",
       "Date                                                     \n",
       "2011-08-07                   0.0                    0.0  \n",
       "2011-08-14                   0.0                    0.0  \n",
       "2011-08-21                   0.0                    0.0  \n",
       "2011-08-28                   0.0                    0.0  \n",
       "2011-09-04                   0.0                    0.0  "
      ]
     },
     "execution_count": 54,
     "metadata": {},
     "output_type": "execute_result"
    }
   ],
   "source": [
    "data.head()"
   ]
  },
  {
   "cell_type": "code",
   "execution_count": 55,
   "metadata": {},
   "outputs": [
    {
     "name": "stdout",
     "output_type": "stream",
     "text": [
      "                                 OLS Regression Results                                \n",
      "=======================================================================================\n",
      "Dep. Variable:                      y   R-squared (uncentered):                   0.836\n",
      "Model:                            OLS   Adj. R-squared (uncentered):              0.832\n",
      "Method:                 Least Squares   F-statistic:                              218.6\n",
      "Date:                Sun, 05 Jan 2020   Prob (F-statistic):                    1.82e-18\n",
      "Time:                        13:21:57   Log-Likelihood:                         -250.70\n",
      "No. Observations:                  44   AIC:                                      503.4\n",
      "Df Residuals:                      43   BIC:                                      505.2\n",
      "Df Model:                           1                                                  \n",
      "Covariance Type:            nonrobust                                                  \n",
      "========================================================================================\n",
      "                           coef    std err          t      P>|t|      [0.025      0.975]\n",
      "----------------------------------------------------------------------------------------\n",
      "Price_2_week_average    82.9681      5.611     14.786      0.000      71.652      94.285\n",
      "==============================================================================\n",
      "Omnibus:                       52.712   Durbin-Watson:                   0.392\n",
      "Prob(Omnibus):                  0.000   Jarque-Bera (JB):              288.822\n",
      "Skew:                           2.965   Prob(JB):                     1.92e-63\n",
      "Kurtosis:                      14.062   Cond. No.                         1.00\n",
      "==============================================================================\n",
      "\n",
      "Warnings:\n",
      "[1] Standard Errors assume that the covariance matrix of the errors is correctly specified.\n",
      "Mean Squared Error: 751.816437589637\n"
     ]
    }
   ],
   "source": [
    "X = data['Price_2_week_average']\n",
    "y = data['SalesQty.']\n",
    "train_size = 44\n",
    "X_train, X_test, y_train, y_test = X[0:train_size], X[train_size:],y[0:train_size], y[train_size:]\n",
    "\n",
    "model = sm.OLS(y_train.values.reshape(-1,1), X_train)\n",
    "results = model.fit()\n",
    "print(results.summary())\n",
    "\n",
    "y_pred=results.predict(X_test)\n",
    "print('Mean Squared Error:', mean_squared_error(y_test.values.reshape(-1,1), y_pred)) "
   ]
  },
  {
   "cell_type": "markdown",
   "metadata": {},
   "source": [
    "#### comment : ARIMA(1,0,2) model is the winner with fewest MSE"
   ]
  },
  {
   "cell_type": "markdown",
   "metadata": {},
   "source": [
    "#### lets define ARIMA model again with whole data"
   ]
  },
  {
   "cell_type": "code",
   "execution_count": 56,
   "metadata": {},
   "outputs": [
    {
     "name": "stdout",
     "output_type": "stream",
     "text": [
      "                              ARMA Model Results                              \n",
      "==============================================================================\n",
      "Dep. Variable:              SalesQty.   No. Observations:                   52\n",
      "Model:                     ARMA(1, 2)   Log Likelihood                -250.166\n",
      "Method:                       css-mle   S.D. of innovations             29.187\n",
      "Date:                Sun, 05 Jan 2020   AIC                            510.332\n",
      "Time:                        13:21:57   BIC                            520.089\n",
      "Sample:                    08-07-2011   HQIC                           514.073\n",
      "                         - 07-29-2012                                         \n",
      "===================================================================================\n",
      "                      coef    std err          z      P>|z|      [0.025      0.975]\n",
      "-----------------------------------------------------------------------------------\n",
      "const             214.8299     56.047      3.833      0.000     104.980     324.680\n",
      "ar.L1.SalesQty.     0.9580      0.048     19.992      0.000       0.864       1.052\n",
      "ma.L1.SalesQty.    -0.2460      0.160     -1.541      0.130      -0.559       0.067\n",
      "ma.L2.SalesQty.    -0.0578      0.138     -0.420      0.677      -0.328       0.212\n",
      "                                    Roots                                    \n",
      "=============================================================================\n",
      "                  Real          Imaginary           Modulus         Frequency\n",
      "-----------------------------------------------------------------------------\n",
      "AR.1            1.0438           +0.0000j            1.0438            0.0000\n",
      "MA.1            2.5439           +0.0000j            2.5439            0.0000\n",
      "MA.2           -6.7968           +0.0000j            6.7968            0.5000\n",
      "-----------------------------------------------------------------------------\n"
     ]
    },
    {
     "data": {
      "image/png": "[encoded data removed]",
      "text/plain": [
       "<Figure size 432x288 with 1 Axes>"
      ]
     },
     "metadata": {
      "needs_background": "light"
     },
     "output_type": "display_data"
    },
    {
     "data": {
      "image/png": "[encoded data removed]",
      "text/plain": [
       "<Figure size 432x288 with 1 Axes>"
      ]
     },
     "metadata": {
      "needs_background": "light"
     },
     "output_type": "display_data"
    },
    {
     "name": "stdout",
     "output_type": "stream",
     "text": [
      "                0\n",
      "count   52.000000\n",
      "mean    -4.127301\n",
      "std     34.749255\n",
      "min    -85.394695\n",
      "25%    -17.733044\n",
      "50%     -3.648467\n",
      "75%      6.493989\n",
      "max    146.170110\n"
     ]
    }
   ],
   "source": [
    "data['SalesQty.']\n",
    "# fit model\n",
    "model = ARIMA(series, order=(1,0,2))\n",
    "model_fit = model.fit(disp=0)\n",
    "print(model_fit.summary())\n",
    "# plot residual errors\n",
    "residuals = pd.DataFrame(model_fit.resid)\n",
    "residuals.plot()\n",
    "plt.show()\n",
    "residuals.plot(kind='kde')\n",
    "plt.show()\n",
    "print(residuals.describe())"
   ]
  },
  {
   "cell_type": "code",
   "execution_count": 57,
   "metadata": {},
   "outputs": [
    {
     "data": {
      "text/html": [
       "<div>\n",
       "<style scoped>\n",
       "    .dataframe tbody tr th:only-of-type {\n",
       "        vertical-align: middle;\n",
       "    }\n",
       "\n",
       "    .dataframe tbody tr th {\n",
       "        vertical-align: top;\n",
       "    }\n",
       "\n",
       "    .dataframe thead th {\n",
       "        text-align: right;\n",
       "    }\n",
       "</style>\n",
       "<table border=\"1\" class=\"dataframe\">\n",
       "  <thead>\n",
       "    <tr style=\"text-align: right;\">\n",
       "      <th></th>\n",
       "      <th>Price</th>\n",
       "      <th>SalesQty.</th>\n",
       "      <th>sales_2</th>\n",
       "      <th>price__2</th>\n",
       "      <th>Price_2_week_average</th>\n",
       "      <th>Price_3_week_average</th>\n",
       "      <th>Price_4_week_average</th>\n",
       "      <th>Price_5_week_average</th>\n",
       "      <th>Price_6_week_average</th>\n",
       "      <th>Price_7_week_average</th>\n",
       "      <th>Price_8_week_average</th>\n",
       "      <th>Price_9_week_average</th>\n",
       "      <th>Price_10_week_average</th>\n",
       "    </tr>\n",
       "    <tr>\n",
       "      <th>Date</th>\n",
       "      <th></th>\n",
       "      <th></th>\n",
       "      <th></th>\n",
       "      <th></th>\n",
       "      <th></th>\n",
       "      <th></th>\n",
       "      <th></th>\n",
       "      <th></th>\n",
       "      <th></th>\n",
       "      <th></th>\n",
       "      <th></th>\n",
       "      <th></th>\n",
       "      <th></th>\n",
       "    </tr>\n",
       "  </thead>\n",
       "  <tbody>\n",
       "    <tr>\n",
       "      <th>2012-07-01</th>\n",
       "      <td>2.19</td>\n",
       "      <td>165</td>\n",
       "      <td>13612.0</td>\n",
       "      <td>0.395749</td>\n",
       "      <td>2.19</td>\n",
       "      <td>2.190000</td>\n",
       "      <td>2.1925</td>\n",
       "      <td>2.194</td>\n",
       "      <td>2.195000</td>\n",
       "      <td>2.170000</td>\n",
       "      <td>2.13500</td>\n",
       "      <td>2.121111</td>\n",
       "      <td>2.119</td>\n",
       "    </tr>\n",
       "    <tr>\n",
       "      <th>2012-07-08</th>\n",
       "      <td>2.19</td>\n",
       "      <td>161</td>\n",
       "      <td>12960.0</td>\n",
       "      <td>0.395749</td>\n",
       "      <td>2.19</td>\n",
       "      <td>2.190000</td>\n",
       "      <td>2.1900</td>\n",
       "      <td>2.192</td>\n",
       "      <td>2.193333</td>\n",
       "      <td>2.194286</td>\n",
       "      <td>2.17250</td>\n",
       "      <td>2.141111</td>\n",
       "      <td>2.128</td>\n",
       "    </tr>\n",
       "    <tr>\n",
       "      <th>2012-07-15</th>\n",
       "      <td>2.19</td>\n",
       "      <td>154</td>\n",
       "      <td>11857.5</td>\n",
       "      <td>0.395749</td>\n",
       "      <td>2.19</td>\n",
       "      <td>2.190000</td>\n",
       "      <td>2.1900</td>\n",
       "      <td>2.190</td>\n",
       "      <td>2.191667</td>\n",
       "      <td>2.192857</td>\n",
       "      <td>2.19375</td>\n",
       "      <td>2.174444</td>\n",
       "      <td>2.146</td>\n",
       "    </tr>\n",
       "    <tr>\n",
       "      <th>2012-07-22</th>\n",
       "      <td>2.05</td>\n",
       "      <td>205</td>\n",
       "      <td>21012.0</td>\n",
       "      <td>0.381023</td>\n",
       "      <td>2.12</td>\n",
       "      <td>2.143333</td>\n",
       "      <td>2.1550</td>\n",
       "      <td>2.162</td>\n",
       "      <td>2.166667</td>\n",
       "      <td>2.171429</td>\n",
       "      <td>2.17500</td>\n",
       "      <td>2.177778</td>\n",
       "      <td>2.162</td>\n",
       "    </tr>\n",
       "    <tr>\n",
       "      <th>2012-07-29</th>\n",
       "      <td>1.95</td>\n",
       "      <td>201</td>\n",
       "      <td>20200.0</td>\n",
       "      <td>0.368508</td>\n",
       "      <td>2.00</td>\n",
       "      <td>2.063333</td>\n",
       "      <td>2.0950</td>\n",
       "      <td>2.114</td>\n",
       "      <td>2.126667</td>\n",
       "      <td>2.135714</td>\n",
       "      <td>2.14375</td>\n",
       "      <td>2.150000</td>\n",
       "      <td>2.155</td>\n",
       "    </tr>\n",
       "  </tbody>\n",
       "</table>\n",
       "</div>"
      ],
      "text/plain": [
       "            Price  SalesQty.  sales_2  price__2  Price_2_week_average  \\\n",
       "Date                                                                    \n",
       "2012-07-01   2.19        165  13612.0  0.395749                  2.19   \n",
       "2012-07-08   2.19        161  12960.0  0.395749                  2.19   \n",
       "2012-07-15   2.19        154  11857.5  0.395749                  2.19   \n",
       "2012-07-22   2.05        205  21012.0  0.381023                  2.12   \n",
       "2012-07-29   1.95        201  20200.0  0.368508                  2.00   \n",
       "\n",
       "            Price_3_week_average  Price_4_week_average  Price_5_week_average  \\\n",
       "Date                                                                           \n",
       "2012-07-01              2.190000                2.1925                 2.194   \n",
       "2012-07-08              2.190000                2.1900                 2.192   \n",
       "2012-07-15              2.190000                2.1900                 2.190   \n",
       "2012-07-22              2.143333                2.1550                 2.162   \n",
       "2012-07-29              2.063333                2.0950                 2.114   \n",
       "\n",
       "            Price_6_week_average  Price_7_week_average  Price_8_week_average  \\\n",
       "Date                                                                           \n",
       "2012-07-01              2.195000              2.170000               2.13500   \n",
       "2012-07-08              2.193333              2.194286               2.17250   \n",
       "2012-07-15              2.191667              2.192857               2.19375   \n",
       "2012-07-22              2.166667              2.171429               2.17500   \n",
       "2012-07-29              2.126667              2.135714               2.14375   \n",
       "\n",
       "            Price_9_week_average  Price_10_week_average  \n",
       "Date                                                     \n",
       "2012-07-01              2.121111                  2.119  \n",
       "2012-07-08              2.141111                  2.128  \n",
       "2012-07-15              2.174444                  2.146  \n",
       "2012-07-22              2.177778                  2.162  \n",
       "2012-07-29              2.150000                  2.155  "
      ]
     },
     "execution_count": 57,
     "metadata": {},
     "output_type": "execute_result"
    }
   ],
   "source": [
    "data.tail()"
   ]
  },
  {
   "cell_type": "markdown",
   "metadata": {},
   "source": [
    "#### print the forecasts"
   ]
  },
  {
   "cell_type": "code",
   "execution_count": 58,
   "metadata": {},
   "outputs": [
    {
     "data": {
      "text/plain": [
       "[197.3576256350529,\n",
       " 197.7227870226353,\n",
       " 198.44044494362223,\n",
       " 199.12799648798006,\n",
       " 199.786704644505,\n",
       " 200.4177794185101,\n",
       " 201.02238005452867,\n",
       " 201.6016171657733]"
      ]
     },
     "execution_count": 58,
     "metadata": {},
     "output_type": "execute_result"
    }
   ],
   "source": [
    "model_fit.forecast(steps=8)[0].tolist()"
   ]
  },
  {
   "cell_type": "markdown",
   "metadata": {},
   "source": [
    "## here is the final of part 1 ##"
   ]
  },
  {
   "cell_type": "markdown",
   "metadata": {},
   "source": [
    "### *** ###"
   ]
  },
  {
   "cell_type": "markdown",
   "metadata": {},
   "source": [
    "## part2"
   ]
  },
  {
   "cell_type": "markdown",
   "metadata": {},
   "source": [
    "#### our model's MSE = 361.410 so RMSE is :"
   ]
  },
  {
   "cell_type": "code",
   "execution_count": 59,
   "metadata": {},
   "outputs": [
    {
     "data": {
      "text/plain": [
       "19.010786411929413"
      ]
     },
     "execution_count": 59,
     "metadata": {},
     "output_type": "execute_result"
    }
   ],
   "source": [
    "RMSE = np.sqrt(361.410)\n",
    "RMSE"
   ]
  },
  {
   "cell_type": "markdown",
   "metadata": {},
   "source": [
    "#### so safety stock is :"
   ]
  },
  {
   "cell_type": "code",
   "execution_count": 60,
   "metadata": {},
   "outputs": [
    {
     "data": {
      "text/plain": [
       "58"
      ]
     },
     "execution_count": 60,
     "metadata": {},
     "output_type": "execute_result"
    }
   ],
   "source": [
    "SS = RMSE * 3.09\n",
    "SS = SS.astype(int)\n",
    "\n",
    "SS"
   ]
  },
  {
   "cell_type": "markdown",
   "metadata": {},
   "source": [
    "#### create new data frame to find optimal ordered quantities"
   ]
  },
  {
   "cell_type": "code",
   "execution_count": 61,
   "metadata": {},
   "outputs": [
    {
     "data": {
      "text/html": [
       "<div>\n",
       "<style scoped>\n",
       "    .dataframe tbody tr th:only-of-type {\n",
       "        vertical-align: middle;\n",
       "    }\n",
       "\n",
       "    .dataframe tbody tr th {\n",
       "        vertical-align: top;\n",
       "    }\n",
       "\n",
       "    .dataframe thead th {\n",
       "        text-align: right;\n",
       "    }\n",
       "</style>\n",
       "<table border=\"1\" class=\"dataframe\">\n",
       "  <thead>\n",
       "    <tr style=\"text-align: right;\">\n",
       "      <th></th>\n",
       "      <th>Name</th>\n",
       "      <th>forecast</th>\n",
       "      <th>Forecasting_Date</th>\n",
       "      <th>Price</th>\n",
       "      <th>Ordered_Stock_Amount</th>\n",
       "      <th>Left_Stock_Amount</th>\n",
       "    </tr>\n",
       "  </thead>\n",
       "  <tbody>\n",
       "    <tr>\n",
       "      <th>0</th>\n",
       "      <td>Product1</td>\n",
       "      <td>197</td>\n",
       "      <td>2012-08-07</td>\n",
       "      <td>2.09</td>\n",
       "      <td>200</td>\n",
       "      <td>58</td>\n",
       "    </tr>\n",
       "    <tr>\n",
       "      <th>1</th>\n",
       "      <td>Product1</td>\n",
       "      <td>197</td>\n",
       "      <td>2012-08-15</td>\n",
       "      <td>2.22</td>\n",
       "      <td>NaN</td>\n",
       "      <td>NaN</td>\n",
       "    </tr>\n",
       "    <tr>\n",
       "      <th>2</th>\n",
       "      <td>Product1</td>\n",
       "      <td>198</td>\n",
       "      <td>2012-08-23</td>\n",
       "      <td>2.25</td>\n",
       "      <td>NaN</td>\n",
       "      <td>NaN</td>\n",
       "    </tr>\n",
       "    <tr>\n",
       "      <th>3</th>\n",
       "      <td>Product1</td>\n",
       "      <td>199</td>\n",
       "      <td>2012-08-31</td>\n",
       "      <td>2.25</td>\n",
       "      <td>NaN</td>\n",
       "      <td>NaN</td>\n",
       "    </tr>\n",
       "    <tr>\n",
       "      <th>4</th>\n",
       "      <td>Product1</td>\n",
       "      <td>199</td>\n",
       "      <td>2012-09-08</td>\n",
       "      <td>2.08</td>\n",
       "      <td>NaN</td>\n",
       "      <td>NaN</td>\n",
       "    </tr>\n",
       "    <tr>\n",
       "      <th>5</th>\n",
       "      <td>Product1</td>\n",
       "      <td>200</td>\n",
       "      <td>2012-09-16</td>\n",
       "      <td>1.95</td>\n",
       "      <td>NaN</td>\n",
       "      <td>NaN</td>\n",
       "    </tr>\n",
       "    <tr>\n",
       "      <th>6</th>\n",
       "      <td>Product1</td>\n",
       "      <td>201</td>\n",
       "      <td>2012-09-24</td>\n",
       "      <td>2.12</td>\n",
       "      <td>NaN</td>\n",
       "      <td>NaN</td>\n",
       "    </tr>\n",
       "    <tr>\n",
       "      <th>7</th>\n",
       "      <td>Product1</td>\n",
       "      <td>201</td>\n",
       "      <td>2012-10-01</td>\n",
       "      <td>1.93</td>\n",
       "      <td>75</td>\n",
       "      <td>NaN</td>\n",
       "    </tr>\n",
       "  </tbody>\n",
       "</table>\n",
       "</div>"
      ],
      "text/plain": [
       "       Name  forecast Forecasting_Date  Price Ordered_Stock_Amount  \\\n",
       "0  Product1       197       2012-08-07   2.09                  200   \n",
       "1  Product1       197       2012-08-15   2.22                  NaN   \n",
       "2  Product1       198       2012-08-23   2.25                  NaN   \n",
       "3  Product1       199       2012-08-31   2.25                  NaN   \n",
       "4  Product1       199       2012-09-08   2.08                  NaN   \n",
       "5  Product1       200       2012-09-16   1.95                  NaN   \n",
       "6  Product1       201       2012-09-24   2.12                  NaN   \n",
       "7  Product1       201       2012-10-01   1.93                   75   \n",
       "\n",
       "  Left_Stock_Amount  \n",
       "0                58  \n",
       "1               NaN  \n",
       "2               NaN  \n",
       "3               NaN  \n",
       "4               NaN  \n",
       "5               NaN  \n",
       "6               NaN  \n",
       "7               NaN  "
      ]
     },
     "execution_count": 61,
     "metadata": {},
     "output_type": "execute_result"
    }
   ],
   "source": [
    "new_data = {'Name':['Product1', 'Product1', 'Product1', 'Product1', 'Product1', 'Product1', 'Product1', 'Product1'],\n",
    "        'forecast':model_fit.forecast(steps=8)[0].tolist(),\n",
    "        'Forecasting_Date' : ['2012-08-07','2012-08-15','2012-08-23','2012-08-31','2012-09-08','2012-09-16','2012-09-24','2012-10-01'],\n",
    "        'Price':[2.09, 2.22, 2.25, 2.25, 2.08, 1.95, 2.12, 1.93],\n",
    "        'Ordered_Stock_Amount' : [200,'NaN','NaN','NaN','NaN','NaN','NaN',75],\n",
    "        'Left_Stock_Amount': [58,'NaN','NaN','NaN','NaN','NaN','NaN','NaN']}\n",
    "  \n",
    "df = pd.DataFrame(new_data) \n",
    "\n",
    "df['forecast'] = df['forecast'].astype(int)\n",
    "\n",
    "df"
   ]
  },
  {
   "cell_type": "markdown",
   "metadata": {},
   "source": [
    "### if company plans to start with 200 stock order at first and also wants 75 units left in stock at the end of forecasting date,due to our forecasted demands,I think it will be optimal to increase stocks  in only last week , to avoid all time costs and holding costs"
   ]
  },
  {
   "cell_type": "markdown",
   "metadata": {},
   "source": [
    "### Steps in Optimization Algorithm :\n",
    "### In above dataframe, I set First Rows Ordered_Stock Amount to 200 and last row to 75 and first rows left stock level to 58\n",
    "#### 1-) check if value in loop equals to last value (75) or not\n",
    "#### 2-) If value in loop doesnt equal to 75 then\n",
    "#### 3-) Calculate order as Safety_Forecast + Forecasted Value to hold cost minimum (logic is order as minimum as we can)\n",
    "#### 4-) Calculate left Stock amount from calculated order_amount - forecast\n",
    "#### 5-) continue to loop\n",
    "#### if value in loop comes to last row , so it equals to 75 then\n",
    "#### 6-) Calculate last week's ordered quantity by looking previous week's left stock amount + last week's forecast + 75 - previous week's left stock amount , to find minimum costed order amount \n",
    "#### 7-) Calculate the left stock amount from above calculated ordered amount  - forecast which will set it to 75"
   ]
  },
  {
   "cell_type": "code",
   "execution_count": 62,
   "metadata": {},
   "outputs": [
    {
     "data": {
      "text/html": [
       "<div>\n",
       "<style scoped>\n",
       "    .dataframe tbody tr th:only-of-type {\n",
       "        vertical-align: middle;\n",
       "    }\n",
       "\n",
       "    .dataframe tbody tr th {\n",
       "        vertical-align: top;\n",
       "    }\n",
       "\n",
       "    .dataframe thead th {\n",
       "        text-align: right;\n",
       "    }\n",
       "</style>\n",
       "<table border=\"1\" class=\"dataframe\">\n",
       "  <thead>\n",
       "    <tr style=\"text-align: right;\">\n",
       "      <th></th>\n",
       "      <th>Name</th>\n",
       "      <th>forecast</th>\n",
       "      <th>Forecasting_Date</th>\n",
       "      <th>Price</th>\n",
       "      <th>Ordered_Stock_Amount</th>\n",
       "      <th>Left_Stock_Amount</th>\n",
       "      <th>cost</th>\n",
       "    </tr>\n",
       "  </thead>\n",
       "  <tbody>\n",
       "    <tr>\n",
       "      <th>0</th>\n",
       "      <td>Product1</td>\n",
       "      <td>197</td>\n",
       "      <td>2012-08-07</td>\n",
       "      <td>2.09</td>\n",
       "      <td>200</td>\n",
       "      <td>58</td>\n",
       "      <td>100014.50</td>\n",
       "    </tr>\n",
       "    <tr>\n",
       "      <th>1</th>\n",
       "      <td>Product1</td>\n",
       "      <td>197</td>\n",
       "      <td>2012-08-15</td>\n",
       "      <td>2.22</td>\n",
       "      <td>255</td>\n",
       "      <td>58</td>\n",
       "      <td>127514.50</td>\n",
       "    </tr>\n",
       "    <tr>\n",
       "      <th>2</th>\n",
       "      <td>Product1</td>\n",
       "      <td>198</td>\n",
       "      <td>2012-08-23</td>\n",
       "      <td>2.25</td>\n",
       "      <td>256</td>\n",
       "      <td>58</td>\n",
       "      <td>128014.50</td>\n",
       "    </tr>\n",
       "    <tr>\n",
       "      <th>3</th>\n",
       "      <td>Product1</td>\n",
       "      <td>199</td>\n",
       "      <td>2012-08-31</td>\n",
       "      <td>2.25</td>\n",
       "      <td>257</td>\n",
       "      <td>58</td>\n",
       "      <td>128514.50</td>\n",
       "    </tr>\n",
       "    <tr>\n",
       "      <th>4</th>\n",
       "      <td>Product1</td>\n",
       "      <td>199</td>\n",
       "      <td>2012-09-08</td>\n",
       "      <td>2.08</td>\n",
       "      <td>257</td>\n",
       "      <td>58</td>\n",
       "      <td>128514.50</td>\n",
       "    </tr>\n",
       "    <tr>\n",
       "      <th>5</th>\n",
       "      <td>Product1</td>\n",
       "      <td>200</td>\n",
       "      <td>2012-09-16</td>\n",
       "      <td>1.95</td>\n",
       "      <td>258</td>\n",
       "      <td>58</td>\n",
       "      <td>129014.50</td>\n",
       "    </tr>\n",
       "    <tr>\n",
       "      <th>6</th>\n",
       "      <td>Product1</td>\n",
       "      <td>201</td>\n",
       "      <td>2012-09-24</td>\n",
       "      <td>2.12</td>\n",
       "      <td>259</td>\n",
       "      <td>58</td>\n",
       "      <td>129514.50</td>\n",
       "    </tr>\n",
       "    <tr>\n",
       "      <th>7</th>\n",
       "      <td>Product1</td>\n",
       "      <td>201</td>\n",
       "      <td>2012-10-01</td>\n",
       "      <td>1.93</td>\n",
       "      <td>276</td>\n",
       "      <td>75</td>\n",
       "      <td>138018.75</td>\n",
       "    </tr>\n",
       "  </tbody>\n",
       "</table>\n",
       "</div>"
      ],
      "text/plain": [
       "       Name  forecast Forecasting_Date  Price  Ordered_Stock_Amount  \\\n",
       "0  Product1       197       2012-08-07   2.09                   200   \n",
       "1  Product1       197       2012-08-15   2.22                   255   \n",
       "2  Product1       198       2012-08-23   2.25                   256   \n",
       "3  Product1       199       2012-08-31   2.25                   257   \n",
       "4  Product1       199       2012-09-08   2.08                   257   \n",
       "5  Product1       200       2012-09-16   1.95                   258   \n",
       "6  Product1       201       2012-09-24   2.12                   259   \n",
       "7  Product1       201       2012-10-01   1.93                   276   \n",
       "\n",
       "   Left_Stock_Amount       cost  \n",
       "0                 58  100014.50  \n",
       "1                 58  127514.50  \n",
       "2                 58  128014.50  \n",
       "3                 58  128514.50  \n",
       "4                 58  128514.50  \n",
       "5                 58  129014.50  \n",
       "6                 58  129514.50  \n",
       "7                 75  138018.75  "
      ]
     },
     "execution_count": 62,
     "metadata": {},
     "output_type": "execute_result"
    }
   ],
   "source": [
    "Safety_Stock = SS\n",
    "df2 = deepcopy(df)\n",
    "for i in range(1,len(df2)):\n",
    "    # above I created a dataframe with last value is 75, it is symbolic number,\n",
    "    # so firstly in my loop, I will look at the related number is equal to 75 or not\n",
    "    if df2.loc[i,'Ordered_Stock_Amount'] !=75:\n",
    "        df2.loc[i,'Ordered_Stock_Amount'] = Safety_Stock + df2.loc[i,'forecast']\n",
    "        df2.loc[i,'Left_Stock_Amount'] = df2.loc[i,'Ordered_Stock_Amount'] - df2.loc[i,'forecast']\n",
    "    else:\n",
    "        df2.loc[i,'Ordered_Stock_Amount'] = (df2.loc[i-1,'Left_Stock_Amount'] + df2.loc[i,'forecast']) + (75 - df2.loc[i-1,'Left_Stock_Amount'])\n",
    "        df2.loc[i,'Left_Stock_Amount'] = df2.loc[i,'Ordered_Stock_Amount'] - df2.loc[i,'forecast']\n",
    "\n",
    "## after creating data frame lets calculate weekly costs\n",
    "df2['cost'] = (500 * df2['Ordered_Stock_Amount']) + (0.25* df2['Left_Stock_Amount'])\n",
    "\n",
    "df2"
   ]
  },
  {
   "cell_type": "markdown",
   "metadata": {},
   "source": [
    "### here is the final of part 2"
   ]
  },
  {
   "cell_type": "markdown",
   "metadata": {},
   "source": [
    "### Thanks, Hincal Topcuoglu"
   ]
  }
 ],
 "metadata": {
  "kernelspec": {
   "display_name": "Python 3",
   "language": "python",
   "name": "python3"
  },
  "language_info": {
   "codemirror_mode": {
    "name": "ipython",
    "version": 3
   },
   "file_extension": ".py",
   "mimetype": "text/x-python",
   "name": "python",
   "nbconvert_exporter": "python",
   "pygments_lexer": "ipython3",
   "version": "3.7.3"
  }
 },
 "nbformat": 4,
 "nbformat_minor": 2
}

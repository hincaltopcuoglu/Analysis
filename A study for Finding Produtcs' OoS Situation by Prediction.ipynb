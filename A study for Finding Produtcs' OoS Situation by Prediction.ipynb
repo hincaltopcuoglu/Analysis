{
 "cells": [
  {
   "cell_type": "markdown",
   "metadata": {},
   "source": [
    "### In this Study, there are two seperate files.One of them is Main and other is Sales file.\n",
    "### Here the problem is, if one customer orders a product,it involves in Sales file,but not in Main File as Out of Stock.\n",
    "### So I will try to find(predict) Out of Stocks' in Main File due to analyses and Modelling."
   ]
  },
  {
   "cell_type": "code",
   "execution_count": 1,
   "metadata": {},
   "outputs": [],
   "source": [
    "import pandas as pd\n",
    "import numpy as np\n",
    "import matplotlib.pyplot as plt\n",
    "import os\n",
    "import seaborn as sns\n",
    "from datetime import datetime\n",
    "from sklearn.ensemble import RandomForestRegressor\n",
    "from sklearn.ensemble import RandomForestClassifier\n",
    "from sklearn.model_selection import train_test_split\n",
    "from sklearn.metrics import accuracy_score\n",
    "from tabulate import tabulate\n",
    "from sklearn import metrics\n",
    "from sklearn.metrics import classification_report, confusion_matrix, accuracy_score\n",
    "from imblearn.over_sampling import SMOTE\n",
    "from imblearn.under_sampling import ClusterCentroids\n",
    "import imblearn"
   ]
  },
  {
   "cell_type": "code",
   "execution_count": 3,
   "metadata": {},
   "outputs": [],
   "source": [
    "#read main file\n",
    "df_main = pd.read_excel('main_file.xlsx')"
   ]
  },
  {
   "cell_type": "code",
   "execution_count": 4,
   "metadata": {},
   "outputs": [
    {
     "data": {
      "text/html": [
       "<div>\n",
       "<style scoped>\n",
       "    .dataframe tbody tr th:only-of-type {\n",
       "        vertical-align: middle;\n",
       "    }\n",
       "\n",
       "    .dataframe tbody tr th {\n",
       "        vertical-align: top;\n",
       "    }\n",
       "\n",
       "    .dataframe thead th {\n",
       "        text-align: right;\n",
       "    }\n",
       "</style>\n",
       "<table border=\"1\" class=\"dataframe\">\n",
       "  <thead>\n",
       "    <tr style=\"text-align: right;\">\n",
       "      <th></th>\n",
       "      <th>Prod_ID</th>\n",
       "      <th>Date</th>\n",
       "      <th>Normal_Selling_Rate</th>\n",
       "      <th>Qty_In_Stock</th>\n",
       "      <th>Discount_Rate</th>\n",
       "    </tr>\n",
       "  </thead>\n",
       "  <tbody>\n",
       "    <tr>\n",
       "      <th>0</th>\n",
       "      <td>1345504</td>\n",
       "      <td>2018-09-15</td>\n",
       "      <td>9.62</td>\n",
       "      <td>13</td>\n",
       "      <td>0.00000</td>\n",
       "    </tr>\n",
       "    <tr>\n",
       "      <th>1</th>\n",
       "      <td>1165247</td>\n",
       "      <td>2018-09-15</td>\n",
       "      <td>7.92</td>\n",
       "      <td>8</td>\n",
       "      <td>-0.05303</td>\n",
       "    </tr>\n",
       "    <tr>\n",
       "      <th>2</th>\n",
       "      <td>1209027</td>\n",
       "      <td>2018-09-15</td>\n",
       "      <td>2.82</td>\n",
       "      <td>18</td>\n",
       "      <td>0.00000</td>\n",
       "    </tr>\n",
       "    <tr>\n",
       "      <th>3</th>\n",
       "      <td>141469</td>\n",
       "      <td>2018-09-15</td>\n",
       "      <td>32.50</td>\n",
       "      <td>16</td>\n",
       "      <td>0.00000</td>\n",
       "    </tr>\n",
       "    <tr>\n",
       "      <th>4</th>\n",
       "      <td>196467</td>\n",
       "      <td>2018-09-15</td>\n",
       "      <td>8.39</td>\n",
       "      <td>0</td>\n",
       "      <td>0.00000</td>\n",
       "    </tr>\n",
       "  </tbody>\n",
       "</table>\n",
       "</div>"
      ],
      "text/plain": [
       "   Prod_ID       Date  Normal_Selling_Rate  Qty_In_Stock  Discount_Rate\n",
       "0  1345504 2018-09-15                 9.62            13        0.00000\n",
       "1  1165247 2018-09-15                 7.92             8       -0.05303\n",
       "2  1209027 2018-09-15                 2.82            18        0.00000\n",
       "3   141469 2018-09-15                32.50            16        0.00000\n",
       "4   196467 2018-09-15                 8.39             0        0.00000"
      ]
     },
     "execution_count": 4,
     "metadata": {},
     "output_type": "execute_result"
    }
   ],
   "source": [
    "df_main.head()"
   ]
  },
  {
   "cell_type": "code",
   "execution_count": 5,
   "metadata": {},
   "outputs": [],
   "source": [
    "df_main['Date'] =  pd.to_datetime(df_main['Date'],format='%Y-%m-%d')\n",
    "df_main.set_index('Date', inplace=True)"
   ]
  },
  {
   "cell_type": "code",
   "execution_count": 6,
   "metadata": {},
   "outputs": [
    {
     "data": {
      "text/html": [
       "<div>\n",
       "<style scoped>\n",
       "    .dataframe tbody tr th:only-of-type {\n",
       "        vertical-align: middle;\n",
       "    }\n",
       "\n",
       "    .dataframe tbody tr th {\n",
       "        vertical-align: top;\n",
       "    }\n",
       "\n",
       "    .dataframe thead th {\n",
       "        text-align: right;\n",
       "    }\n",
       "</style>\n",
       "<table border=\"1\" class=\"dataframe\">\n",
       "  <thead>\n",
       "    <tr style=\"text-align: right;\">\n",
       "      <th></th>\n",
       "      <th>Prod_ID</th>\n",
       "      <th>Normal_Selling_Rate</th>\n",
       "      <th>Qty_In_Stock</th>\n",
       "      <th>Discount_Rate</th>\n",
       "    </tr>\n",
       "    <tr>\n",
       "      <th>Date</th>\n",
       "      <th></th>\n",
       "      <th></th>\n",
       "      <th></th>\n",
       "      <th></th>\n",
       "    </tr>\n",
       "  </thead>\n",
       "  <tbody>\n",
       "    <tr>\n",
       "      <th>2018-09-15</th>\n",
       "      <td>1345504</td>\n",
       "      <td>9.62</td>\n",
       "      <td>13</td>\n",
       "      <td>0.00000</td>\n",
       "    </tr>\n",
       "    <tr>\n",
       "      <th>2018-09-15</th>\n",
       "      <td>1165247</td>\n",
       "      <td>7.92</td>\n",
       "      <td>8</td>\n",
       "      <td>-0.05303</td>\n",
       "    </tr>\n",
       "    <tr>\n",
       "      <th>2018-09-15</th>\n",
       "      <td>1209027</td>\n",
       "      <td>2.82</td>\n",
       "      <td>18</td>\n",
       "      <td>0.00000</td>\n",
       "    </tr>\n",
       "    <tr>\n",
       "      <th>2018-09-15</th>\n",
       "      <td>141469</td>\n",
       "      <td>32.50</td>\n",
       "      <td>16</td>\n",
       "      <td>0.00000</td>\n",
       "    </tr>\n",
       "    <tr>\n",
       "      <th>2018-09-15</th>\n",
       "      <td>196467</td>\n",
       "      <td>8.39</td>\n",
       "      <td>0</td>\n",
       "      <td>0.00000</td>\n",
       "    </tr>\n",
       "  </tbody>\n",
       "</table>\n",
       "</div>"
      ],
      "text/plain": [
       "            Prod_ID  Normal_Selling_Rate  Qty_In_Stock  Discount_Rate\n",
       "Date                                                                 \n",
       "2018-09-15  1345504                 9.62            13        0.00000\n",
       "2018-09-15  1165247                 7.92             8       -0.05303\n",
       "2018-09-15  1209027                 2.82            18        0.00000\n",
       "2018-09-15   141469                32.50            16        0.00000\n",
       "2018-09-15   196467                 8.39             0        0.00000"
      ]
     },
     "execution_count": 6,
     "metadata": {},
     "output_type": "execute_result"
    }
   ],
   "source": [
    "df_main.head()"
   ]
  },
  {
   "cell_type": "code",
   "execution_count": 7,
   "metadata": {},
   "outputs": [
    {
     "data": {
      "text/plain": [
       "625700"
      ]
     },
     "execution_count": 7,
     "metadata": {},
     "output_type": "execute_result"
    }
   ],
   "source": [
    "len(df_main)"
   ]
  },
  {
   "cell_type": "markdown",
   "metadata": {},
   "source": [
    "### total row size is 625700"
   ]
  },
  {
   "cell_type": "code",
   "execution_count": 8,
   "metadata": {},
   "outputs": [
    {
     "data": {
      "text/plain": [
       "22754"
      ]
     },
     "execution_count": 8,
     "metadata": {},
     "output_type": "execute_result"
    }
   ],
   "source": [
    "len(df_main.Prod_ID.unique())"
   ]
  },
  {
   "cell_type": "markdown",
   "metadata": {},
   "source": [
    "### number of distinct products is 22754"
   ]
  },
  {
   "cell_type": "code",
   "execution_count": 9,
   "metadata": {},
   "outputs": [
    {
     "name": "stdout",
     "output_type": "stream",
     "text": [
      "<class 'pandas.core.frame.DataFrame'>\n",
      "DatetimeIndex: 625700 entries, 2018-09-15 to 2018-10-15\n",
      "Data columns (total 4 columns):\n",
      "Prod_ID                625700 non-null int64\n",
      "Normal_Selling_Rate    625700 non-null float64\n",
      "Qty_In_Stock           625700 non-null int64\n",
      "Discount_Rate          625700 non-null float64\n",
      "dtypes: float64(2), int64(2)\n",
      "memory usage: 23.9 MB\n"
     ]
    }
   ],
   "source": [
    "df_main.info()"
   ]
  },
  {
   "cell_type": "markdown",
   "metadata": {},
   "source": [
    "### there is 31 days of time based information"
   ]
  },
  {
   "cell_type": "code",
   "execution_count": 11,
   "metadata": {},
   "outputs": [
    {
     "data": {
      "text/plain": [
       "Prod_ID                0\n",
       "Normal_Selling_Rate    0\n",
       "Qty_In_Stock           0\n",
       "Discount_Rate          0\n",
       "dtype: int64"
      ]
     },
     "execution_count": 11,
     "metadata": {},
     "output_type": "execute_result"
    }
   ],
   "source": [
    "df_main.isnull().sum()"
   ]
  },
  {
   "cell_type": "code",
   "execution_count": 12,
   "metadata": {},
   "outputs": [],
   "source": [
    "#read sales file\n",
    "df_sales = pd.read_excel('sales.xlsx')"
   ]
  },
  {
   "cell_type": "code",
   "execution_count": 13,
   "metadata": {},
   "outputs": [
    {
     "data": {
      "text/html": [
       "<div>\n",
       "<style scoped>\n",
       "    .dataframe tbody tr th:only-of-type {\n",
       "        vertical-align: middle;\n",
       "    }\n",
       "\n",
       "    .dataframe tbody tr th {\n",
       "        vertical-align: top;\n",
       "    }\n",
       "\n",
       "    .dataframe thead th {\n",
       "        text-align: right;\n",
       "    }\n",
       "</style>\n",
       "<table border=\"1\" class=\"dataframe\">\n",
       "  <thead>\n",
       "    <tr style=\"text-align: right;\">\n",
       "      <th></th>\n",
       "      <th>Order_Date</th>\n",
       "      <th>Deliver_Date</th>\n",
       "      <th>Ordered_Quant</th>\n",
       "      <th>OoS_Quant</th>\n",
       "      <th>Prod_ID</th>\n",
       "    </tr>\n",
       "  </thead>\n",
       "  <tbody>\n",
       "    <tr>\n",
       "      <th>0</th>\n",
       "      <td>2018-09-15 11:44:00.000000</td>\n",
       "      <td>2018-09-15 17:12:00.000000</td>\n",
       "      <td>2</td>\n",
       "      <td>2</td>\n",
       "      <td>1321889</td>\n",
       "    </tr>\n",
       "    <tr>\n",
       "      <th>1</th>\n",
       "      <td>2018-09-15 11:44:00.000000</td>\n",
       "      <td>2018-09-15 17:12:00.000000</td>\n",
       "      <td>1</td>\n",
       "      <td>0</td>\n",
       "      <td>1266892</td>\n",
       "    </tr>\n",
       "    <tr>\n",
       "      <th>2</th>\n",
       "      <td>2018-09-15 11:44:00.000000</td>\n",
       "      <td>2018-09-15 17:12:00.000000</td>\n",
       "      <td>0</td>\n",
       "      <td>0</td>\n",
       "      <td>1300321</td>\n",
       "    </tr>\n",
       "    <tr>\n",
       "      <th>3</th>\n",
       "      <td>2018-09-15 11:44:00.000000</td>\n",
       "      <td>2018-09-15 17:12:00.000000</td>\n",
       "      <td>1</td>\n",
       "      <td>0</td>\n",
       "      <td>139970</td>\n",
       "    </tr>\n",
       "    <tr>\n",
       "      <th>4</th>\n",
       "      <td>2018-09-15 11:44:00.000000</td>\n",
       "      <td>2018-09-15 17:12:00.000000</td>\n",
       "      <td>2</td>\n",
       "      <td>2</td>\n",
       "      <td>1266765</td>\n",
       "    </tr>\n",
       "  </tbody>\n",
       "</table>\n",
       "</div>"
      ],
      "text/plain": [
       "                   Order_Date                Deliver_Date  Ordered_Quant  \\\n",
       "0  2018-09-15 11:44:00.000000  2018-09-15 17:12:00.000000              2   \n",
       "1  2018-09-15 11:44:00.000000  2018-09-15 17:12:00.000000              1   \n",
       "2  2018-09-15 11:44:00.000000  2018-09-15 17:12:00.000000              0   \n",
       "3  2018-09-15 11:44:00.000000  2018-09-15 17:12:00.000000              1   \n",
       "4  2018-09-15 11:44:00.000000  2018-09-15 17:12:00.000000              2   \n",
       "\n",
       "   OoS_Quant  Prod_ID  \n",
       "0          2  1321889  \n",
       "1          0  1266892  \n",
       "2          0  1300321  \n",
       "3          0   139970  \n",
       "4          2  1266765  "
      ]
     },
     "execution_count": 13,
     "metadata": {},
     "output_type": "execute_result"
    }
   ],
   "source": [
    "df_sales.head()"
   ]
  },
  {
   "cell_type": "code",
   "execution_count": 14,
   "metadata": {},
   "outputs": [],
   "source": [
    "df_sales['Order_Date'] =  pd.to_datetime(df_sales['Order_Date'])\n",
    "df_sales['Deliver_Date'] =  pd.to_datetime(df_sales['Deliver_Date'])"
   ]
  },
  {
   "cell_type": "code",
   "execution_count": 15,
   "metadata": {},
   "outputs": [
    {
     "name": "stdout",
     "output_type": "stream",
     "text": [
      "<class 'pandas.core.frame.DataFrame'>\n",
      "RangeIndex: 11753 entries, 0 to 11752\n",
      "Data columns (total 5 columns):\n",
      "Order_Date       11753 non-null datetime64[ns]\n",
      "Deliver_Date     11753 non-null datetime64[ns]\n",
      "Ordered_Quant    11753 non-null int64\n",
      "OoS_Quant        11753 non-null int64\n",
      "Prod_ID          11753 non-null int64\n",
      "dtypes: datetime64[ns](2), int64(3)\n",
      "memory usage: 459.2 KB\n"
     ]
    }
   ],
   "source": [
    "df_sales.info()"
   ]
  },
  {
   "cell_type": "code",
   "execution_count": 16,
   "metadata": {},
   "outputs": [
    {
     "data": {
      "text/html": [
       "<div>\n",
       "<style scoped>\n",
       "    .dataframe tbody tr th:only-of-type {\n",
       "        vertical-align: middle;\n",
       "    }\n",
       "\n",
       "    .dataframe tbody tr th {\n",
       "        vertical-align: top;\n",
       "    }\n",
       "\n",
       "    .dataframe thead th {\n",
       "        text-align: right;\n",
       "    }\n",
       "</style>\n",
       "<table border=\"1\" class=\"dataframe\">\n",
       "  <thead>\n",
       "    <tr style=\"text-align: right;\">\n",
       "      <th></th>\n",
       "      <th>Order_Date</th>\n",
       "      <th>Deliver_Date</th>\n",
       "      <th>Ordered_Quant</th>\n",
       "      <th>OoS_Quant</th>\n",
       "      <th>Prod_ID</th>\n",
       "    </tr>\n",
       "  </thead>\n",
       "  <tbody>\n",
       "    <tr>\n",
       "      <th>0</th>\n",
       "      <td>2018-09-15 11:44:00</td>\n",
       "      <td>2018-09-15 17:12:00</td>\n",
       "      <td>2</td>\n",
       "      <td>2</td>\n",
       "      <td>1321889</td>\n",
       "    </tr>\n",
       "    <tr>\n",
       "      <th>1</th>\n",
       "      <td>2018-09-15 11:44:00</td>\n",
       "      <td>2018-09-15 17:12:00</td>\n",
       "      <td>1</td>\n",
       "      <td>0</td>\n",
       "      <td>1266892</td>\n",
       "    </tr>\n",
       "    <tr>\n",
       "      <th>2</th>\n",
       "      <td>2018-09-15 11:44:00</td>\n",
       "      <td>2018-09-15 17:12:00</td>\n",
       "      <td>0</td>\n",
       "      <td>0</td>\n",
       "      <td>1300321</td>\n",
       "    </tr>\n",
       "    <tr>\n",
       "      <th>3</th>\n",
       "      <td>2018-09-15 11:44:00</td>\n",
       "      <td>2018-09-15 17:12:00</td>\n",
       "      <td>1</td>\n",
       "      <td>0</td>\n",
       "      <td>139970</td>\n",
       "    </tr>\n",
       "    <tr>\n",
       "      <th>4</th>\n",
       "      <td>2018-09-15 11:44:00</td>\n",
       "      <td>2018-09-15 17:12:00</td>\n",
       "      <td>2</td>\n",
       "      <td>2</td>\n",
       "      <td>1266765</td>\n",
       "    </tr>\n",
       "  </tbody>\n",
       "</table>\n",
       "</div>"
      ],
      "text/plain": [
       "           Order_Date        Deliver_Date  Ordered_Quant  OoS_Quant  Prod_ID\n",
       "0 2018-09-15 11:44:00 2018-09-15 17:12:00              2          2  1321889\n",
       "1 2018-09-15 11:44:00 2018-09-15 17:12:00              1          0  1266892\n",
       "2 2018-09-15 11:44:00 2018-09-15 17:12:00              0          0  1300321\n",
       "3 2018-09-15 11:44:00 2018-09-15 17:12:00              1          0   139970\n",
       "4 2018-09-15 11:44:00 2018-09-15 17:12:00              2          2  1266765"
      ]
     },
     "execution_count": 16,
     "metadata": {},
     "output_type": "execute_result"
    }
   ],
   "source": [
    "df_sales.head()"
   ]
  },
  {
   "cell_type": "code",
   "execution_count": 17,
   "metadata": {},
   "outputs": [
    {
     "data": {
      "text/plain": [
       "array([datetime.date(2018, 9, 15), datetime.date(2018, 9, 16),\n",
       "       datetime.date(2018, 9, 17), datetime.date(2018, 9, 18),\n",
       "       datetime.date(2018, 9, 19), datetime.date(2018, 9, 20),\n",
       "       datetime.date(2018, 9, 21), datetime.date(2018, 9, 22),\n",
       "       datetime.date(2018, 9, 23), datetime.date(2018, 9, 24),\n",
       "       datetime.date(2018, 9, 25), datetime.date(2018, 9, 26),\n",
       "       datetime.date(2018, 9, 27), datetime.date(2018, 9, 28),\n",
       "       datetime.date(2018, 9, 29), datetime.date(2018, 9, 30),\n",
       "       datetime.date(2018, 10, 1), datetime.date(2018, 10, 2),\n",
       "       datetime.date(2018, 10, 3), datetime.date(2018, 10, 4),\n",
       "       datetime.date(2018, 10, 5), datetime.date(2018, 10, 6),\n",
       "       datetime.date(2018, 10, 7), datetime.date(2018, 10, 8),\n",
       "       datetime.date(2018, 10, 9), datetime.date(2018, 10, 10),\n",
       "       datetime.date(2018, 10, 11), datetime.date(2018, 10, 12),\n",
       "       datetime.date(2018, 10, 13), datetime.date(2018, 10, 14),\n",
       "       datetime.date(2018, 10, 15), datetime.date(2018, 10, 16)],\n",
       "      dtype=object)"
      ]
     },
     "execution_count": 17,
     "metadata": {},
     "output_type": "execute_result"
    }
   ],
   "source": [
    "df_sales['Order_Date'].dt.date.unique()"
   ]
  },
  {
   "cell_type": "code",
   "execution_count": 18,
   "metadata": {},
   "outputs": [
    {
     "data": {
      "text/plain": [
       "array([datetime.date(2018, 9, 15), datetime.date(2018, 9, 16),\n",
       "       datetime.date(2018, 9, 17), datetime.date(2018, 9, 18),\n",
       "       datetime.date(2018, 9, 22), datetime.date(2018, 9, 19),\n",
       "       datetime.date(2018, 9, 20), datetime.date(2018, 9, 21),\n",
       "       datetime.date(2018, 9, 23), datetime.date(2018, 9, 24),\n",
       "       datetime.date(2018, 9, 25), datetime.date(2018, 9, 26),\n",
       "       datetime.date(2018, 9, 27), datetime.date(2018, 9, 28),\n",
       "       datetime.date(2018, 9, 29), datetime.date(2018, 9, 30),\n",
       "       datetime.date(2018, 10, 1), datetime.date(2018, 10, 2),\n",
       "       datetime.date(2018, 10, 3), datetime.date(2018, 10, 4),\n",
       "       datetime.date(2018, 10, 6), datetime.date(2018, 10, 5),\n",
       "       datetime.date(2018, 10, 12), datetime.date(2018, 10, 7),\n",
       "       datetime.date(2018, 10, 9), datetime.date(2018, 10, 8),\n",
       "       datetime.date(2018, 10, 11), datetime.date(2018, 10, 10),\n",
       "       datetime.date(2018, 10, 13), datetime.date(2018, 10, 14),\n",
       "       datetime.date(2018, 10, 17), datetime.date(2018, 10, 15),\n",
       "       datetime.date(2018, 10, 16)], dtype=object)"
      ]
     },
     "execution_count": 18,
     "metadata": {},
     "output_type": "execute_result"
    }
   ],
   "source": [
    "df_sales['Deliver_Date'].dt.date.unique()"
   ]
  },
  {
   "cell_type": "code",
   "execution_count": 19,
   "metadata": {},
   "outputs": [
    {
     "data": {
      "text/plain": [
       "Order_Date       0\n",
       "Deliver_Date     0\n",
       "Ordered_Quant    0\n",
       "OoS_Quant        0\n",
       "Prod_ID          0\n",
       "dtype: int64"
      ]
     },
     "execution_count": 19,
     "metadata": {},
     "output_type": "execute_result"
    }
   ],
   "source": [
    "df_sales.isnull().sum()"
   ]
  },
  {
   "cell_type": "code",
   "execution_count": 20,
   "metadata": {},
   "outputs": [
    {
     "data": {
      "text/html": [
       "<div>\n",
       "<style scoped>\n",
       "    .dataframe tbody tr th:only-of-type {\n",
       "        vertical-align: middle;\n",
       "    }\n",
       "\n",
       "    .dataframe tbody tr th {\n",
       "        vertical-align: top;\n",
       "    }\n",
       "\n",
       "    .dataframe thead th {\n",
       "        text-align: right;\n",
       "    }\n",
       "</style>\n",
       "<table border=\"1\" class=\"dataframe\">\n",
       "  <thead>\n",
       "    <tr style=\"text-align: right;\">\n",
       "      <th></th>\n",
       "      <th>Prod_ID</th>\n",
       "      <th>Normal_Selling_Rate</th>\n",
       "      <th>Qty_In_Stock</th>\n",
       "      <th>Discount_Rate</th>\n",
       "    </tr>\n",
       "    <tr>\n",
       "      <th>Date</th>\n",
       "      <th></th>\n",
       "      <th></th>\n",
       "      <th></th>\n",
       "      <th></th>\n",
       "    </tr>\n",
       "  </thead>\n",
       "  <tbody>\n",
       "    <tr>\n",
       "      <th>2018-09-15</th>\n",
       "      <td>1345504</td>\n",
       "      <td>9.62</td>\n",
       "      <td>13</td>\n",
       "      <td>0.00000</td>\n",
       "    </tr>\n",
       "    <tr>\n",
       "      <th>2018-09-15</th>\n",
       "      <td>1165247</td>\n",
       "      <td>7.92</td>\n",
       "      <td>8</td>\n",
       "      <td>-0.05303</td>\n",
       "    </tr>\n",
       "    <tr>\n",
       "      <th>2018-09-15</th>\n",
       "      <td>1209027</td>\n",
       "      <td>2.82</td>\n",
       "      <td>18</td>\n",
       "      <td>0.00000</td>\n",
       "    </tr>\n",
       "    <tr>\n",
       "      <th>2018-09-15</th>\n",
       "      <td>141469</td>\n",
       "      <td>32.50</td>\n",
       "      <td>16</td>\n",
       "      <td>0.00000</td>\n",
       "    </tr>\n",
       "    <tr>\n",
       "      <th>2018-09-15</th>\n",
       "      <td>196467</td>\n",
       "      <td>8.39</td>\n",
       "      <td>0</td>\n",
       "      <td>0.00000</td>\n",
       "    </tr>\n",
       "  </tbody>\n",
       "</table>\n",
       "</div>"
      ],
      "text/plain": [
       "            Prod_ID  Normal_Selling_Rate  Qty_In_Stock  Discount_Rate\n",
       "Date                                                                 \n",
       "2018-09-15  1345504                 9.62            13        0.00000\n",
       "2018-09-15  1165247                 7.92             8       -0.05303\n",
       "2018-09-15  1209027                 2.82            18        0.00000\n",
       "2018-09-15   141469                32.50            16        0.00000\n",
       "2018-09-15   196467                 8.39             0        0.00000"
      ]
     },
     "execution_count": 20,
     "metadata": {},
     "output_type": "execute_result"
    }
   ],
   "source": [
    "df_main.head()"
   ]
  },
  {
   "cell_type": "markdown",
   "metadata": {},
   "source": [
    "### lets find products which normal_selling_rate is bigger than Qty_In_Stock this calculation may be useful in further works below and at the same time these values may indicate anomalies."
   ]
  },
  {
   "cell_type": "code",
   "execution_count": 22,
   "metadata": {},
   "outputs": [],
   "source": [
    "def is_diff(x):\n",
    "    if x['Qty_In_Stock'] - x['Normal_Selling_Rate']<0:\n",
    "        val = 1\n",
    "    else:\n",
    "        val = 0\n",
    "    return val"
   ]
  },
  {
   "cell_type": "code",
   "execution_count": 23,
   "metadata": {},
   "outputs": [],
   "source": [
    "df_main['is_diffx'] = df_main.apply(is_diff, axis=1)"
   ]
  },
  {
   "cell_type": "code",
   "execution_count": 24,
   "metadata": {},
   "outputs": [
    {
     "data": {
      "text/html": [
       "<div>\n",
       "<style scoped>\n",
       "    .dataframe tbody tr th:only-of-type {\n",
       "        vertical-align: middle;\n",
       "    }\n",
       "\n",
       "    .dataframe tbody tr th {\n",
       "        vertical-align: top;\n",
       "    }\n",
       "\n",
       "    .dataframe thead th {\n",
       "        text-align: right;\n",
       "    }\n",
       "</style>\n",
       "<table border=\"1\" class=\"dataframe\">\n",
       "  <thead>\n",
       "    <tr style=\"text-align: right;\">\n",
       "      <th></th>\n",
       "      <th>Prod_ID</th>\n",
       "      <th>Normal_Selling_Rate</th>\n",
       "      <th>Qty_In_Stock</th>\n",
       "      <th>Discount_Rate</th>\n",
       "      <th>is_diffx</th>\n",
       "    </tr>\n",
       "    <tr>\n",
       "      <th>Date</th>\n",
       "      <th></th>\n",
       "      <th></th>\n",
       "      <th></th>\n",
       "      <th></th>\n",
       "      <th></th>\n",
       "    </tr>\n",
       "  </thead>\n",
       "  <tbody>\n",
       "    <tr>\n",
       "      <th>2018-09-15</th>\n",
       "      <td>1345504</td>\n",
       "      <td>9.62</td>\n",
       "      <td>13</td>\n",
       "      <td>0.00000</td>\n",
       "      <td>0</td>\n",
       "    </tr>\n",
       "    <tr>\n",
       "      <th>2018-09-15</th>\n",
       "      <td>1165247</td>\n",
       "      <td>7.92</td>\n",
       "      <td>8</td>\n",
       "      <td>-0.05303</td>\n",
       "      <td>0</td>\n",
       "    </tr>\n",
       "    <tr>\n",
       "      <th>2018-09-15</th>\n",
       "      <td>1209027</td>\n",
       "      <td>2.82</td>\n",
       "      <td>18</td>\n",
       "      <td>0.00000</td>\n",
       "      <td>0</td>\n",
       "    </tr>\n",
       "    <tr>\n",
       "      <th>2018-09-15</th>\n",
       "      <td>141469</td>\n",
       "      <td>32.50</td>\n",
       "      <td>16</td>\n",
       "      <td>0.00000</td>\n",
       "      <td>1</td>\n",
       "    </tr>\n",
       "    <tr>\n",
       "      <th>2018-09-15</th>\n",
       "      <td>196467</td>\n",
       "      <td>8.39</td>\n",
       "      <td>0</td>\n",
       "      <td>0.00000</td>\n",
       "      <td>1</td>\n",
       "    </tr>\n",
       "  </tbody>\n",
       "</table>\n",
       "</div>"
      ],
      "text/plain": [
       "            Prod_ID  Normal_Selling_Rate  Qty_In_Stock  Discount_Rate  \\\n",
       "Date                                                                    \n",
       "2018-09-15  1345504                 9.62            13        0.00000   \n",
       "2018-09-15  1165247                 7.92             8       -0.05303   \n",
       "2018-09-15  1209027                 2.82            18        0.00000   \n",
       "2018-09-15   141469                32.50            16        0.00000   \n",
       "2018-09-15   196467                 8.39             0        0.00000   \n",
       "\n",
       "            is_diffx  \n",
       "Date                  \n",
       "2018-09-15         0  \n",
       "2018-09-15         0  \n",
       "2018-09-15         0  \n",
       "2018-09-15         1  \n",
       "2018-09-15         1  "
      ]
     },
     "execution_count": 24,
     "metadata": {},
     "output_type": "execute_result"
    }
   ],
   "source": [
    "df_main.head()"
   ]
  },
  {
   "cell_type": "markdown",
   "metadata": {},
   "source": [
    "### So some of products arent in stock even they have some selling records"
   ]
  },
  {
   "cell_type": "markdown",
   "metadata": {},
   "source": [
    "### lets check them"
   ]
  },
  {
   "cell_type": "code",
   "execution_count": 25,
   "metadata": {},
   "outputs": [],
   "source": [
    "df_main_diff = df_main[df_main.is_diffx == 1]\n",
    "diffx_products=df_main_diff.Prod_ID.unique().tolist()"
   ]
  },
  {
   "cell_type": "code",
   "execution_count": 26,
   "metadata": {},
   "outputs": [
    {
     "data": {
      "text/plain": [
       "17068"
      ]
     },
     "execution_count": 26,
     "metadata": {},
     "output_type": "execute_result"
    }
   ],
   "source": [
    "len(diffx_products)"
   ]
  },
  {
   "cell_type": "code",
   "execution_count": 27,
   "metadata": {},
   "outputs": [
    {
     "name": "stdout",
     "output_type": "stream",
     "text": [
      "75.01098707919486\n"
     ]
    }
   ],
   "source": [
    "diff_rate=(17068/22754)*100\n",
    "print(diff_rate)"
   ]
  },
  {
   "cell_type": "markdown",
   "metadata": {},
   "source": [
    "### %75 of products have a differenced values at their normal selling attitudes apart from stock situation "
   ]
  },
  {
   "cell_type": "code",
   "execution_count": 28,
   "metadata": {},
   "outputs": [
    {
     "data": {
      "text/plain": [
       "Prod_ID\n",
       "111826     31\n",
       "1217855    31\n",
       "1217889    31\n",
       "1217888    31\n",
       "1217887    31\n",
       "1217885    31\n",
       "1217883    31\n",
       "1217877    31\n",
       "1217876    31\n",
       "1217875    31\n",
       "1217872    31\n",
       "1217871    31\n",
       "1217867    31\n",
       "110109     31\n",
       "1217864    31\n",
       "1217863    31\n",
       "1217860    31\n",
       "1217890    31\n",
       "1217891    31\n",
       "1217892    31\n",
       "1217909    31\n",
       "110072     31\n",
       "1217914    31\n",
       "1217913    31\n",
       "1217912    31\n",
       "Name: is_diffx, dtype: int64"
      ]
     },
     "execution_count": 28,
     "metadata": {},
     "output_type": "execute_result"
    }
   ],
   "source": [
    "df_main[['is_diffx','Prod_ID']].groupby(['Prod_ID']).sum()['is_diffx'].sort_values(ascending=False).head(25)"
   ]
  },
  {
   "cell_type": "markdown",
   "metadata": {},
   "source": [
    "### Some products are Out of Stock for all 31 days"
   ]
  },
  {
   "cell_type": "code",
   "execution_count": 32,
   "metadata": {},
   "outputs": [
    {
     "data": {
      "text/html": [
       "<div>\n",
       "<style scoped>\n",
       "    .dataframe tbody tr th:only-of-type {\n",
       "        vertical-align: middle;\n",
       "    }\n",
       "\n",
       "    .dataframe tbody tr th {\n",
       "        vertical-align: top;\n",
       "    }\n",
       "\n",
       "    .dataframe thead th {\n",
       "        text-align: right;\n",
       "    }\n",
       "</style>\n",
       "<table border=\"1\" class=\"dataframe\">\n",
       "  <thead>\n",
       "    <tr style=\"text-align: right;\">\n",
       "      <th></th>\n",
       "      <th>Prod_ID</th>\n",
       "      <th>Normal_Selling_Rate</th>\n",
       "      <th>Qty_In_Stock</th>\n",
       "      <th>Discount_Rate</th>\n",
       "      <th>is_diffx</th>\n",
       "    </tr>\n",
       "    <tr>\n",
       "      <th>Date</th>\n",
       "      <th></th>\n",
       "      <th></th>\n",
       "      <th></th>\n",
       "      <th></th>\n",
       "      <th></th>\n",
       "    </tr>\n",
       "  </thead>\n",
       "  <tbody>\n",
       "    <tr>\n",
       "      <th>2018-09-15</th>\n",
       "      <td>1134</td>\n",
       "      <td>9.33</td>\n",
       "      <td>0</td>\n",
       "      <td>0.0</td>\n",
       "      <td>1</td>\n",
       "    </tr>\n",
       "    <tr>\n",
       "      <th>2018-09-16</th>\n",
       "      <td>1134</td>\n",
       "      <td>9.33</td>\n",
       "      <td>0</td>\n",
       "      <td>0.0</td>\n",
       "      <td>1</td>\n",
       "    </tr>\n",
       "    <tr>\n",
       "      <th>2018-09-17</th>\n",
       "      <td>1134</td>\n",
       "      <td>9.33</td>\n",
       "      <td>0</td>\n",
       "      <td>0.0</td>\n",
       "      <td>1</td>\n",
       "    </tr>\n",
       "    <tr>\n",
       "      <th>2018-09-18</th>\n",
       "      <td>1134</td>\n",
       "      <td>9.33</td>\n",
       "      <td>0</td>\n",
       "      <td>0.0</td>\n",
       "      <td>1</td>\n",
       "    </tr>\n",
       "    <tr>\n",
       "      <th>2018-09-19</th>\n",
       "      <td>1134</td>\n",
       "      <td>9.33</td>\n",
       "      <td>0</td>\n",
       "      <td>0.0</td>\n",
       "      <td>1</td>\n",
       "    </tr>\n",
       "    <tr>\n",
       "      <th>2018-09-20</th>\n",
       "      <td>1134</td>\n",
       "      <td>9.33</td>\n",
       "      <td>0</td>\n",
       "      <td>0.0</td>\n",
       "      <td>1</td>\n",
       "    </tr>\n",
       "    <tr>\n",
       "      <th>2018-09-21</th>\n",
       "      <td>1134</td>\n",
       "      <td>9.33</td>\n",
       "      <td>0</td>\n",
       "      <td>0.0</td>\n",
       "      <td>1</td>\n",
       "    </tr>\n",
       "    <tr>\n",
       "      <th>2018-09-22</th>\n",
       "      <td>1134</td>\n",
       "      <td>9.33</td>\n",
       "      <td>0</td>\n",
       "      <td>0.0</td>\n",
       "      <td>1</td>\n",
       "    </tr>\n",
       "    <tr>\n",
       "      <th>2018-09-23</th>\n",
       "      <td>1134</td>\n",
       "      <td>9.33</td>\n",
       "      <td>0</td>\n",
       "      <td>0.0</td>\n",
       "      <td>1</td>\n",
       "    </tr>\n",
       "    <tr>\n",
       "      <th>2018-09-24</th>\n",
       "      <td>1134</td>\n",
       "      <td>9.33</td>\n",
       "      <td>0</td>\n",
       "      <td>0.0</td>\n",
       "      <td>1</td>\n",
       "    </tr>\n",
       "    <tr>\n",
       "      <th>2018-09-25</th>\n",
       "      <td>1134</td>\n",
       "      <td>9.33</td>\n",
       "      <td>0</td>\n",
       "      <td>0.0</td>\n",
       "      <td>1</td>\n",
       "    </tr>\n",
       "    <tr>\n",
       "      <th>2018-09-26</th>\n",
       "      <td>1134</td>\n",
       "      <td>9.33</td>\n",
       "      <td>0</td>\n",
       "      <td>0.0</td>\n",
       "      <td>1</td>\n",
       "    </tr>\n",
       "    <tr>\n",
       "      <th>2018-09-27</th>\n",
       "      <td>1134</td>\n",
       "      <td>9.33</td>\n",
       "      <td>0</td>\n",
       "      <td>0.0</td>\n",
       "      <td>1</td>\n",
       "    </tr>\n",
       "    <tr>\n",
       "      <th>2018-09-28</th>\n",
       "      <td>1134</td>\n",
       "      <td>9.33</td>\n",
       "      <td>0</td>\n",
       "      <td>0.0</td>\n",
       "      <td>1</td>\n",
       "    </tr>\n",
       "    <tr>\n",
       "      <th>2018-09-29</th>\n",
       "      <td>1134</td>\n",
       "      <td>9.33</td>\n",
       "      <td>0</td>\n",
       "      <td>0.0</td>\n",
       "      <td>1</td>\n",
       "    </tr>\n",
       "    <tr>\n",
       "      <th>2018-09-30</th>\n",
       "      <td>1134</td>\n",
       "      <td>9.33</td>\n",
       "      <td>0</td>\n",
       "      <td>0.0</td>\n",
       "      <td>1</td>\n",
       "    </tr>\n",
       "    <tr>\n",
       "      <th>2018-10-01</th>\n",
       "      <td>1134</td>\n",
       "      <td>10.95</td>\n",
       "      <td>0</td>\n",
       "      <td>0.0</td>\n",
       "      <td>1</td>\n",
       "    </tr>\n",
       "    <tr>\n",
       "      <th>2018-10-02</th>\n",
       "      <td>1134</td>\n",
       "      <td>10.95</td>\n",
       "      <td>0</td>\n",
       "      <td>0.0</td>\n",
       "      <td>1</td>\n",
       "    </tr>\n",
       "    <tr>\n",
       "      <th>2018-10-03</th>\n",
       "      <td>1134</td>\n",
       "      <td>10.95</td>\n",
       "      <td>0</td>\n",
       "      <td>0.0</td>\n",
       "      <td>1</td>\n",
       "    </tr>\n",
       "    <tr>\n",
       "      <th>2018-10-04</th>\n",
       "      <td>1134</td>\n",
       "      <td>10.95</td>\n",
       "      <td>0</td>\n",
       "      <td>0.0</td>\n",
       "      <td>1</td>\n",
       "    </tr>\n",
       "    <tr>\n",
       "      <th>2018-10-05</th>\n",
       "      <td>1134</td>\n",
       "      <td>10.95</td>\n",
       "      <td>0</td>\n",
       "      <td>0.0</td>\n",
       "      <td>1</td>\n",
       "    </tr>\n",
       "    <tr>\n",
       "      <th>2018-10-06</th>\n",
       "      <td>1134</td>\n",
       "      <td>10.95</td>\n",
       "      <td>0</td>\n",
       "      <td>0.0</td>\n",
       "      <td>1</td>\n",
       "    </tr>\n",
       "    <tr>\n",
       "      <th>2018-10-07</th>\n",
       "      <td>1134</td>\n",
       "      <td>10.95</td>\n",
       "      <td>0</td>\n",
       "      <td>0.0</td>\n",
       "      <td>1</td>\n",
       "    </tr>\n",
       "    <tr>\n",
       "      <th>2018-10-08</th>\n",
       "      <td>1134</td>\n",
       "      <td>10.95</td>\n",
       "      <td>0</td>\n",
       "      <td>0.0</td>\n",
       "      <td>1</td>\n",
       "    </tr>\n",
       "    <tr>\n",
       "      <th>2018-10-09</th>\n",
       "      <td>1134</td>\n",
       "      <td>10.95</td>\n",
       "      <td>0</td>\n",
       "      <td>0.0</td>\n",
       "      <td>1</td>\n",
       "    </tr>\n",
       "    <tr>\n",
       "      <th>2018-10-10</th>\n",
       "      <td>1134</td>\n",
       "      <td>10.95</td>\n",
       "      <td>0</td>\n",
       "      <td>0.0</td>\n",
       "      <td>1</td>\n",
       "    </tr>\n",
       "    <tr>\n",
       "      <th>2018-10-11</th>\n",
       "      <td>1134</td>\n",
       "      <td>10.95</td>\n",
       "      <td>0</td>\n",
       "      <td>0.0</td>\n",
       "      <td>1</td>\n",
       "    </tr>\n",
       "    <tr>\n",
       "      <th>2018-10-12</th>\n",
       "      <td>1134</td>\n",
       "      <td>10.95</td>\n",
       "      <td>0</td>\n",
       "      <td>0.0</td>\n",
       "      <td>1</td>\n",
       "    </tr>\n",
       "    <tr>\n",
       "      <th>2018-10-13</th>\n",
       "      <td>1134</td>\n",
       "      <td>10.95</td>\n",
       "      <td>0</td>\n",
       "      <td>0.0</td>\n",
       "      <td>1</td>\n",
       "    </tr>\n",
       "    <tr>\n",
       "      <th>2018-10-14</th>\n",
       "      <td>1134</td>\n",
       "      <td>10.95</td>\n",
       "      <td>0</td>\n",
       "      <td>0.0</td>\n",
       "      <td>1</td>\n",
       "    </tr>\n",
       "    <tr>\n",
       "      <th>2018-10-15</th>\n",
       "      <td>1134</td>\n",
       "      <td>10.95</td>\n",
       "      <td>0</td>\n",
       "      <td>0.0</td>\n",
       "      <td>1</td>\n",
       "    </tr>\n",
       "  </tbody>\n",
       "</table>\n",
       "</div>"
      ],
      "text/plain": [
       "            Prod_ID  Normal_Selling_Rate  Qty_In_Stock  Discount_Rate  \\\n",
       "Date                                                                    \n",
       "2018-09-15     1134                 9.33             0            0.0   \n",
       "2018-09-16     1134                 9.33             0            0.0   \n",
       "2018-09-17     1134                 9.33             0            0.0   \n",
       "2018-09-18     1134                 9.33             0            0.0   \n",
       "2018-09-19     1134                 9.33             0            0.0   \n",
       "2018-09-20     1134                 9.33             0            0.0   \n",
       "2018-09-21     1134                 9.33             0            0.0   \n",
       "2018-09-22     1134                 9.33             0            0.0   \n",
       "2018-09-23     1134                 9.33             0            0.0   \n",
       "2018-09-24     1134                 9.33             0            0.0   \n",
       "2018-09-25     1134                 9.33             0            0.0   \n",
       "2018-09-26     1134                 9.33             0            0.0   \n",
       "2018-09-27     1134                 9.33             0            0.0   \n",
       "2018-09-28     1134                 9.33             0            0.0   \n",
       "2018-09-29     1134                 9.33             0            0.0   \n",
       "2018-09-30     1134                 9.33             0            0.0   \n",
       "2018-10-01     1134                10.95             0            0.0   \n",
       "2018-10-02     1134                10.95             0            0.0   \n",
       "2018-10-03     1134                10.95             0            0.0   \n",
       "2018-10-04     1134                10.95             0            0.0   \n",
       "2018-10-05     1134                10.95             0            0.0   \n",
       "2018-10-06     1134                10.95             0            0.0   \n",
       "2018-10-07     1134                10.95             0            0.0   \n",
       "2018-10-08     1134                10.95             0            0.0   \n",
       "2018-10-09     1134                10.95             0            0.0   \n",
       "2018-10-10     1134                10.95             0            0.0   \n",
       "2018-10-11     1134                10.95             0            0.0   \n",
       "2018-10-12     1134                10.95             0            0.0   \n",
       "2018-10-13     1134                10.95             0            0.0   \n",
       "2018-10-14     1134                10.95             0            0.0   \n",
       "2018-10-15     1134                10.95             0            0.0   \n",
       "\n",
       "            is_diffx  \n",
       "Date                  \n",
       "2018-09-15         1  \n",
       "2018-09-16         1  \n",
       "2018-09-17         1  \n",
       "2018-09-18         1  \n",
       "2018-09-19         1  \n",
       "2018-09-20         1  \n",
       "2018-09-21         1  \n",
       "2018-09-22         1  \n",
       "2018-09-23         1  \n",
       "2018-09-24         1  \n",
       "2018-09-25         1  \n",
       "2018-09-26         1  \n",
       "2018-09-27         1  \n",
       "2018-09-28         1  \n",
       "2018-09-29         1  \n",
       "2018-09-30         1  \n",
       "2018-10-01         1  \n",
       "2018-10-02         1  \n",
       "2018-10-03         1  \n",
       "2018-10-04         1  \n",
       "2018-10-05         1  \n",
       "2018-10-06         1  \n",
       "2018-10-07         1  \n",
       "2018-10-08         1  \n",
       "2018-10-09         1  \n",
       "2018-10-10         1  \n",
       "2018-10-11         1  \n",
       "2018-10-12         1  \n",
       "2018-10-13         1  \n",
       "2018-10-14         1  \n",
       "2018-10-15         1  "
      ]
     },
     "execution_count": 32,
     "metadata": {},
     "output_type": "execute_result"
    }
   ],
   "source": [
    "#lets look at one example\n",
    "df_main_1134 = df_main[df_main.Prod_ID == 1134]\n",
    "\n",
    "df_main_1134"
   ]
  },
  {
   "cell_type": "code",
   "execution_count": 33,
   "metadata": {},
   "outputs": [
    {
     "data": {
      "text/html": [
       "<div>\n",
       "<style scoped>\n",
       "    .dataframe tbody tr th:only-of-type {\n",
       "        vertical-align: middle;\n",
       "    }\n",
       "\n",
       "    .dataframe tbody tr th {\n",
       "        vertical-align: top;\n",
       "    }\n",
       "\n",
       "    .dataframe thead th {\n",
       "        text-align: right;\n",
       "    }\n",
       "</style>\n",
       "<table border=\"1\" class=\"dataframe\">\n",
       "  <thead>\n",
       "    <tr style=\"text-align: right;\">\n",
       "      <th></th>\n",
       "      <th>Order_Date</th>\n",
       "      <th>Deliver_Date</th>\n",
       "      <th>Ordered_Quant</th>\n",
       "      <th>OoS_Quant</th>\n",
       "      <th>Prod_ID</th>\n",
       "    </tr>\n",
       "  </thead>\n",
       "  <tbody>\n",
       "  </tbody>\n",
       "</table>\n",
       "</div>"
      ],
      "text/plain": [
       "Empty DataFrame\n",
       "Columns: [Order_Date, Deliver_Date, Ordered_Quant, OoS_Quant, Prod_ID]\n",
       "Index: []"
      ]
     },
     "execution_count": 33,
     "metadata": {},
     "output_type": "execute_result"
    }
   ],
   "source": [
    "#lets check it in also sales file\n",
    "df_sales_1134 = df_sales[df_sales.Prod_ID == 1134]\n",
    "\n",
    "df_sales_1134"
   ]
  },
  {
   "cell_type": "markdown",
   "metadata": {},
   "source": [
    "### So we can think the Main data as general stock information about products which holds general(normal) selling and the stock quantities."
   ]
  },
  {
   "cell_type": "markdown",
   "metadata": {},
   "source": [
    "### Lets find the real anomalies which is not in the stock in the main file but lies in sales data because we cannot decide truely, what is their behavior in sales data."
   ]
  },
  {
   "cell_type": "code",
   "execution_count": 34,
   "metadata": {},
   "outputs": [],
   "source": [
    "df_sales['just_order_date'] = df_sales['Order_Date'].dt.date"
   ]
  },
  {
   "cell_type": "code",
   "execution_count": 35,
   "metadata": {},
   "outputs": [],
   "source": [
    "df_sales['just_order_date'] =  pd.to_datetime(df_sales['just_order_date'],format='%Y-%m-%d')"
   ]
  },
  {
   "cell_type": "code",
   "execution_count": 36,
   "metadata": {},
   "outputs": [
    {
     "data": {
      "text/html": [
       "<div>\n",
       "<style scoped>\n",
       "    .dataframe tbody tr th:only-of-type {\n",
       "        vertical-align: middle;\n",
       "    }\n",
       "\n",
       "    .dataframe tbody tr th {\n",
       "        vertical-align: top;\n",
       "    }\n",
       "\n",
       "    .dataframe thead th {\n",
       "        text-align: right;\n",
       "    }\n",
       "</style>\n",
       "<table border=\"1\" class=\"dataframe\">\n",
       "  <thead>\n",
       "    <tr style=\"text-align: right;\">\n",
       "      <th></th>\n",
       "      <th>Order_Date</th>\n",
       "      <th>Deliver_Date</th>\n",
       "      <th>Ordered_Quant</th>\n",
       "      <th>OoS_Quant</th>\n",
       "      <th>Prod_ID</th>\n",
       "      <th>just_order_date</th>\n",
       "    </tr>\n",
       "  </thead>\n",
       "  <tbody>\n",
       "    <tr>\n",
       "      <th>0</th>\n",
       "      <td>2018-09-15 11:44:00</td>\n",
       "      <td>2018-09-15 17:12:00</td>\n",
       "      <td>2</td>\n",
       "      <td>2</td>\n",
       "      <td>1321889</td>\n",
       "      <td>2018-09-15</td>\n",
       "    </tr>\n",
       "    <tr>\n",
       "      <th>1</th>\n",
       "      <td>2018-09-15 11:44:00</td>\n",
       "      <td>2018-09-15 17:12:00</td>\n",
       "      <td>1</td>\n",
       "      <td>0</td>\n",
       "      <td>1266892</td>\n",
       "      <td>2018-09-15</td>\n",
       "    </tr>\n",
       "    <tr>\n",
       "      <th>2</th>\n",
       "      <td>2018-09-15 11:44:00</td>\n",
       "      <td>2018-09-15 17:12:00</td>\n",
       "      <td>0</td>\n",
       "      <td>0</td>\n",
       "      <td>1300321</td>\n",
       "      <td>2018-09-15</td>\n",
       "    </tr>\n",
       "    <tr>\n",
       "      <th>3</th>\n",
       "      <td>2018-09-15 11:44:00</td>\n",
       "      <td>2018-09-15 17:12:00</td>\n",
       "      <td>1</td>\n",
       "      <td>0</td>\n",
       "      <td>139970</td>\n",
       "      <td>2018-09-15</td>\n",
       "    </tr>\n",
       "    <tr>\n",
       "      <th>4</th>\n",
       "      <td>2018-09-15 11:44:00</td>\n",
       "      <td>2018-09-15 17:12:00</td>\n",
       "      <td>2</td>\n",
       "      <td>2</td>\n",
       "      <td>1266765</td>\n",
       "      <td>2018-09-15</td>\n",
       "    </tr>\n",
       "  </tbody>\n",
       "</table>\n",
       "</div>"
      ],
      "text/plain": [
       "           Order_Date        Deliver_Date  Ordered_Quant  OoS_Quant  Prod_ID  \\\n",
       "0 2018-09-15 11:44:00 2018-09-15 17:12:00              2          2  1321889   \n",
       "1 2018-09-15 11:44:00 2018-09-15 17:12:00              1          0  1266892   \n",
       "2 2018-09-15 11:44:00 2018-09-15 17:12:00              0          0  1300321   \n",
       "3 2018-09-15 11:44:00 2018-09-15 17:12:00              1          0   139970   \n",
       "4 2018-09-15 11:44:00 2018-09-15 17:12:00              2          2  1266765   \n",
       "\n",
       "  just_order_date  \n",
       "0      2018-09-15  \n",
       "1      2018-09-15  \n",
       "2      2018-09-15  \n",
       "3      2018-09-15  \n",
       "4      2018-09-15  "
      ]
     },
     "execution_count": 36,
     "metadata": {},
     "output_type": "execute_result"
    }
   ],
   "source": [
    "df_sales.head()"
   ]
  },
  {
   "cell_type": "code",
   "execution_count": 37,
   "metadata": {},
   "outputs": [
    {
     "name": "stdout",
     "output_type": "stream",
     "text": [
      "<class 'pandas.core.frame.DataFrame'>\n",
      "RangeIndex: 11753 entries, 0 to 11752\n",
      "Data columns (total 6 columns):\n",
      "Order_Date         11753 non-null datetime64[ns]\n",
      "Deliver_Date       11753 non-null datetime64[ns]\n",
      "Ordered_Quant      11753 non-null int64\n",
      "OoS_Quant          11753 non-null int64\n",
      "Prod_ID            11753 non-null int64\n",
      "just_order_date    11753 non-null datetime64[ns]\n",
      "dtypes: datetime64[ns](3), int64(3)\n",
      "memory usage: 551.0 KB\n"
     ]
    }
   ],
   "source": [
    "df_sales.info()"
   ]
  },
  {
   "cell_type": "markdown",
   "metadata": {},
   "source": [
    "### merge two data to find real anomalies."
   ]
  },
  {
   "cell_type": "code",
   "execution_count": 49,
   "metadata": {},
   "outputs": [],
   "source": [
    "df_unioned=pd.merge(df_sales, df_main,  how='left', left_on=['just_order_date','Prod_ID'], right_on = ['Date','Prod_ID'])"
   ]
  },
  {
   "cell_type": "code",
   "execution_count": 50,
   "metadata": {},
   "outputs": [
    {
     "data": {
      "text/html": [
       "<div>\n",
       "<style scoped>\n",
       "    .dataframe tbody tr th:only-of-type {\n",
       "        vertical-align: middle;\n",
       "    }\n",
       "\n",
       "    .dataframe tbody tr th {\n",
       "        vertical-align: top;\n",
       "    }\n",
       "\n",
       "    .dataframe thead th {\n",
       "        text-align: right;\n",
       "    }\n",
       "</style>\n",
       "<table border=\"1\" class=\"dataframe\">\n",
       "  <thead>\n",
       "    <tr style=\"text-align: right;\">\n",
       "      <th></th>\n",
       "      <th>Order_Date</th>\n",
       "      <th>Deliver_Date</th>\n",
       "      <th>Ordered_Quant</th>\n",
       "      <th>OoS_Quant</th>\n",
       "      <th>Prod_ID</th>\n",
       "      <th>just_order_date</th>\n",
       "      <th>Normal_Selling_Rate</th>\n",
       "      <th>Qty_In_Stock</th>\n",
       "      <th>Discount_Rate</th>\n",
       "      <th>is_diffx</th>\n",
       "    </tr>\n",
       "  </thead>\n",
       "  <tbody>\n",
       "    <tr>\n",
       "      <th>0</th>\n",
       "      <td>2018-09-15 11:44:00</td>\n",
       "      <td>2018-09-15 17:12:00</td>\n",
       "      <td>2</td>\n",
       "      <td>2</td>\n",
       "      <td>1321889</td>\n",
       "      <td>2018-09-15</td>\n",
       "      <td>14.85</td>\n",
       "      <td>2.0</td>\n",
       "      <td>0.000000</td>\n",
       "      <td>1.0</td>\n",
       "    </tr>\n",
       "    <tr>\n",
       "      <th>1</th>\n",
       "      <td>2018-09-15 11:44:00</td>\n",
       "      <td>2018-09-15 17:12:00</td>\n",
       "      <td>1</td>\n",
       "      <td>0</td>\n",
       "      <td>1266892</td>\n",
       "      <td>2018-09-15</td>\n",
       "      <td>21.31</td>\n",
       "      <td>9.0</td>\n",
       "      <td>0.000000</td>\n",
       "      <td>1.0</td>\n",
       "    </tr>\n",
       "    <tr>\n",
       "      <th>2</th>\n",
       "      <td>2018-09-15 11:44:00</td>\n",
       "      <td>2018-09-15 17:12:00</td>\n",
       "      <td>0</td>\n",
       "      <td>0</td>\n",
       "      <td>1300321</td>\n",
       "      <td>2018-09-15</td>\n",
       "      <td>13.72</td>\n",
       "      <td>86.0</td>\n",
       "      <td>-0.278426</td>\n",
       "      <td>0.0</td>\n",
       "    </tr>\n",
       "    <tr>\n",
       "      <th>3</th>\n",
       "      <td>2018-09-15 11:44:00</td>\n",
       "      <td>2018-09-15 17:12:00</td>\n",
       "      <td>1</td>\n",
       "      <td>0</td>\n",
       "      <td>139970</td>\n",
       "      <td>2018-09-15</td>\n",
       "      <td>11.31</td>\n",
       "      <td>54.0</td>\n",
       "      <td>-0.076039</td>\n",
       "      <td>0.0</td>\n",
       "    </tr>\n",
       "    <tr>\n",
       "      <th>4</th>\n",
       "      <td>2018-09-15 11:44:00</td>\n",
       "      <td>2018-09-15 17:12:00</td>\n",
       "      <td>2</td>\n",
       "      <td>2</td>\n",
       "      <td>1266765</td>\n",
       "      <td>2018-09-15</td>\n",
       "      <td>14.05</td>\n",
       "      <td>1.0</td>\n",
       "      <td>0.000000</td>\n",
       "      <td>1.0</td>\n",
       "    </tr>\n",
       "    <tr>\n",
       "      <th>5</th>\n",
       "      <td>2018-09-15 11:44:00</td>\n",
       "      <td>2018-09-15 17:12:00</td>\n",
       "      <td>6</td>\n",
       "      <td>6</td>\n",
       "      <td>1247688</td>\n",
       "      <td>2018-09-15</td>\n",
       "      <td>10.28</td>\n",
       "      <td>4.0</td>\n",
       "      <td>0.000000</td>\n",
       "      <td>1.0</td>\n",
       "    </tr>\n",
       "    <tr>\n",
       "      <th>6</th>\n",
       "      <td>2018-09-15 11:44:00</td>\n",
       "      <td>2018-09-15 17:12:00</td>\n",
       "      <td>2</td>\n",
       "      <td>0</td>\n",
       "      <td>1132619</td>\n",
       "      <td>2018-09-15</td>\n",
       "      <td>9.33</td>\n",
       "      <td>14.0</td>\n",
       "      <td>0.000000</td>\n",
       "      <td>0.0</td>\n",
       "    </tr>\n",
       "    <tr>\n",
       "      <th>7</th>\n",
       "      <td>2018-09-15 11:44:00</td>\n",
       "      <td>2018-09-15 17:12:00</td>\n",
       "      <td>1</td>\n",
       "      <td>1</td>\n",
       "      <td>1132617</td>\n",
       "      <td>2018-09-15</td>\n",
       "      <td>17.60</td>\n",
       "      <td>11.0</td>\n",
       "      <td>0.000000</td>\n",
       "      <td>1.0</td>\n",
       "    </tr>\n",
       "    <tr>\n",
       "      <th>8</th>\n",
       "      <td>2018-09-15 11:44:00</td>\n",
       "      <td>2018-09-15 17:12:00</td>\n",
       "      <td>2</td>\n",
       "      <td>0</td>\n",
       "      <td>1202126</td>\n",
       "      <td>2018-09-15</td>\n",
       "      <td>NaN</td>\n",
       "      <td>NaN</td>\n",
       "      <td>NaN</td>\n",
       "      <td>NaN</td>\n",
       "    </tr>\n",
       "    <tr>\n",
       "      <th>9</th>\n",
       "      <td>2018-09-15 11:44:00</td>\n",
       "      <td>2018-09-15 17:12:00</td>\n",
       "      <td>1</td>\n",
       "      <td>0</td>\n",
       "      <td>18995</td>\n",
       "      <td>2018-09-15</td>\n",
       "      <td>6.74</td>\n",
       "      <td>14.0</td>\n",
       "      <td>0.000000</td>\n",
       "      <td>0.0</td>\n",
       "    </tr>\n",
       "  </tbody>\n",
       "</table>\n",
       "</div>"
      ],
      "text/plain": [
       "           Order_Date        Deliver_Date  Ordered_Quant  OoS_Quant  Prod_ID  \\\n",
       "0 2018-09-15 11:44:00 2018-09-15 17:12:00              2          2  1321889   \n",
       "1 2018-09-15 11:44:00 2018-09-15 17:12:00              1          0  1266892   \n",
       "2 2018-09-15 11:44:00 2018-09-15 17:12:00              0          0  1300321   \n",
       "3 2018-09-15 11:44:00 2018-09-15 17:12:00              1          0   139970   \n",
       "4 2018-09-15 11:44:00 2018-09-15 17:12:00              2          2  1266765   \n",
       "5 2018-09-15 11:44:00 2018-09-15 17:12:00              6          6  1247688   \n",
       "6 2018-09-15 11:44:00 2018-09-15 17:12:00              2          0  1132619   \n",
       "7 2018-09-15 11:44:00 2018-09-15 17:12:00              1          1  1132617   \n",
       "8 2018-09-15 11:44:00 2018-09-15 17:12:00              2          0  1202126   \n",
       "9 2018-09-15 11:44:00 2018-09-15 17:12:00              1          0    18995   \n",
       "\n",
       "  just_order_date  Normal_Selling_Rate  Qty_In_Stock  Discount_Rate  is_diffx  \n",
       "0      2018-09-15                14.85           2.0       0.000000       1.0  \n",
       "1      2018-09-15                21.31           9.0       0.000000       1.0  \n",
       "2      2018-09-15                13.72          86.0      -0.278426       0.0  \n",
       "3      2018-09-15                11.31          54.0      -0.076039       0.0  \n",
       "4      2018-09-15                14.05           1.0       0.000000       1.0  \n",
       "5      2018-09-15                10.28           4.0       0.000000       1.0  \n",
       "6      2018-09-15                 9.33          14.0       0.000000       0.0  \n",
       "7      2018-09-15                17.60          11.0       0.000000       1.0  \n",
       "8      2018-09-15                  NaN           NaN            NaN       NaN  \n",
       "9      2018-09-15                 6.74          14.0       0.000000       0.0  "
      ]
     },
     "execution_count": 50,
     "metadata": {},
     "output_type": "execute_result"
    }
   ],
   "source": [
    "df_unioned.head(10)"
   ]
  },
  {
   "cell_type": "code",
   "execution_count": 51,
   "metadata": {},
   "outputs": [
    {
     "data": {
      "text/plain": [
       "11753"
      ]
     },
     "execution_count": 51,
     "metadata": {},
     "output_type": "execute_result"
    }
   ],
   "source": [
    "len(df_unioned)"
   ]
  },
  {
   "cell_type": "code",
   "execution_count": 52,
   "metadata": {},
   "outputs": [
    {
     "data": {
      "text/plain": [
       "3507"
      ]
     },
     "execution_count": 52,
     "metadata": {},
     "output_type": "execute_result"
    }
   ],
   "source": [
    "len(df_sales.Prod_ID.unique().tolist())"
   ]
  },
  {
   "cell_type": "markdown",
   "metadata": {},
   "source": [
    "### lets define Out Of Stocks based on unioned data.\n",
    "### Calculation will be done based on if a product's Qty_In_Stock in any day, is bigger than Out Of Stock Quantity.They will NOT labeled as Out of Stock and others will be labeled as Out of Stock."
   ]
  },
  {
   "cell_type": "code",
   "execution_count": 53,
   "metadata": {},
   "outputs": [],
   "source": [
    "def is_OOS(x):\n",
    "    if x['Qty_In_Stock'] - x['OoS_Quant']>0:\n",
    "        val = 0\n",
    "    else:\n",
    "        val = 1\n",
    "    return val"
   ]
  },
  {
   "cell_type": "code",
   "execution_count": 54,
   "metadata": {},
   "outputs": [],
   "source": [
    "df_unioned['is_OoS'] = df_unioned.apply(is_OOS, axis=1)"
   ]
  },
  {
   "cell_type": "code",
   "execution_count": 55,
   "metadata": {},
   "outputs": [
    {
     "data": {
      "text/html": [
       "<div>\n",
       "<style scoped>\n",
       "    .dataframe tbody tr th:only-of-type {\n",
       "        vertical-align: middle;\n",
       "    }\n",
       "\n",
       "    .dataframe tbody tr th {\n",
       "        vertical-align: top;\n",
       "    }\n",
       "\n",
       "    .dataframe thead th {\n",
       "        text-align: right;\n",
       "    }\n",
       "</style>\n",
       "<table border=\"1\" class=\"dataframe\">\n",
       "  <thead>\n",
       "    <tr style=\"text-align: right;\">\n",
       "      <th></th>\n",
       "      <th>Order_Date</th>\n",
       "      <th>Deliver_Date</th>\n",
       "      <th>Ordered_Quant</th>\n",
       "      <th>OoS_Quant</th>\n",
       "      <th>Prod_ID</th>\n",
       "      <th>just_order_date</th>\n",
       "      <th>Normal_Selling_Rate</th>\n",
       "      <th>Qty_In_Stock</th>\n",
       "      <th>Discount_Rate</th>\n",
       "      <th>is_diffx</th>\n",
       "      <th>is_OoS</th>\n",
       "    </tr>\n",
       "  </thead>\n",
       "  <tbody>\n",
       "    <tr>\n",
       "      <th>0</th>\n",
       "      <td>2018-09-15 11:44:00</td>\n",
       "      <td>2018-09-15 17:12:00</td>\n",
       "      <td>2</td>\n",
       "      <td>2</td>\n",
       "      <td>1321889</td>\n",
       "      <td>2018-09-15</td>\n",
       "      <td>14.85</td>\n",
       "      <td>2.0</td>\n",
       "      <td>0.000000</td>\n",
       "      <td>1.0</td>\n",
       "      <td>1</td>\n",
       "    </tr>\n",
       "    <tr>\n",
       "      <th>1</th>\n",
       "      <td>2018-09-15 11:44:00</td>\n",
       "      <td>2018-09-15 17:12:00</td>\n",
       "      <td>1</td>\n",
       "      <td>0</td>\n",
       "      <td>1266892</td>\n",
       "      <td>2018-09-15</td>\n",
       "      <td>21.31</td>\n",
       "      <td>9.0</td>\n",
       "      <td>0.000000</td>\n",
       "      <td>1.0</td>\n",
       "      <td>0</td>\n",
       "    </tr>\n",
       "    <tr>\n",
       "      <th>2</th>\n",
       "      <td>2018-09-15 11:44:00</td>\n",
       "      <td>2018-09-15 17:12:00</td>\n",
       "      <td>0</td>\n",
       "      <td>0</td>\n",
       "      <td>1300321</td>\n",
       "      <td>2018-09-15</td>\n",
       "      <td>13.72</td>\n",
       "      <td>86.0</td>\n",
       "      <td>-0.278426</td>\n",
       "      <td>0.0</td>\n",
       "      <td>0</td>\n",
       "    </tr>\n",
       "    <tr>\n",
       "      <th>3</th>\n",
       "      <td>2018-09-15 11:44:00</td>\n",
       "      <td>2018-09-15 17:12:00</td>\n",
       "      <td>1</td>\n",
       "      <td>0</td>\n",
       "      <td>139970</td>\n",
       "      <td>2018-09-15</td>\n",
       "      <td>11.31</td>\n",
       "      <td>54.0</td>\n",
       "      <td>-0.076039</td>\n",
       "      <td>0.0</td>\n",
       "      <td>0</td>\n",
       "    </tr>\n",
       "    <tr>\n",
       "      <th>4</th>\n",
       "      <td>2018-09-15 11:44:00</td>\n",
       "      <td>2018-09-15 17:12:00</td>\n",
       "      <td>2</td>\n",
       "      <td>2</td>\n",
       "      <td>1266765</td>\n",
       "      <td>2018-09-15</td>\n",
       "      <td>14.05</td>\n",
       "      <td>1.0</td>\n",
       "      <td>0.000000</td>\n",
       "      <td>1.0</td>\n",
       "      <td>1</td>\n",
       "    </tr>\n",
       "  </tbody>\n",
       "</table>\n",
       "</div>"
      ],
      "text/plain": [
       "           Order_Date        Deliver_Date  Ordered_Quant  OoS_Quant  Prod_ID  \\\n",
       "0 2018-09-15 11:44:00 2018-09-15 17:12:00              2          2  1321889   \n",
       "1 2018-09-15 11:44:00 2018-09-15 17:12:00              1          0  1266892   \n",
       "2 2018-09-15 11:44:00 2018-09-15 17:12:00              0          0  1300321   \n",
       "3 2018-09-15 11:44:00 2018-09-15 17:12:00              1          0   139970   \n",
       "4 2018-09-15 11:44:00 2018-09-15 17:12:00              2          2  1266765   \n",
       "\n",
       "  just_order_date  Normal_Selling_Rate  Qty_In_Stock  Discount_Rate  is_diffx  \\\n",
       "0      2018-09-15                14.85           2.0       0.000000       1.0   \n",
       "1      2018-09-15                21.31           9.0       0.000000       1.0   \n",
       "2      2018-09-15                13.72          86.0      -0.278426       0.0   \n",
       "3      2018-09-15                11.31          54.0      -0.076039       0.0   \n",
       "4      2018-09-15                14.05           1.0       0.000000       1.0   \n",
       "\n",
       "   is_OoS  \n",
       "0       1  \n",
       "1       0  \n",
       "2       0  \n",
       "3       0  \n",
       "4       1  "
      ]
     },
     "execution_count": 55,
     "metadata": {},
     "output_type": "execute_result"
    }
   ],
   "source": [
    "df_unioned.head(5)"
   ]
  },
  {
   "cell_type": "markdown",
   "metadata": {},
   "source": [
    "### So all sales data labeled regard to OoS calculation."
   ]
  },
  {
   "cell_type": "code",
   "execution_count": 56,
   "metadata": {},
   "outputs": [
    {
     "data": {
      "text/plain": [
       "11753"
      ]
     },
     "execution_count": 56,
     "metadata": {},
     "output_type": "execute_result"
    }
   ],
   "source": [
    "len(df_unioned)"
   ]
  },
  {
   "cell_type": "markdown",
   "metadata": {},
   "source": [
    "### Prepare new data for prediction"
   ]
  },
  {
   "cell_type": "code",
   "execution_count": 57,
   "metadata": {},
   "outputs": [],
   "source": [
    "df_for_pred=df_unioned[['is_OoS','Normal_Selling_Rate','Qty_In_Stock','Discount_Rate','is_diffx','Prod_ID']]"
   ]
  },
  {
   "cell_type": "code",
   "execution_count": 58,
   "metadata": {},
   "outputs": [
    {
     "data": {
      "text/html": [
       "<div>\n",
       "<style scoped>\n",
       "    .dataframe tbody tr th:only-of-type {\n",
       "        vertical-align: middle;\n",
       "    }\n",
       "\n",
       "    .dataframe tbody tr th {\n",
       "        vertical-align: top;\n",
       "    }\n",
       "\n",
       "    .dataframe thead th {\n",
       "        text-align: right;\n",
       "    }\n",
       "</style>\n",
       "<table border=\"1\" class=\"dataframe\">\n",
       "  <thead>\n",
       "    <tr style=\"text-align: right;\">\n",
       "      <th></th>\n",
       "      <th>is_OoS</th>\n",
       "      <th>Normal_Selling_Rate</th>\n",
       "      <th>Qty_In_Stock</th>\n",
       "      <th>Discount_Rate</th>\n",
       "      <th>is_diffx</th>\n",
       "      <th>Prod_ID</th>\n",
       "    </tr>\n",
       "  </thead>\n",
       "  <tbody>\n",
       "    <tr>\n",
       "      <th>0</th>\n",
       "      <td>1</td>\n",
       "      <td>14.85</td>\n",
       "      <td>2.0</td>\n",
       "      <td>0.000000</td>\n",
       "      <td>1.0</td>\n",
       "      <td>1321889</td>\n",
       "    </tr>\n",
       "    <tr>\n",
       "      <th>1</th>\n",
       "      <td>0</td>\n",
       "      <td>21.31</td>\n",
       "      <td>9.0</td>\n",
       "      <td>0.000000</td>\n",
       "      <td>1.0</td>\n",
       "      <td>1266892</td>\n",
       "    </tr>\n",
       "    <tr>\n",
       "      <th>2</th>\n",
       "      <td>0</td>\n",
       "      <td>13.72</td>\n",
       "      <td>86.0</td>\n",
       "      <td>-0.278426</td>\n",
       "      <td>0.0</td>\n",
       "      <td>1300321</td>\n",
       "    </tr>\n",
       "    <tr>\n",
       "      <th>3</th>\n",
       "      <td>0</td>\n",
       "      <td>11.31</td>\n",
       "      <td>54.0</td>\n",
       "      <td>-0.076039</td>\n",
       "      <td>0.0</td>\n",
       "      <td>139970</td>\n",
       "    </tr>\n",
       "    <tr>\n",
       "      <th>4</th>\n",
       "      <td>1</td>\n",
       "      <td>14.05</td>\n",
       "      <td>1.0</td>\n",
       "      <td>0.000000</td>\n",
       "      <td>1.0</td>\n",
       "      <td>1266765</td>\n",
       "    </tr>\n",
       "  </tbody>\n",
       "</table>\n",
       "</div>"
      ],
      "text/plain": [
       "   is_OoS  Normal_Selling_Rate  Qty_In_Stock  Discount_Rate  is_diffx  Prod_ID\n",
       "0       1                14.85           2.0       0.000000       1.0  1321889\n",
       "1       0                21.31           9.0       0.000000       1.0  1266892\n",
       "2       0                13.72          86.0      -0.278426       0.0  1300321\n",
       "3       0                11.31          54.0      -0.076039       0.0   139970\n",
       "4       1                14.05           1.0       0.000000       1.0  1266765"
      ]
     },
     "execution_count": 58,
     "metadata": {},
     "output_type": "execute_result"
    }
   ],
   "source": [
    "df_for_pred.head()"
   ]
  },
  {
   "cell_type": "code",
   "execution_count": 59,
   "metadata": {},
   "outputs": [
    {
     "data": {
      "text/plain": [
       "is_OoS\n",
       "0    10145\n",
       "1     1608\n",
       "dtype: int64"
      ]
     },
     "execution_count": 59,
     "metadata": {},
     "output_type": "execute_result"
    }
   ],
   "source": [
    "df_for_pred[['is_OoS']].groupby(['is_OoS']).size()"
   ]
  },
  {
   "cell_type": "code",
   "execution_count": 60,
   "metadata": {},
   "outputs": [
    {
     "name": "stdout",
     "output_type": "stream",
     "text": [
      "<class 'pandas.core.frame.DataFrame'>\n",
      "Int64Index: 11753 entries, 0 to 11752\n",
      "Data columns (total 6 columns):\n",
      "is_OoS                 11753 non-null int64\n",
      "Normal_Selling_Rate    10481 non-null float64\n",
      "Qty_In_Stock           10481 non-null float64\n",
      "Discount_Rate          10481 non-null float64\n",
      "is_diffx               10481 non-null float64\n",
      "Prod_ID                11753 non-null int64\n",
      "dtypes: float64(4), int64(2)\n",
      "memory usage: 642.7 KB\n"
     ]
    }
   ],
   "source": [
    "df_for_pred.info()"
   ]
  },
  {
   "cell_type": "markdown",
   "metadata": {},
   "source": [
    "### Check nulls"
   ]
  },
  {
   "cell_type": "code",
   "execution_count": 61,
   "metadata": {},
   "outputs": [
    {
     "data": {
      "text/plain": [
       "is_OoS                    0\n",
       "Normal_Selling_Rate    1272\n",
       "Qty_In_Stock           1272\n",
       "Discount_Rate          1272\n",
       "is_diffx               1272\n",
       "Prod_ID                   0\n",
       "dtype: int64"
      ]
     },
     "execution_count": 61,
     "metadata": {},
     "output_type": "execute_result"
    }
   ],
   "source": [
    "df_for_pred.isnull().sum()"
   ]
  },
  {
   "cell_type": "code",
   "execution_count": 62,
   "metadata": {},
   "outputs": [
    {
     "data": {
      "text/plain": [
       "['Normal_Selling_Rate', 'Qty_In_Stock', 'Discount_Rate', 'is_diffx']"
      ]
     },
     "execution_count": 62,
     "metadata": {},
     "output_type": "execute_result"
    }
   ],
   "source": [
    "df_null=df_for_pred.columns[df_for_pred.isnull().any()].tolist()\n",
    "df_null"
   ]
  },
  {
   "cell_type": "code",
   "execution_count": 64,
   "metadata": {},
   "outputs": [
    {
     "data": {
      "text/plain": [
       "371"
      ]
     },
     "execution_count": 64,
     "metadata": {},
     "output_type": "execute_result"
    }
   ],
   "source": [
    "for i in df_null:\n",
    "    y=df_for_pred.loc[df_for_pred[i].isnull()]\n",
    "    null_products=y.Prod_ID.unique().tolist()\n",
    "\n",
    "len(null_products)"
   ]
  },
  {
   "cell_type": "markdown",
   "metadata": {},
   "source": [
    "### 371 distinct products has nulls."
   ]
  },
  {
   "cell_type": "code",
   "execution_count": 65,
   "metadata": {},
   "outputs": [
    {
     "data": {
      "text/plain": [
       "3339"
      ]
     },
     "execution_count": 65,
     "metadata": {},
     "output_type": "execute_result"
    }
   ],
   "source": [
    "dfx= df_for_pred[df_for_pred.Prod_ID.isin(null_products)]\n",
    "len(dfx)"
   ]
  },
  {
   "cell_type": "markdown",
   "metadata": {},
   "source": [
    "### These 371 products has 3339 rows in unioned dataframe."
   ]
  },
  {
   "cell_type": "code",
   "execution_count": 66,
   "metadata": {},
   "outputs": [
    {
     "data": {
      "text/plain": [
       "1346"
      ]
     },
     "execution_count": 66,
     "metadata": {},
     "output_type": "execute_result"
    }
   ],
   "source": [
    "dfx.is_OoS.sum()"
   ]
  },
  {
   "cell_type": "markdown",
   "metadata": {},
   "source": [
    "### and OoS rate in these products which contain nulls 1346, so it is the %83 of all OoS rates !"
   ]
  },
  {
   "cell_type": "code",
   "execution_count": 67,
   "metadata": {},
   "outputs": [
    {
     "data": {
      "text/html": [
       "<div>\n",
       "<style scoped>\n",
       "    .dataframe tbody tr th:only-of-type {\n",
       "        vertical-align: middle;\n",
       "    }\n",
       "\n",
       "    .dataframe tbody tr th {\n",
       "        vertical-align: top;\n",
       "    }\n",
       "\n",
       "    .dataframe thead th {\n",
       "        text-align: right;\n",
       "    }\n",
       "</style>\n",
       "<table border=\"1\" class=\"dataframe\">\n",
       "  <thead>\n",
       "    <tr style=\"text-align: right;\">\n",
       "      <th></th>\n",
       "      <th>Order_Date</th>\n",
       "      <th>Deliver_Date</th>\n",
       "      <th>Ordered_Quant</th>\n",
       "      <th>OoS_Quant</th>\n",
       "      <th>Prod_ID</th>\n",
       "      <th>just_order_date</th>\n",
       "      <th>Normal_Selling_Rate</th>\n",
       "      <th>Qty_In_Stock</th>\n",
       "      <th>Discount_Rate</th>\n",
       "      <th>is_diffx</th>\n",
       "      <th>is_OoS</th>\n",
       "    </tr>\n",
       "  </thead>\n",
       "  <tbody>\n",
       "    <tr>\n",
       "      <th>8</th>\n",
       "      <td>2018-09-15 11:44:00.000000</td>\n",
       "      <td>2018-09-15 17:12:00.000000</td>\n",
       "      <td>2</td>\n",
       "      <td>0</td>\n",
       "      <td>1202126</td>\n",
       "      <td>2018-09-15</td>\n",
       "      <td>NaN</td>\n",
       "      <td>NaN</td>\n",
       "      <td>NaN</td>\n",
       "      <td>NaN</td>\n",
       "      <td>1</td>\n",
       "    </tr>\n",
       "    <tr>\n",
       "      <th>980</th>\n",
       "      <td>2018-09-17 15:52:00.000000</td>\n",
       "      <td>2018-09-17 17:35:00.000000</td>\n",
       "      <td>1</td>\n",
       "      <td>0</td>\n",
       "      <td>1202126</td>\n",
       "      <td>2018-09-17</td>\n",
       "      <td>NaN</td>\n",
       "      <td>NaN</td>\n",
       "      <td>NaN</td>\n",
       "      <td>NaN</td>\n",
       "      <td>1</td>\n",
       "    </tr>\n",
       "    <tr>\n",
       "      <th>1600</th>\n",
       "      <td>2018-09-19 11:01:00.000000</td>\n",
       "      <td>2018-09-19 12:17:00.000000</td>\n",
       "      <td>1</td>\n",
       "      <td>0</td>\n",
       "      <td>1202126</td>\n",
       "      <td>2018-09-19</td>\n",
       "      <td>NaN</td>\n",
       "      <td>NaN</td>\n",
       "      <td>NaN</td>\n",
       "      <td>NaN</td>\n",
       "      <td>1</td>\n",
       "    </tr>\n",
       "    <tr>\n",
       "      <th>1716</th>\n",
       "      <td>2018-09-19 13:20:00.000000</td>\n",
       "      <td>2018-09-19 14:33:00.000000</td>\n",
       "      <td>1</td>\n",
       "      <td>0</td>\n",
       "      <td>1202126</td>\n",
       "      <td>2018-09-19</td>\n",
       "      <td>NaN</td>\n",
       "      <td>NaN</td>\n",
       "      <td>NaN</td>\n",
       "      <td>NaN</td>\n",
       "      <td>1</td>\n",
       "    </tr>\n",
       "    <tr>\n",
       "      <th>1902</th>\n",
       "      <td>2018-09-19 17:38:00.000000</td>\n",
       "      <td>2018-09-19 20:28:00.000000</td>\n",
       "      <td>1</td>\n",
       "      <td>0</td>\n",
       "      <td>1202126</td>\n",
       "      <td>2018-09-19</td>\n",
       "      <td>NaN</td>\n",
       "      <td>NaN</td>\n",
       "      <td>NaN</td>\n",
       "      <td>NaN</td>\n",
       "      <td>1</td>\n",
       "    </tr>\n",
       "    <tr>\n",
       "      <th>2135</th>\n",
       "      <td>2018-09-20 14:25:00.000000</td>\n",
       "      <td>2018-09-20 15:44:00.000000</td>\n",
       "      <td>1</td>\n",
       "      <td>0</td>\n",
       "      <td>1202126</td>\n",
       "      <td>2018-09-20</td>\n",
       "      <td>NaN</td>\n",
       "      <td>NaN</td>\n",
       "      <td>NaN</td>\n",
       "      <td>NaN</td>\n",
       "      <td>1</td>\n",
       "    </tr>\n",
       "    <tr>\n",
       "      <th>2247</th>\n",
       "      <td>2018-09-20 22:04:00.000000</td>\n",
       "      <td>2018-09-21 09:44:00.000000</td>\n",
       "      <td>1</td>\n",
       "      <td>0</td>\n",
       "      <td>1202126</td>\n",
       "      <td>2018-09-20</td>\n",
       "      <td>NaN</td>\n",
       "      <td>NaN</td>\n",
       "      <td>NaN</td>\n",
       "      <td>NaN</td>\n",
       "      <td>1</td>\n",
       "    </tr>\n",
       "    <tr>\n",
       "      <th>2884</th>\n",
       "      <td>2018-09-22 14:06:00.000000</td>\n",
       "      <td>2018-09-23 10:08:00.000000</td>\n",
       "      <td>1</td>\n",
       "      <td>0</td>\n",
       "      <td>1202126</td>\n",
       "      <td>2018-09-22</td>\n",
       "      <td>NaN</td>\n",
       "      <td>NaN</td>\n",
       "      <td>NaN</td>\n",
       "      <td>NaN</td>\n",
       "      <td>1</td>\n",
       "    </tr>\n",
       "    <tr>\n",
       "      <th>3190</th>\n",
       "      <td>2018-09-23 02:47:00.000000</td>\n",
       "      <td>2018-09-23 13:10:00.000000</td>\n",
       "      <td>1</td>\n",
       "      <td>0</td>\n",
       "      <td>1202126</td>\n",
       "      <td>2018-09-23</td>\n",
       "      <td>NaN</td>\n",
       "      <td>NaN</td>\n",
       "      <td>NaN</td>\n",
       "      <td>NaN</td>\n",
       "      <td>1</td>\n",
       "    </tr>\n",
       "    <tr>\n",
       "      <th>3581</th>\n",
       "      <td>2018-09-24 17:40:00.000000</td>\n",
       "      <td>2018-09-25 20:24:00.000000</td>\n",
       "      <td>1</td>\n",
       "      <td>0</td>\n",
       "      <td>1202126</td>\n",
       "      <td>2018-09-24</td>\n",
       "      <td>NaN</td>\n",
       "      <td>NaN</td>\n",
       "      <td>NaN</td>\n",
       "      <td>NaN</td>\n",
       "      <td>1</td>\n",
       "    </tr>\n",
       "    <tr>\n",
       "      <th>3936</th>\n",
       "      <td>2018-09-25 17:28:41.201221</td>\n",
       "      <td>2018-09-26 08:35:56.749472</td>\n",
       "      <td>1</td>\n",
       "      <td>0</td>\n",
       "      <td>1202126</td>\n",
       "      <td>2018-09-25</td>\n",
       "      <td>NaN</td>\n",
       "      <td>NaN</td>\n",
       "      <td>NaN</td>\n",
       "      <td>NaN</td>\n",
       "      <td>1</td>\n",
       "    </tr>\n",
       "    <tr>\n",
       "      <th>4317</th>\n",
       "      <td>2018-09-26 18:10:15.513942</td>\n",
       "      <td>2018-09-26 19:35:44.943533</td>\n",
       "      <td>1</td>\n",
       "      <td>0</td>\n",
       "      <td>1202126</td>\n",
       "      <td>2018-09-26</td>\n",
       "      <td>NaN</td>\n",
       "      <td>NaN</td>\n",
       "      <td>NaN</td>\n",
       "      <td>NaN</td>\n",
       "      <td>1</td>\n",
       "    </tr>\n",
       "    <tr>\n",
       "      <th>5028</th>\n",
       "      <td>2018-09-28 17:31:00.438895</td>\n",
       "      <td>2018-09-29 08:53:57.900442</td>\n",
       "      <td>1</td>\n",
       "      <td>0</td>\n",
       "      <td>1202126</td>\n",
       "      <td>2018-09-28</td>\n",
       "      <td>17.49</td>\n",
       "      <td>214.0</td>\n",
       "      <td>0.000000</td>\n",
       "      <td>0.0</td>\n",
       "      <td>0</td>\n",
       "    </tr>\n",
       "    <tr>\n",
       "      <th>5558</th>\n",
       "      <td>2018-09-29 16:34:58.998323</td>\n",
       "      <td>2018-09-30 09:59:54.589189</td>\n",
       "      <td>2</td>\n",
       "      <td>0</td>\n",
       "      <td>1202126</td>\n",
       "      <td>2018-09-29</td>\n",
       "      <td>17.49</td>\n",
       "      <td>144.0</td>\n",
       "      <td>0.000000</td>\n",
       "      <td>0.0</td>\n",
       "      <td>0</td>\n",
       "    </tr>\n",
       "    <tr>\n",
       "      <th>6254</th>\n",
       "      <td>2018-09-30 20:22:56.943067</td>\n",
       "      <td>2018-10-01 11:35:44.709961</td>\n",
       "      <td>1</td>\n",
       "      <td>0</td>\n",
       "      <td>1202126</td>\n",
       "      <td>2018-09-30</td>\n",
       "      <td>17.49</td>\n",
       "      <td>243.0</td>\n",
       "      <td>0.000000</td>\n",
       "      <td>0.0</td>\n",
       "      <td>0</td>\n",
       "    </tr>\n",
       "    <tr>\n",
       "      <th>6659</th>\n",
       "      <td>2018-10-01 17:09:59.968863</td>\n",
       "      <td>2018-10-02 10:26:47.733541</td>\n",
       "      <td>1</td>\n",
       "      <td>1</td>\n",
       "      <td>1202126</td>\n",
       "      <td>2018-10-01</td>\n",
       "      <td>17.49</td>\n",
       "      <td>242.0</td>\n",
       "      <td>0.000000</td>\n",
       "      <td>0.0</td>\n",
       "      <td>0</td>\n",
       "    </tr>\n",
       "    <tr>\n",
       "      <th>7097</th>\n",
       "      <td>2018-10-03 16:54:08.596430</td>\n",
       "      <td>2018-10-03 17:34:34.545989</td>\n",
       "      <td>1</td>\n",
       "      <td>0</td>\n",
       "      <td>1202126</td>\n",
       "      <td>2018-10-03</td>\n",
       "      <td>17.49</td>\n",
       "      <td>120.0</td>\n",
       "      <td>0.000000</td>\n",
       "      <td>0.0</td>\n",
       "      <td>0</td>\n",
       "    </tr>\n",
       "    <tr>\n",
       "      <th>7494</th>\n",
       "      <td>2018-10-04 13:58:05.649761</td>\n",
       "      <td>2018-10-04 14:49:47.996866</td>\n",
       "      <td>2</td>\n",
       "      <td>0</td>\n",
       "      <td>1202126</td>\n",
       "      <td>2018-10-04</td>\n",
       "      <td>17.49</td>\n",
       "      <td>69.0</td>\n",
       "      <td>-0.485992</td>\n",
       "      <td>0.0</td>\n",
       "      <td>0</td>\n",
       "    </tr>\n",
       "    <tr>\n",
       "      <th>7767</th>\n",
       "      <td>2018-10-05 15:57:03.414790</td>\n",
       "      <td>2018-10-05 16:29:38.154509</td>\n",
       "      <td>1</td>\n",
       "      <td>0</td>\n",
       "      <td>1202126</td>\n",
       "      <td>2018-10-05</td>\n",
       "      <td>17.49</td>\n",
       "      <td>101.0</td>\n",
       "      <td>-0.485992</td>\n",
       "      <td>0.0</td>\n",
       "      <td>0</td>\n",
       "    </tr>\n",
       "    <tr>\n",
       "      <th>7946</th>\n",
       "      <td>2018-10-05 21:04:03.409129</td>\n",
       "      <td>2018-10-06 10:45:28.939903</td>\n",
       "      <td>1</td>\n",
       "      <td>0</td>\n",
       "      <td>1202126</td>\n",
       "      <td>2018-10-05</td>\n",
       "      <td>17.49</td>\n",
       "      <td>101.0</td>\n",
       "      <td>-0.485992</td>\n",
       "      <td>0.0</td>\n",
       "      <td>0</td>\n",
       "    </tr>\n",
       "    <tr>\n",
       "      <th>8289</th>\n",
       "      <td>2018-10-06 17:37:07.466548</td>\n",
       "      <td>2018-10-07 14:23:26.945130</td>\n",
       "      <td>1</td>\n",
       "      <td>0</td>\n",
       "      <td>1202126</td>\n",
       "      <td>2018-10-06</td>\n",
       "      <td>17.49</td>\n",
       "      <td>113.0</td>\n",
       "      <td>-0.485992</td>\n",
       "      <td>0.0</td>\n",
       "      <td>0</td>\n",
       "    </tr>\n",
       "    <tr>\n",
       "      <th>8750</th>\n",
       "      <td>2018-10-08 13:18:28.928069</td>\n",
       "      <td>2018-10-08 15:50:10.679509</td>\n",
       "      <td>1</td>\n",
       "      <td>0</td>\n",
       "      <td>1202126</td>\n",
       "      <td>2018-10-08</td>\n",
       "      <td>17.49</td>\n",
       "      <td>72.0</td>\n",
       "      <td>-0.485992</td>\n",
       "      <td>0.0</td>\n",
       "      <td>0</td>\n",
       "    </tr>\n",
       "    <tr>\n",
       "      <th>9546</th>\n",
       "      <td>2018-10-10 16:02:49.162056</td>\n",
       "      <td>2018-10-10 19:05:09.202575</td>\n",
       "      <td>1</td>\n",
       "      <td>0</td>\n",
       "      <td>1202126</td>\n",
       "      <td>2018-10-10</td>\n",
       "      <td>17.49</td>\n",
       "      <td>76.0</td>\n",
       "      <td>-0.485992</td>\n",
       "      <td>0.0</td>\n",
       "      <td>0</td>\n",
       "    </tr>\n",
       "    <tr>\n",
       "      <th>9630</th>\n",
       "      <td>2018-10-10 20:10:19.148136</td>\n",
       "      <td>2018-10-11 13:30:21.747940</td>\n",
       "      <td>1</td>\n",
       "      <td>0</td>\n",
       "      <td>1202126</td>\n",
       "      <td>2018-10-10</td>\n",
       "      <td>17.49</td>\n",
       "      <td>76.0</td>\n",
       "      <td>-0.485992</td>\n",
       "      <td>0.0</td>\n",
       "      <td>0</td>\n",
       "    </tr>\n",
       "    <tr>\n",
       "      <th>10820</th>\n",
       "      <td>2018-10-14 01:21:37.736000</td>\n",
       "      <td>2018-10-17 19:38:51.681045</td>\n",
       "      <td>1</td>\n",
       "      <td>0</td>\n",
       "      <td>1202126</td>\n",
       "      <td>2018-10-14</td>\n",
       "      <td>17.49</td>\n",
       "      <td>52.0</td>\n",
       "      <td>0.000000</td>\n",
       "      <td>0.0</td>\n",
       "      <td>0</td>\n",
       "    </tr>\n",
       "    <tr>\n",
       "      <th>11137</th>\n",
       "      <td>2018-10-14 14:00:57.362938</td>\n",
       "      <td>2018-10-14 14:46:41.410537</td>\n",
       "      <td>1</td>\n",
       "      <td>0</td>\n",
       "      <td>1202126</td>\n",
       "      <td>2018-10-14</td>\n",
       "      <td>17.49</td>\n",
       "      <td>52.0</td>\n",
       "      <td>0.000000</td>\n",
       "      <td>0.0</td>\n",
       "      <td>0</td>\n",
       "    </tr>\n",
       "    <tr>\n",
       "      <th>11259</th>\n",
       "      <td>2018-10-14 17:01:35.448381</td>\n",
       "      <td>2018-10-14 18:06:52.175342</td>\n",
       "      <td>2</td>\n",
       "      <td>0</td>\n",
       "      <td>1202126</td>\n",
       "      <td>2018-10-14</td>\n",
       "      <td>17.49</td>\n",
       "      <td>52.0</td>\n",
       "      <td>0.000000</td>\n",
       "      <td>0.0</td>\n",
       "      <td>0</td>\n",
       "    </tr>\n",
       "    <tr>\n",
       "      <th>11398</th>\n",
       "      <td>2018-10-15 10:53:34.291055</td>\n",
       "      <td>2018-10-15 12:30:32.671750</td>\n",
       "      <td>1</td>\n",
       "      <td>0</td>\n",
       "      <td>1202126</td>\n",
       "      <td>2018-10-15</td>\n",
       "      <td>17.49</td>\n",
       "      <td>64.0</td>\n",
       "      <td>0.000000</td>\n",
       "      <td>0.0</td>\n",
       "      <td>0</td>\n",
       "    </tr>\n",
       "    <tr>\n",
       "      <th>11680</th>\n",
       "      <td>2018-10-16 07:04:19.846723</td>\n",
       "      <td>2018-10-16 12:03:42.790785</td>\n",
       "      <td>1</td>\n",
       "      <td>0</td>\n",
       "      <td>1202126</td>\n",
       "      <td>2018-10-16</td>\n",
       "      <td>NaN</td>\n",
       "      <td>NaN</td>\n",
       "      <td>NaN</td>\n",
       "      <td>NaN</td>\n",
       "      <td>1</td>\n",
       "    </tr>\n",
       "  </tbody>\n",
       "</table>\n",
       "</div>"
      ],
      "text/plain": [
       "                      Order_Date               Deliver_Date  Ordered_Quant  \\\n",
       "8     2018-09-15 11:44:00.000000 2018-09-15 17:12:00.000000              2   \n",
       "980   2018-09-17 15:52:00.000000 2018-09-17 17:35:00.000000              1   \n",
       "1600  2018-09-19 11:01:00.000000 2018-09-19 12:17:00.000000              1   \n",
       "1716  2018-09-19 13:20:00.000000 2018-09-19 14:33:00.000000              1   \n",
       "1902  2018-09-19 17:38:00.000000 2018-09-19 20:28:00.000000              1   \n",
       "2135  2018-09-20 14:25:00.000000 2018-09-20 15:44:00.000000              1   \n",
       "2247  2018-09-20 22:04:00.000000 2018-09-21 09:44:00.000000              1   \n",
       "2884  2018-09-22 14:06:00.000000 2018-09-23 10:08:00.000000              1   \n",
       "3190  2018-09-23 02:47:00.000000 2018-09-23 13:10:00.000000              1   \n",
       "3581  2018-09-24 17:40:00.000000 2018-09-25 20:24:00.000000              1   \n",
       "3936  2018-09-25 17:28:41.201221 2018-09-26 08:35:56.749472              1   \n",
       "4317  2018-09-26 18:10:15.513942 2018-09-26 19:35:44.943533              1   \n",
       "5028  2018-09-28 17:31:00.438895 2018-09-29 08:53:57.900442              1   \n",
       "5558  2018-09-29 16:34:58.998323 2018-09-30 09:59:54.589189              2   \n",
       "6254  2018-09-30 20:22:56.943067 2018-10-01 11:35:44.709961              1   \n",
       "6659  2018-10-01 17:09:59.968863 2018-10-02 10:26:47.733541              1   \n",
       "7097  2018-10-03 16:54:08.596430 2018-10-03 17:34:34.545989              1   \n",
       "7494  2018-10-04 13:58:05.649761 2018-10-04 14:49:47.996866              2   \n",
       "7767  2018-10-05 15:57:03.414790 2018-10-05 16:29:38.154509              1   \n",
       "7946  2018-10-05 21:04:03.409129 2018-10-06 10:45:28.939903              1   \n",
       "8289  2018-10-06 17:37:07.466548 2018-10-07 14:23:26.945130              1   \n",
       "8750  2018-10-08 13:18:28.928069 2018-10-08 15:50:10.679509              1   \n",
       "9546  2018-10-10 16:02:49.162056 2018-10-10 19:05:09.202575              1   \n",
       "9630  2018-10-10 20:10:19.148136 2018-10-11 13:30:21.747940              1   \n",
       "10820 2018-10-14 01:21:37.736000 2018-10-17 19:38:51.681045              1   \n",
       "11137 2018-10-14 14:00:57.362938 2018-10-14 14:46:41.410537              1   \n",
       "11259 2018-10-14 17:01:35.448381 2018-10-14 18:06:52.175342              2   \n",
       "11398 2018-10-15 10:53:34.291055 2018-10-15 12:30:32.671750              1   \n",
       "11680 2018-10-16 07:04:19.846723 2018-10-16 12:03:42.790785              1   \n",
       "\n",
       "       OoS_Quant  Prod_ID just_order_date  Normal_Selling_Rate  Qty_In_Stock  \\\n",
       "8              0  1202126      2018-09-15                  NaN           NaN   \n",
       "980            0  1202126      2018-09-17                  NaN           NaN   \n",
       "1600           0  1202126      2018-09-19                  NaN           NaN   \n",
       "1716           0  1202126      2018-09-19                  NaN           NaN   \n",
       "1902           0  1202126      2018-09-19                  NaN           NaN   \n",
       "2135           0  1202126      2018-09-20                  NaN           NaN   \n",
       "2247           0  1202126      2018-09-20                  NaN           NaN   \n",
       "2884           0  1202126      2018-09-22                  NaN           NaN   \n",
       "3190           0  1202126      2018-09-23                  NaN           NaN   \n",
       "3581           0  1202126      2018-09-24                  NaN           NaN   \n",
       "3936           0  1202126      2018-09-25                  NaN           NaN   \n",
       "4317           0  1202126      2018-09-26                  NaN           NaN   \n",
       "5028           0  1202126      2018-09-28                17.49         214.0   \n",
       "5558           0  1202126      2018-09-29                17.49         144.0   \n",
       "6254           0  1202126      2018-09-30                17.49         243.0   \n",
       "6659           1  1202126      2018-10-01                17.49         242.0   \n",
       "7097           0  1202126      2018-10-03                17.49         120.0   \n",
       "7494           0  1202126      2018-10-04                17.49          69.0   \n",
       "7767           0  1202126      2018-10-05                17.49         101.0   \n",
       "7946           0  1202126      2018-10-05                17.49         101.0   \n",
       "8289           0  1202126      2018-10-06                17.49         113.0   \n",
       "8750           0  1202126      2018-10-08                17.49          72.0   \n",
       "9546           0  1202126      2018-10-10                17.49          76.0   \n",
       "9630           0  1202126      2018-10-10                17.49          76.0   \n",
       "10820          0  1202126      2018-10-14                17.49          52.0   \n",
       "11137          0  1202126      2018-10-14                17.49          52.0   \n",
       "11259          0  1202126      2018-10-14                17.49          52.0   \n",
       "11398          0  1202126      2018-10-15                17.49          64.0   \n",
       "11680          0  1202126      2018-10-16                  NaN           NaN   \n",
       "\n",
       "       Discount_Rate  is_diffx  is_OoS  \n",
       "8                NaN       NaN       1  \n",
       "980              NaN       NaN       1  \n",
       "1600             NaN       NaN       1  \n",
       "1716             NaN       NaN       1  \n",
       "1902             NaN       NaN       1  \n",
       "2135             NaN       NaN       1  \n",
       "2247             NaN       NaN       1  \n",
       "2884             NaN       NaN       1  \n",
       "3190             NaN       NaN       1  \n",
       "3581             NaN       NaN       1  \n",
       "3936             NaN       NaN       1  \n",
       "4317             NaN       NaN       1  \n",
       "5028        0.000000       0.0       0  \n",
       "5558        0.000000       0.0       0  \n",
       "6254        0.000000       0.0       0  \n",
       "6659        0.000000       0.0       0  \n",
       "7097        0.000000       0.0       0  \n",
       "7494       -0.485992       0.0       0  \n",
       "7767       -0.485992       0.0       0  \n",
       "7946       -0.485992       0.0       0  \n",
       "8289       -0.485992       0.0       0  \n",
       "8750       -0.485992       0.0       0  \n",
       "9546       -0.485992       0.0       0  \n",
       "9630       -0.485992       0.0       0  \n",
       "10820       0.000000       0.0       0  \n",
       "11137       0.000000       0.0       0  \n",
       "11259       0.000000       0.0       0  \n",
       "11398       0.000000       0.0       0  \n",
       "11680            NaN       NaN       1  "
      ]
     },
     "execution_count": 67,
     "metadata": {},
     "output_type": "execute_result"
    }
   ],
   "source": [
    "#lets check it in also sales file\n",
    "df_unioned_1202126 = df_unioned[df_unioned.Prod_ID == 1202126]\n",
    "\n",
    "df_unioned_1202126\n"
   ]
  },
  {
   "cell_type": "markdown",
   "metadata": {},
   "source": [
    "### But here is the problem is the null values is related to time based occurences.\n",
    "### In backward or forward manner,the null values can be predicted using time series models.\n",
    "### But it will lead only to reverse current is_OoS values.\n",
    "### Instead of it, lets discard null values and try to model them."
   ]
  },
  {
   "cell_type": "code",
   "execution_count": 68,
   "metadata": {},
   "outputs": [],
   "source": [
    "#get the same data without nulls by inner join\n",
    "df_unioned2=pd.merge(df_sales, df_main,  how='inner', left_on=['just_order_date','Prod_ID'], right_on = ['Date','Prod_ID'])"
   ]
  },
  {
   "cell_type": "code",
   "execution_count": 69,
   "metadata": {},
   "outputs": [
    {
     "data": {
      "text/html": [
       "<div>\n",
       "<style scoped>\n",
       "    .dataframe tbody tr th:only-of-type {\n",
       "        vertical-align: middle;\n",
       "    }\n",
       "\n",
       "    .dataframe tbody tr th {\n",
       "        vertical-align: top;\n",
       "    }\n",
       "\n",
       "    .dataframe thead th {\n",
       "        text-align: right;\n",
       "    }\n",
       "</style>\n",
       "<table border=\"1\" class=\"dataframe\">\n",
       "  <thead>\n",
       "    <tr style=\"text-align: right;\">\n",
       "      <th></th>\n",
       "      <th>Order_Date</th>\n",
       "      <th>Deliver_Date</th>\n",
       "      <th>Ordered_Quant</th>\n",
       "      <th>OoS_Quant</th>\n",
       "      <th>Prod_ID</th>\n",
       "      <th>just_order_date</th>\n",
       "      <th>Normal_Selling_Rate</th>\n",
       "      <th>Qty_In_Stock</th>\n",
       "      <th>Discount_Rate</th>\n",
       "      <th>is_diffx</th>\n",
       "    </tr>\n",
       "  </thead>\n",
       "  <tbody>\n",
       "    <tr>\n",
       "      <th>0</th>\n",
       "      <td>2018-09-15 11:44:00</td>\n",
       "      <td>2018-09-15 17:12:00</td>\n",
       "      <td>2</td>\n",
       "      <td>2</td>\n",
       "      <td>1321889</td>\n",
       "      <td>2018-09-15</td>\n",
       "      <td>14.85</td>\n",
       "      <td>2</td>\n",
       "      <td>0.000000</td>\n",
       "      <td>1</td>\n",
       "    </tr>\n",
       "    <tr>\n",
       "      <th>1</th>\n",
       "      <td>2018-09-15 11:44:00</td>\n",
       "      <td>2018-09-15 17:12:00</td>\n",
       "      <td>1</td>\n",
       "      <td>0</td>\n",
       "      <td>1266892</td>\n",
       "      <td>2018-09-15</td>\n",
       "      <td>21.31</td>\n",
       "      <td>9</td>\n",
       "      <td>0.000000</td>\n",
       "      <td>1</td>\n",
       "    </tr>\n",
       "    <tr>\n",
       "      <th>2</th>\n",
       "      <td>2018-09-15 11:44:00</td>\n",
       "      <td>2018-09-15 17:12:00</td>\n",
       "      <td>0</td>\n",
       "      <td>0</td>\n",
       "      <td>1300321</td>\n",
       "      <td>2018-09-15</td>\n",
       "      <td>13.72</td>\n",
       "      <td>86</td>\n",
       "      <td>-0.278426</td>\n",
       "      <td>0</td>\n",
       "    </tr>\n",
       "    <tr>\n",
       "      <th>3</th>\n",
       "      <td>2018-09-15 11:44:00</td>\n",
       "      <td>2018-09-15 17:12:00</td>\n",
       "      <td>1</td>\n",
       "      <td>0</td>\n",
       "      <td>139970</td>\n",
       "      <td>2018-09-15</td>\n",
       "      <td>11.31</td>\n",
       "      <td>54</td>\n",
       "      <td>-0.076039</td>\n",
       "      <td>0</td>\n",
       "    </tr>\n",
       "    <tr>\n",
       "      <th>4</th>\n",
       "      <td>2018-09-15 11:44:00</td>\n",
       "      <td>2018-09-15 17:12:00</td>\n",
       "      <td>2</td>\n",
       "      <td>2</td>\n",
       "      <td>1266765</td>\n",
       "      <td>2018-09-15</td>\n",
       "      <td>14.05</td>\n",
       "      <td>1</td>\n",
       "      <td>0.000000</td>\n",
       "      <td>1</td>\n",
       "    </tr>\n",
       "  </tbody>\n",
       "</table>\n",
       "</div>"
      ],
      "text/plain": [
       "           Order_Date        Deliver_Date  Ordered_Quant  OoS_Quant  Prod_ID  \\\n",
       "0 2018-09-15 11:44:00 2018-09-15 17:12:00              2          2  1321889   \n",
       "1 2018-09-15 11:44:00 2018-09-15 17:12:00              1          0  1266892   \n",
       "2 2018-09-15 11:44:00 2018-09-15 17:12:00              0          0  1300321   \n",
       "3 2018-09-15 11:44:00 2018-09-15 17:12:00              1          0   139970   \n",
       "4 2018-09-15 11:44:00 2018-09-15 17:12:00              2          2  1266765   \n",
       "\n",
       "  just_order_date  Normal_Selling_Rate  Qty_In_Stock  Discount_Rate  is_diffx  \n",
       "0      2018-09-15                14.85             2       0.000000         1  \n",
       "1      2018-09-15                21.31             9       0.000000         1  \n",
       "2      2018-09-15                13.72            86      -0.278426         0  \n",
       "3      2018-09-15                11.31            54      -0.076039         0  \n",
       "4      2018-09-15                14.05             1       0.000000         1  "
      ]
     },
     "execution_count": 69,
     "metadata": {},
     "output_type": "execute_result"
    }
   ],
   "source": [
    "df_unioned2.head()"
   ]
  },
  {
   "cell_type": "code",
   "execution_count": 70,
   "metadata": {},
   "outputs": [],
   "source": [
    "df_unioned2['is_OoS'] = df_unioned2.apply(is_OOS, axis=1)"
   ]
  },
  {
   "cell_type": "code",
   "execution_count": 71,
   "metadata": {},
   "outputs": [
    {
     "data": {
      "text/plain": [
       "is_OoS\n",
       "0    10145\n",
       "1      336\n",
       "dtype: int64"
      ]
     },
     "execution_count": 71,
     "metadata": {},
     "output_type": "execute_result"
    }
   ],
   "source": [
    "df_unioned2[['is_OoS']].groupby(['is_OoS']).size()"
   ]
  },
  {
   "cell_type": "markdown",
   "metadata": {},
   "source": [
    "## OoS rates are so low now."
   ]
  },
  {
   "cell_type": "code",
   "execution_count": 72,
   "metadata": {},
   "outputs": [],
   "source": [
    "df_for_pred2=df_unioned2[['is_OoS','Normal_Selling_Rate','Qty_In_Stock','Discount_Rate','is_diffx']]"
   ]
  },
  {
   "cell_type": "code",
   "execution_count": 73,
   "metadata": {},
   "outputs": [
    {
     "data": {
      "text/html": [
       "<div>\n",
       "<style scoped>\n",
       "    .dataframe tbody tr th:only-of-type {\n",
       "        vertical-align: middle;\n",
       "    }\n",
       "\n",
       "    .dataframe tbody tr th {\n",
       "        vertical-align: top;\n",
       "    }\n",
       "\n",
       "    .dataframe thead th {\n",
       "        text-align: right;\n",
       "    }\n",
       "</style>\n",
       "<table border=\"1\" class=\"dataframe\">\n",
       "  <thead>\n",
       "    <tr style=\"text-align: right;\">\n",
       "      <th></th>\n",
       "      <th>is_OoS</th>\n",
       "      <th>Normal_Selling_Rate</th>\n",
       "      <th>Qty_In_Stock</th>\n",
       "      <th>Discount_Rate</th>\n",
       "      <th>is_diffx</th>\n",
       "    </tr>\n",
       "  </thead>\n",
       "  <tbody>\n",
       "    <tr>\n",
       "      <th>0</th>\n",
       "      <td>1</td>\n",
       "      <td>14.85</td>\n",
       "      <td>2</td>\n",
       "      <td>0.000000</td>\n",
       "      <td>1</td>\n",
       "    </tr>\n",
       "    <tr>\n",
       "      <th>1</th>\n",
       "      <td>0</td>\n",
       "      <td>21.31</td>\n",
       "      <td>9</td>\n",
       "      <td>0.000000</td>\n",
       "      <td>1</td>\n",
       "    </tr>\n",
       "    <tr>\n",
       "      <th>2</th>\n",
       "      <td>0</td>\n",
       "      <td>13.72</td>\n",
       "      <td>86</td>\n",
       "      <td>-0.278426</td>\n",
       "      <td>0</td>\n",
       "    </tr>\n",
       "    <tr>\n",
       "      <th>3</th>\n",
       "      <td>0</td>\n",
       "      <td>11.31</td>\n",
       "      <td>54</td>\n",
       "      <td>-0.076039</td>\n",
       "      <td>0</td>\n",
       "    </tr>\n",
       "    <tr>\n",
       "      <th>4</th>\n",
       "      <td>1</td>\n",
       "      <td>14.05</td>\n",
       "      <td>1</td>\n",
       "      <td>0.000000</td>\n",
       "      <td>1</td>\n",
       "    </tr>\n",
       "  </tbody>\n",
       "</table>\n",
       "</div>"
      ],
      "text/plain": [
       "   is_OoS  Normal_Selling_Rate  Qty_In_Stock  Discount_Rate  is_diffx\n",
       "0       1                14.85             2       0.000000         1\n",
       "1       0                21.31             9       0.000000         1\n",
       "2       0                13.72            86      -0.278426         0\n",
       "3       0                11.31            54      -0.076039         0\n",
       "4       1                14.05             1       0.000000         1"
      ]
     },
     "execution_count": 73,
     "metadata": {},
     "output_type": "execute_result"
    }
   ],
   "source": [
    "df_for_pred2.head()"
   ]
  },
  {
   "cell_type": "code",
   "execution_count": 74,
   "metadata": {},
   "outputs": [
    {
     "data": {
      "text/plain": [
       "is_OoS                 0\n",
       "Normal_Selling_Rate    0\n",
       "Qty_In_Stock           0\n",
       "Discount_Rate          0\n",
       "is_diffx               0\n",
       "dtype: int64"
      ]
     },
     "execution_count": 74,
     "metadata": {},
     "output_type": "execute_result"
    }
   ],
   "source": [
    "df_for_pred2.isnull().sum()"
   ]
  },
  {
   "cell_type": "code",
   "execution_count": 76,
   "metadata": {},
   "outputs": [],
   "source": [
    "df_for_pred2.iloc[:,0] = df_for_pred2.loc[:,\"is_OoS\"].astype(\"category\")"
   ]
  },
  {
   "cell_type": "code",
   "execution_count": 77,
   "metadata": {},
   "outputs": [
    {
     "name": "stdout",
     "output_type": "stream",
     "text": [
      "<class 'pandas.core.frame.DataFrame'>\n",
      "Int64Index: 10481 entries, 0 to 10480\n",
      "Data columns (total 5 columns):\n",
      "is_OoS                 10481 non-null category\n",
      "Normal_Selling_Rate    10481 non-null float64\n",
      "Qty_In_Stock           10481 non-null int64\n",
      "Discount_Rate          10481 non-null float64\n",
      "is_diffx               10481 non-null int64\n",
      "dtypes: category(1), float64(2), int64(2)\n",
      "memory usage: 419.7 KB\n"
     ]
    }
   ],
   "source": [
    "df_for_pred2.info()"
   ]
  },
  {
   "cell_type": "markdown",
   "metadata": {},
   "source": [
    "### Because of low OoS rates, I will use SMOTE algorithm to make data balanced."
   ]
  },
  {
   "cell_type": "code",
   "execution_count": 78,
   "metadata": {},
   "outputs": [],
   "source": [
    "X = df_for_pred2.iloc[:,1:]\n",
    "y = df_for_pred2.iloc[:,0]"
   ]
  },
  {
   "cell_type": "code",
   "execution_count": 80,
   "metadata": {},
   "outputs": [
    {
     "name": "stdout",
     "output_type": "stream",
     "text": [
      "length of oversampled data is  14174\n",
      "Number of In Stock in oversampled data 7087\n",
      "Number of Out Of Stock 7087\n",
      "Proportion of In Stock data in oversampled data is  0.5\n",
      "Proportion of Out of Stock data in oversampled data is  0.5\n"
     ]
    }
   ],
   "source": [
    "os = SMOTE(random_state=0)\n",
    "X_train, X_test, y_train, y_test = train_test_split(X, y, test_size=0.3, random_state=0)\n",
    "columns = X_train.columns\n",
    "os_data_X,os_data_y=os.fit_sample(X_train, y_train)\n",
    "os_data_X = pd.DataFrame(data=os_data_X,columns=columns )\n",
    "os_data_y= pd.DataFrame(data=os_data_y,columns=['is_OoS'])\n",
    "# we can Check the numbers of our data\n",
    "print(\"length of oversampled data is \",len(os_data_X))\n",
    "print(\"Number of In Stock in oversampled data\",len(os_data_y[os_data_y['is_OoS']==0]))\n",
    "print(\"Number of Out Of Stock\",len(os_data_y[os_data_y['is_OoS']==1]))\n",
    "print(\"Proportion of In Stock data in oversampled data is \",len(os_data_y[os_data_y['is_OoS']==0])/len(os_data_X))\n",
    "print(\"Proportion of Out of Stock data in oversampled data is \",len(os_data_y[os_data_y['is_OoS']==1])/len(os_data_X))"
   ]
  },
  {
   "cell_type": "code",
   "execution_count": 81,
   "metadata": {},
   "outputs": [],
   "source": [
    "X=os_data_X\n",
    "y=os_data_y['is_OoS']"
   ]
  },
  {
   "cell_type": "markdown",
   "metadata": {},
   "source": [
    "# now perform logistic regression"
   ]
  },
  {
   "cell_type": "code",
   "execution_count": 83,
   "metadata": {},
   "outputs": [
    {
     "name": "stderr",
     "output_type": "stream",
     "text": [
      "C:\\Users\\Hincal\\Anaconda3\\lib\\site-packages\\sklearn\\linear_model\\logistic.py:433: FutureWarning: Default solver will be changed to 'lbfgs' in 0.22. Specify a solver to silence this warning.\n",
      "  FutureWarning)\n"
     ]
    },
    {
     "data": {
      "text/plain": [
       "LogisticRegression(C=1.0, class_weight=None, dual=False, fit_intercept=True,\n",
       "          intercept_scaling=1, max_iter=100, multi_class='warn',\n",
       "          n_jobs=None, penalty='l2', random_state=None, solver='warn',\n",
       "          tol=0.0001, verbose=0, warm_start=False)"
      ]
     },
     "execution_count": 83,
     "metadata": {},
     "output_type": "execute_result"
    }
   ],
   "source": [
    "from sklearn.linear_model import LogisticRegression\n",
    "from sklearn import metrics\n",
    "X_train, X_test, y_train, y_test = train_test_split(X, y, test_size=0.3, random_state=0)\n",
    "logreg = LogisticRegression()\n",
    "logreg.fit(X_train, y_train)"
   ]
  },
  {
   "cell_type": "code",
   "execution_count": 84,
   "metadata": {},
   "outputs": [
    {
     "name": "stdout",
     "output_type": "stream",
     "text": [
      "Accuracy of logistic regression classifier on test set: 0.98\n"
     ]
    }
   ],
   "source": [
    "y_pred = logreg.predict(X_test)\n",
    "print('Accuracy of logistic regression classifier on test set: {:.2f}'.format(logreg.score(X_test, y_test)))"
   ]
  },
  {
   "cell_type": "code",
   "execution_count": 85,
   "metadata": {},
   "outputs": [
    {
     "name": "stdout",
     "output_type": "stream",
     "text": [
      "[[2033   79]\n",
      " [  15 2126]]\n"
     ]
    }
   ],
   "source": [
    "confusion_matrixx = confusion_matrix(y_test, y_pred)\n",
    "print(confusion_matrixx)"
   ]
  },
  {
   "cell_type": "code",
   "execution_count": 86,
   "metadata": {},
   "outputs": [
    {
     "name": "stdout",
     "output_type": "stream",
     "text": [
      "              precision    recall  f1-score   support\n",
      "\n",
      "           0       0.99      0.96      0.98      2112\n",
      "           1       0.96      0.99      0.98      2141\n",
      "\n",
      "   micro avg       0.98      0.98      0.98      4253\n",
      "   macro avg       0.98      0.98      0.98      4253\n",
      "weighted avg       0.98      0.98      0.98      4253\n",
      "\n"
     ]
    }
   ],
   "source": [
    "print(classification_report(y_test, y_pred))"
   ]
  },
  {
   "cell_type": "markdown",
   "metadata": {},
   "source": [
    "# lets try also random forest"
   ]
  },
  {
   "cell_type": "code",
   "execution_count": 87,
   "metadata": {},
   "outputs": [],
   "source": [
    "clf = RandomForestClassifier(n_estimators=20, max_depth=5,\n",
    "                             random_state=0)\n",
    "clf.fit(X_train, y_train)  \n",
    "y_pred2 = clf.predict(X_test)"
   ]
  },
  {
   "cell_type": "code",
   "execution_count": 88,
   "metadata": {},
   "outputs": [
    {
     "name": "stdout",
     "output_type": "stream",
     "text": [
      "Mean Absolute Error: 0.01598871384904773\n",
      "Mean Squared Error: 0.01598871384904773\n",
      "Root Mean Squared Error: 0.12644648610794895\n"
     ]
    }
   ],
   "source": [
    "print('Mean Absolute Error:', metrics.mean_absolute_error(y_test, y_pred2))  \n",
    "print('Mean Squared Error:', metrics.mean_squared_error(y_test, y_pred2))  \n",
    "print('Root Mean Squared Error:', np.sqrt(metrics.mean_squared_error(y_test, y_pred2))) "
   ]
  },
  {
   "cell_type": "code",
   "execution_count": 89,
   "metadata": {},
   "outputs": [
    {
     "name": "stdout",
     "output_type": "stream",
     "text": [
      "[[2068   44]\n",
      " [  24 2117]]\n",
      "              precision    recall  f1-score   support\n",
      "\n",
      "           0       0.99      0.98      0.98      2112\n",
      "           1       0.98      0.99      0.98      2141\n",
      "\n",
      "   micro avg       0.98      0.98      0.98      4253\n",
      "   macro avg       0.98      0.98      0.98      4253\n",
      "weighted avg       0.98      0.98      0.98      4253\n",
      "\n",
      "0.9840112861509522\n",
      " Prediciton:  0.9840112861509522\n"
     ]
    }
   ],
   "source": [
    "print(confusion_matrix(y_test,y_pred2))  \n",
    "print(classification_report(y_test,y_pred2))  \n",
    "print(accuracy_score(y_test, y_pred2))  \n",
    "print(\" Prediciton: \",accuracy_score(y_pred2,y_test))"
   ]
  },
  {
   "cell_type": "markdown",
   "metadata": {},
   "source": [
    "### As seen from logistic Regression and Random Forest models, the results are good. Of course there are a lot of things different can be done but for this time it seems enough to predict unseen products on main data."
   ]
  },
  {
   "cell_type": "markdown",
   "metadata": {},
   "source": [
    "### LETS TURN TO MAIN DATA WHICH WANTED TO BE PREDICTED AS OoS WITHOUT PRODUCTS WHICH ARE ALREADY IN SALES DATA."
   ]
  },
  {
   "cell_type": "code",
   "execution_count": 90,
   "metadata": {},
   "outputs": [],
   "source": [
    "in_sales_products=df_unioned2.Prod_ID.unique().tolist()"
   ]
  },
  {
   "cell_type": "code",
   "execution_count": 91,
   "metadata": {},
   "outputs": [],
   "source": [
    "df_other= df_main[~df_main.Prod_ID.isin(in_sales_products)]"
   ]
  },
  {
   "cell_type": "code",
   "execution_count": 92,
   "metadata": {},
   "outputs": [
    {
     "data": {
      "text/html": [
       "<div>\n",
       "<style scoped>\n",
       "    .dataframe tbody tr th:only-of-type {\n",
       "        vertical-align: middle;\n",
       "    }\n",
       "\n",
       "    .dataframe tbody tr th {\n",
       "        vertical-align: top;\n",
       "    }\n",
       "\n",
       "    .dataframe thead th {\n",
       "        text-align: right;\n",
       "    }\n",
       "</style>\n",
       "<table border=\"1\" class=\"dataframe\">\n",
       "  <thead>\n",
       "    <tr style=\"text-align: right;\">\n",
       "      <th></th>\n",
       "      <th>Prod_ID</th>\n",
       "      <th>Normal_Selling_Rate</th>\n",
       "      <th>Qty_In_Stock</th>\n",
       "      <th>Discount_Rate</th>\n",
       "      <th>is_diffx</th>\n",
       "    </tr>\n",
       "    <tr>\n",
       "      <th>Date</th>\n",
       "      <th></th>\n",
       "      <th></th>\n",
       "      <th></th>\n",
       "      <th></th>\n",
       "      <th></th>\n",
       "    </tr>\n",
       "  </thead>\n",
       "  <tbody>\n",
       "    <tr>\n",
       "      <th>2018-09-15</th>\n",
       "      <td>1165247</td>\n",
       "      <td>7.92</td>\n",
       "      <td>8</td>\n",
       "      <td>-0.053030</td>\n",
       "      <td>0</td>\n",
       "    </tr>\n",
       "    <tr>\n",
       "      <th>2018-09-15</th>\n",
       "      <td>141469</td>\n",
       "      <td>32.50</td>\n",
       "      <td>16</td>\n",
       "      <td>0.000000</td>\n",
       "      <td>1</td>\n",
       "    </tr>\n",
       "    <tr>\n",
       "      <th>2018-09-15</th>\n",
       "      <td>196467</td>\n",
       "      <td>8.39</td>\n",
       "      <td>0</td>\n",
       "      <td>0.000000</td>\n",
       "      <td>1</td>\n",
       "    </tr>\n",
       "    <tr>\n",
       "      <th>2018-09-15</th>\n",
       "      <td>196060</td>\n",
       "      <td>2.21</td>\n",
       "      <td>0</td>\n",
       "      <td>0.000000</td>\n",
       "      <td>1</td>\n",
       "    </tr>\n",
       "    <tr>\n",
       "      <th>2018-09-15</th>\n",
       "      <td>1228001</td>\n",
       "      <td>11.31</td>\n",
       "      <td>34</td>\n",
       "      <td>-0.173298</td>\n",
       "      <td>0</td>\n",
       "    </tr>\n",
       "  </tbody>\n",
       "</table>\n",
       "</div>"
      ],
      "text/plain": [
       "            Prod_ID  Normal_Selling_Rate  Qty_In_Stock  Discount_Rate  \\\n",
       "Date                                                                    \n",
       "2018-09-15  1165247                 7.92             8      -0.053030   \n",
       "2018-09-15   141469                32.50            16       0.000000   \n",
       "2018-09-15   196467                 8.39             0       0.000000   \n",
       "2018-09-15   196060                 2.21             0       0.000000   \n",
       "2018-09-15  1228001                11.31            34      -0.173298   \n",
       "\n",
       "            is_diffx  \n",
       "Date                  \n",
       "2018-09-15         0  \n",
       "2018-09-15         1  \n",
       "2018-09-15         1  \n",
       "2018-09-15         1  \n",
       "2018-09-15         0  "
      ]
     },
     "execution_count": 92,
     "metadata": {},
     "output_type": "execute_result"
    }
   ],
   "source": [
    "df_other.head()"
   ]
  },
  {
   "cell_type": "code",
   "execution_count": 93,
   "metadata": {},
   "outputs": [
    {
     "data": {
      "text/plain": [
       "524779"
      ]
     },
     "execution_count": 93,
     "metadata": {},
     "output_type": "execute_result"
    }
   ],
   "source": [
    "len(df_other)"
   ]
  },
  {
   "cell_type": "code",
   "execution_count": 94,
   "metadata": {},
   "outputs": [
    {
     "data": {
      "text/plain": [
       "19415"
      ]
     },
     "execution_count": 94,
     "metadata": {},
     "output_type": "execute_result"
    }
   ],
   "source": [
    "len(df_other.Prod_ID.unique())"
   ]
  },
  {
   "cell_type": "code",
   "execution_count": 95,
   "metadata": {},
   "outputs": [],
   "source": [
    "df_other_for_prediction=df_other.reset_index()[['Normal_Selling_Rate','Qty_In_Stock','Discount_Rate','is_diffx']]"
   ]
  },
  {
   "cell_type": "code",
   "execution_count": 96,
   "metadata": {},
   "outputs": [
    {
     "data": {
      "text/html": [
       "<div>\n",
       "<style scoped>\n",
       "    .dataframe tbody tr th:only-of-type {\n",
       "        vertical-align: middle;\n",
       "    }\n",
       "\n",
       "    .dataframe tbody tr th {\n",
       "        vertical-align: top;\n",
       "    }\n",
       "\n",
       "    .dataframe thead th {\n",
       "        text-align: right;\n",
       "    }\n",
       "</style>\n",
       "<table border=\"1\" class=\"dataframe\">\n",
       "  <thead>\n",
       "    <tr style=\"text-align: right;\">\n",
       "      <th></th>\n",
       "      <th>Normal_Selling_Rate</th>\n",
       "      <th>Qty_In_Stock</th>\n",
       "      <th>Discount_Rate</th>\n",
       "      <th>is_diffx</th>\n",
       "    </tr>\n",
       "  </thead>\n",
       "  <tbody>\n",
       "    <tr>\n",
       "      <th>0</th>\n",
       "      <td>7.92</td>\n",
       "      <td>8</td>\n",
       "      <td>-0.053030</td>\n",
       "      <td>0</td>\n",
       "    </tr>\n",
       "    <tr>\n",
       "      <th>1</th>\n",
       "      <td>32.50</td>\n",
       "      <td>16</td>\n",
       "      <td>0.000000</td>\n",
       "      <td>1</td>\n",
       "    </tr>\n",
       "    <tr>\n",
       "      <th>2</th>\n",
       "      <td>8.39</td>\n",
       "      <td>0</td>\n",
       "      <td>0.000000</td>\n",
       "      <td>1</td>\n",
       "    </tr>\n",
       "    <tr>\n",
       "      <th>3</th>\n",
       "      <td>2.21</td>\n",
       "      <td>0</td>\n",
       "      <td>0.000000</td>\n",
       "      <td>1</td>\n",
       "    </tr>\n",
       "    <tr>\n",
       "      <th>4</th>\n",
       "      <td>11.31</td>\n",
       "      <td>34</td>\n",
       "      <td>-0.173298</td>\n",
       "      <td>0</td>\n",
       "    </tr>\n",
       "  </tbody>\n",
       "</table>\n",
       "</div>"
      ],
      "text/plain": [
       "   Normal_Selling_Rate  Qty_In_Stock  Discount_Rate  is_diffx\n",
       "0                 7.92             8      -0.053030         0\n",
       "1                32.50            16       0.000000         1\n",
       "2                 8.39             0       0.000000         1\n",
       "3                 2.21             0       0.000000         1\n",
       "4                11.31            34      -0.173298         0"
      ]
     },
     "execution_count": 96,
     "metadata": {},
     "output_type": "execute_result"
    }
   ],
   "source": [
    "df_other_for_prediction.head()"
   ]
  },
  {
   "cell_type": "code",
   "execution_count": 97,
   "metadata": {},
   "outputs": [],
   "source": [
    "y_pred_other = clf.predict(df_other_for_prediction)"
   ]
  },
  {
   "cell_type": "code",
   "execution_count": 98,
   "metadata": {},
   "outputs": [],
   "source": [
    "df_other_for_prediction['IS_OoS']=y_pred_other"
   ]
  },
  {
   "cell_type": "code",
   "execution_count": 99,
   "metadata": {},
   "outputs": [
    {
     "data": {
      "text/html": [
       "<div>\n",
       "<style scoped>\n",
       "    .dataframe tbody tr th:only-of-type {\n",
       "        vertical-align: middle;\n",
       "    }\n",
       "\n",
       "    .dataframe tbody tr th {\n",
       "        vertical-align: top;\n",
       "    }\n",
       "\n",
       "    .dataframe thead th {\n",
       "        text-align: right;\n",
       "    }\n",
       "</style>\n",
       "<table border=\"1\" class=\"dataframe\">\n",
       "  <thead>\n",
       "    <tr style=\"text-align: right;\">\n",
       "      <th></th>\n",
       "      <th>Normal_Selling_Rate</th>\n",
       "      <th>Qty_In_Stock</th>\n",
       "      <th>Discount_Rate</th>\n",
       "      <th>is_diffx</th>\n",
       "      <th>IS_OoS</th>\n",
       "    </tr>\n",
       "  </thead>\n",
       "  <tbody>\n",
       "    <tr>\n",
       "      <th>0</th>\n",
       "      <td>7.92</td>\n",
       "      <td>8</td>\n",
       "      <td>-0.053030</td>\n",
       "      <td>0</td>\n",
       "      <td>0</td>\n",
       "    </tr>\n",
       "    <tr>\n",
       "      <th>1</th>\n",
       "      <td>32.50</td>\n",
       "      <td>16</td>\n",
       "      <td>0.000000</td>\n",
       "      <td>1</td>\n",
       "      <td>0</td>\n",
       "    </tr>\n",
       "    <tr>\n",
       "      <th>2</th>\n",
       "      <td>8.39</td>\n",
       "      <td>0</td>\n",
       "      <td>0.000000</td>\n",
       "      <td>1</td>\n",
       "      <td>1</td>\n",
       "    </tr>\n",
       "    <tr>\n",
       "      <th>3</th>\n",
       "      <td>2.21</td>\n",
       "      <td>0</td>\n",
       "      <td>0.000000</td>\n",
       "      <td>1</td>\n",
       "      <td>1</td>\n",
       "    </tr>\n",
       "    <tr>\n",
       "      <th>4</th>\n",
       "      <td>11.31</td>\n",
       "      <td>34</td>\n",
       "      <td>-0.173298</td>\n",
       "      <td>0</td>\n",
       "      <td>0</td>\n",
       "    </tr>\n",
       "  </tbody>\n",
       "</table>\n",
       "</div>"
      ],
      "text/plain": [
       "   Normal_Selling_Rate  Qty_In_Stock  Discount_Rate  is_diffx  IS_OoS\n",
       "0                 7.92             8      -0.053030         0       0\n",
       "1                32.50            16       0.000000         1       0\n",
       "2                 8.39             0       0.000000         1       1\n",
       "3                 2.21             0       0.000000         1       1\n",
       "4                11.31            34      -0.173298         0       0"
      ]
     },
     "execution_count": 99,
     "metadata": {},
     "output_type": "execute_result"
    }
   ],
   "source": [
    "df_other_for_prediction.head()"
   ]
  },
  {
   "cell_type": "markdown",
   "metadata": {},
   "source": [
    "### It is finished and Labeled the Products as OoS in Main File by making Predictions."
   ]
  },
  {
   "cell_type": "markdown",
   "metadata": {},
   "source": [
    "# HINCAL TOPCUOGLU"
   ]
  },
  {
   "cell_type": "markdown",
   "metadata": {},
   "source": [
    "# THANKS"
   ]
  }
 ],
 "metadata": {
  "kernelspec": {
   "display_name": "Python 3",
   "language": "python",
   "name": "python3"
  },
  "language_info": {
   "codemirror_mode": {
    "name": "ipython",
    "version": 3
   },
   "file_extension": ".py",
   "mimetype": "text/x-python",
   "name": "python",
   "nbconvert_exporter": "python",
   "pygments_lexer": "ipython3",
   "version": "3.7.3"
  }
 },
 "nbformat": 4,
 "nbformat_minor": 2
}

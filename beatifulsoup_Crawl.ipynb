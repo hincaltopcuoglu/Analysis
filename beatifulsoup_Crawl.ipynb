{
 "cells": [
  {
   "cell_type": "code",
   "execution_count": 1,
   "metadata": {},
   "outputs": [],
   "source": [
    "from bs4 import BeautifulSoup\n",
    "import requests"
   ]
  },
  {
   "cell_type": "code",
   "execution_count": 2,
   "metadata": {},
   "outputs": [
    {
     "data": {
      "text/plain": [
       "<title>Yayın Akışı - Show TV</title>"
      ]
     },
     "execution_count": 2,
     "metadata": {},
     "output_type": "execute_result"
    }
   ],
   "source": [
    "show = requests.get('https://www.xxx.com')\n",
    "source = BeautifulSoup(show.content,\"html.parser\")\n",
    "source.title"
   ]
  },
  {
   "cell_type": "code",
   "execution_count": 3,
   "metadata": {},
   "outputs": [
    {
     "data": {
      "text/plain": [
       "requests.models.Response"
      ]
     },
     "execution_count": 3,
     "metadata": {},
     "output_type": "execute_result"
    }
   ],
   "source": [
    "type(show)"
   ]
  },
  {
   "cell_type": "code",
   "execution_count": 4,
   "metadata": {},
   "outputs": [
    {
     "data": {
      "text/plain": [
       "<div class=\"streaming-container clearfix\">\n",
       "<section class=\"streaming-timeline\">\n",
       "<div class=\"series\">\n",
       "<a href=\"/programlar/tanitim/gulduy-gulduy-show/1638\">\n",
       "<div class=\"clock\">\n",
       "<span>06</span>\n",
       "<span>00</span>\n",
       "</div>\n",
       "<div class=\"img\" style=\"background-image:url('https://mo.ciner.com.tr/showtv/iu/562x280/gulduy-gulduy-show.jpg?v=1539263882');\"></div>\n",
       "<div class=\"title\">\n",
       "<span>Güldüy Güldüy Show Çocuk</span>\n",
       "<span class=\"etiket\"> Tekrar</span>\n",
       "</div>\n",
       "</a>\n",
       "</div>\n",
       "<div class=\"series\">\n",
       "<a href=\"/programlar/tanitim/kendine-iyi-bak/1734\">\n",
       "<div class=\"clock\">\n",
       "<span>08</span>\n",
       "<span>00</span>\n",
       "</div>\n",
       "<div class=\"img\" style=\"background-image:url('https://mo.ciner.com.tr/showtv/iu/562x280/kendine-iyi-bak.jpg?v=1539613994');\"></div>\n",
       "<div class=\"title\">\n",
       "<span>Kendine İyi Bak</span>\n",
       "<span class=\"etiket\"> Yeni Bölüm</span>\n",
       "</div>\n",
       "</a>\n",
       "</div>\n",
       "<div class=\"series\">\n",
       "<a href=\"/dizi/tanitim/yeni-gelin/1752\">\n",
       "<div class=\"clock\">\n",
       "<span>10</span>\n",
       "<span>00</span>\n",
       "</div>\n",
       "<div class=\"img\" style=\"background-image:url('https://mo.ciner.com.tr/showtv/iu/562x280/yeni-gelin.jpg?v=1543320617');\"></div>\n",
       "<div class=\"title\">\n",
       "<span>Yeni Gelin</span>\n",
       "<span class=\"etiket\"> Tekrar</span>\n",
       "</div>\n",
       "</a>\n",
       "</div>\n",
       "<div class=\"series\">\n",
       "<a href=\"/programlar/tanitim/gelin-evi/1552\">\n",
       "<div class=\"clock\">\n",
       "<span>13</span>\n",
       "<span>00</span>\n",
       "</div>\n",
       "<div class=\"img\" style=\"background-image:url('https://mo.ciner.com.tr/showtv/iu/562x280/gelin-evi.jpg?v=1539341653');\"></div>\n",
       "<div class=\"title\">\n",
       "<span>Gelin Evi</span>\n",
       "<span class=\"etiket\"> Yeni Bölüm</span>\n",
       "</div>\n",
       "</a>\n",
       "</div>\n",
       "<div class=\"series\">\n",
       "<a href=\"/programlar/tanitim/zahide-yetisle/1551\">\n",
       "<div class=\"clock\">\n",
       "<span>15</span>\n",
       "<span>00</span>\n",
       "</div>\n",
       "<div class=\"img\" style=\"background-image:url('https://mo.ciner.com.tr/showtv/iu/562x280/zahide-yetisle.jpg?v=1539354449');\"></div>\n",
       "<div class=\"title\">\n",
       "<span>Zahide Yetiş'le</span>\n",
       "<span class=\"etiket\"> Canlı</span>\n",
       "</div>\n",
       "</a>\n",
       "</div>\n",
       "<div class=\"series\">\n",
       "<a href=\"/show-ana-haber\">\n",
       "<div class=\"clock\">\n",
       "<span>18</span>\n",
       "<span>45</span>\n",
       "</div>\n",
       "<div class=\"img\" style=\"background-image:url('https://mo.ciner.com.tr/showtv/iu/562x280/show-tv-ana-haber.jpg?v=1539091037');\"></div>\n",
       "<div class=\"title\">\n",
       "<span>Show Ana Haber</span>\n",
       "<span class=\"etiket\"> Canlı</span>\n",
       "</div>\n",
       "</a>\n",
       "</div>\n",
       "</section>\n",
       "<section class=\"streaming-timeline\">\n",
       "<div class=\"series\">\n",
       "<a href=\"/dizi/tanitim/cukur/2076\">\n",
       "<div class=\"clock\">\n",
       "<span>20</span>\n",
       "<span>00</span>\n",
       "</div>\n",
       "<div class=\"img\" style=\"background-image:url('https://mo.ciner.com.tr/showtv/iu/562x280/cukur.jpg?v=1550527054');\"></div>\n",
       "<div class=\"title\">\n",
       "<span>Çukur</span>\n",
       "<span class=\"etiket\"> Yeni Bölüm</span>\n",
       "</div>\n",
       "</a>\n",
       "</div>\n",
       "<div class=\"series\">\n",
       "<a href=\"/dizi/tanitim/gulperi/2338\">\n",
       "<div class=\"clock\">\n",
       "<span>00</span>\n",
       "<span>15</span>\n",
       "</div>\n",
       "<div class=\"img\" style=\"background-image:url('https://mo.ciner.com.tr/showtv/iu/562x280/gulperi.jpg?v=1550264817');\"></div>\n",
       "<div class=\"title\">\n",
       "<span>Gülperi</span>\n",
       "<span class=\"etiket\"> Tekrar</span>\n",
       "</div>\n",
       "</a>\n",
       "</div>\n",
       "<div class=\"series\">\n",
       "<a href=\"/programlar/tanitim/lezzet-akademisi/2425\">\n",
       "<div class=\"clock\">\n",
       "<span>03</span>\n",
       "<span>15</span>\n",
       "</div>\n",
       "<div class=\"img\" style=\"background-image:url('https://mo.ciner.com.tr/showtv/iu/562x280/lezzet-akademisi.jpg?v=1550437339');\"></div>\n",
       "<div class=\"title\">\n",
       "<span>Lezzet Akademisi</span>\n",
       "<span class=\"etiket\"> Tekrar</span>\n",
       "</div>\n",
       "</a>\n",
       "</div>\n",
       "<div class=\"series\">\n",
       "<a href=\"/programlar/tanitim/gelin-evi/1552\">\n",
       "<div class=\"clock\">\n",
       "<span>04</span>\n",
       "<span>45</span>\n",
       "</div>\n",
       "<div class=\"img\" style=\"background-image:url('https://mo.ciner.com.tr/showtv/iu/562x280/gelin-evi.jpg?v=1539341653');\"></div>\n",
       "<div class=\"title\">\n",
       "<span>Gelin Evi</span>\n",
       "<span class=\"etiket\"> Tekrar</span>\n",
       "</div>\n",
       "</a>\n",
       "</div>\n",
       "</section>\n",
       "</div>"
      ]
     },
     "execution_count": 4,
     "metadata": {},
     "output_type": "execute_result"
    }
   ],
   "source": [
    "anakisim = source.find(\"div\",attrs={\"class\":\"find your class to be crawled and write here\"})\n",
    "anakisim"
   ]
  },
  {
   "cell_type": "code",
   "execution_count": 22,
   "metadata": {
    "scrolled": true
   },
   "outputs": [
    {
     "name": "stdout",
     "output_type": "stream",
     "text": [
      "[<div class=\"clock\">\n",
      "<span>06</span>\n",
      "<span>00</span>\n",
      "</div>, <div class=\"clock\">\n",
      "<span>08</span>\n",
      "<span>00</span>\n",
      "</div>, <div class=\"clock\">\n",
      "<span>10</span>\n",
      "<span>00</span>\n",
      "</div>, <div class=\"clock\">\n",
      "<span>13</span>\n",
      "<span>00</span>\n",
      "</div>, <div class=\"clock\">\n",
      "<span>15</span>\n",
      "<span>00</span>\n",
      "</div>, <div class=\"clock\">\n",
      "<span>18</span>\n",
      "<span>45</span>\n",
      "</div>, <div class=\"clock\">\n",
      "<span>20</span>\n",
      "<span>00</span>\n",
      "</div>, <div class=\"clock\">\n",
      "<span>00</span>\n",
      "<span>15</span>\n",
      "</div>, <div class=\"clock\">\n",
      "<span>03</span>\n",
      "<span>15</span>\n",
      "</div>, <div class=\"clock\">\n",
      "<span>04</span>\n",
      "<span>45</span>\n",
      "</div>]\n"
     ]
    }
   ],
   "source": [
    "alt_kisim1=anakisim.find_all(\"\",attrs={\"class\":\"clock\"})\n",
    "print(alt_kisim1)"
   ]
  },
  {
   "cell_type": "code",
   "execution_count": 23,
   "metadata": {},
   "outputs": [],
   "source": [
    "xx=[]\n",
    "for div in alt_kisim1:\n",
    "    xx.append(div.text)\n",
    "    "
   ]
  },
  {
   "cell_type": "code",
   "execution_count": 24,
   "metadata": {},
   "outputs": [
    {
     "data": {
      "text/plain": [
       "['\\n06\\n00\\n',\n",
       " '\\n08\\n00\\n',\n",
       " '\\n10\\n00\\n',\n",
       " '\\n13\\n00\\n',\n",
       " '\\n15\\n00\\n',\n",
       " '\\n18\\n45\\n',\n",
       " '\\n20\\n00\\n',\n",
       " '\\n00\\n15\\n',\n",
       " '\\n03\\n15\\n',\n",
       " '\\n04\\n45\\n']"
      ]
     },
     "execution_count": 24,
     "metadata": {},
     "output_type": "execute_result"
    }
   ],
   "source": [
    "xx"
   ]
  },
  {
   "cell_type": "code",
   "execution_count": 34,
   "metadata": {},
   "outputs": [],
   "source": [
    "clock=[]\n",
    "for i in xx:\n",
    "    clock.append(i.rstrip())"
   ]
  },
  {
   "cell_type": "code",
   "execution_count": 35,
   "metadata": {},
   "outputs": [],
   "source": [
    "clock=list(map(lambda x:x.strip(),clock))"
   ]
  },
  {
   "cell_type": "code",
   "execution_count": 36,
   "metadata": {},
   "outputs": [
    {
     "data": {
      "text/plain": [
       "['06:00',\n",
       " '08:00',\n",
       " '10:00',\n",
       " '13:00',\n",
       " '15:00',\n",
       " '18:45',\n",
       " '20:00',\n",
       " '00:15',\n",
       " '03:15',\n",
       " '04:45']"
      ]
     },
     "execution_count": 36,
     "metadata": {},
     "output_type": "execute_result"
    }
   ],
   "source": [
    "clock=[i.replace('\\n',':') for i in clock]\n",
    "clock"
   ]
  },
  {
   "cell_type": "code",
   "execution_count": 37,
   "metadata": {
    "scrolled": true
   },
   "outputs": [
    {
     "name": "stdout",
     "output_type": "stream",
     "text": [
      "[<div class=\"title\">\n",
      "<span>Güldüy Güldüy Show Çocuk</span>\n",
      "<span class=\"etiket\"> Tekrar</span>\n",
      "</div>, <div class=\"title\">\n",
      "<span>Kendine İyi Bak</span>\n",
      "<span class=\"etiket\"> Yeni Bölüm</span>\n",
      "</div>, <div class=\"title\">\n",
      "<span>Yeni Gelin</span>\n",
      "<span class=\"etiket\"> Tekrar</span>\n",
      "</div>, <div class=\"title\">\n",
      "<span>Gelin Evi</span>\n",
      "<span class=\"etiket\"> Yeni Bölüm</span>\n",
      "</div>, <div class=\"title\">\n",
      "<span>Zahide Yetiş'le</span>\n",
      "<span class=\"etiket\"> Canlı</span>\n",
      "</div>, <div class=\"title\">\n",
      "<span>Show Ana Haber</span>\n",
      "<span class=\"etiket\"> Canlı</span>\n",
      "</div>, <div class=\"title\">\n",
      "<span>Çukur</span>\n",
      "<span class=\"etiket\"> Yeni Bölüm</span>\n",
      "</div>, <div class=\"title\">\n",
      "<span>Gülperi</span>\n",
      "<span class=\"etiket\"> Tekrar</span>\n",
      "</div>, <div class=\"title\">\n",
      "<span>Lezzet Akademisi</span>\n",
      "<span class=\"etiket\"> Tekrar</span>\n",
      "</div>, <div class=\"title\">\n",
      "<span>Gelin Evi</span>\n",
      "<span class=\"etiket\"> Tekrar</span>\n",
      "</div>]\n"
     ]
    }
   ],
   "source": [
    "alt_kisim2=anakisim.find_all(\"\",attrs={\"class\":\"title\"})\n",
    "print(alt_kisim2)"
   ]
  },
  {
   "cell_type": "code",
   "execution_count": 38,
   "metadata": {},
   "outputs": [],
   "source": [
    "xx2=[]\n",
    "for div in alt_kisim2:\n",
    "    xx2.append(div.text)"
   ]
  },
  {
   "cell_type": "code",
   "execution_count": 39,
   "metadata": {},
   "outputs": [
    {
     "data": {
      "text/plain": [
       "['Güldüy Güldüy Show Çocuk Tekrar',\n",
       " 'Kendine İyi Bak Yeni Bölüm',\n",
       " 'Yeni Gelin Tekrar',\n",
       " 'Gelin Evi Yeni Bölüm',\n",
       " \"Zahide Yetiş'le Canlı\",\n",
       " 'Show Ana Haber Canlı',\n",
       " 'Çukur Yeni Bölüm',\n",
       " 'Gülperi Tekrar',\n",
       " 'Lezzet Akademisi Tekrar',\n",
       " 'Gelin Evi Tekrar']"
      ]
     },
     "execution_count": 39,
     "metadata": {},
     "output_type": "execute_result"
    }
   ],
   "source": [
    "title=[]\n",
    "for i in xx2:\n",
    "    title.append(i.rstrip())\n",
    "    \n",
    "title=list(map(lambda x:x.strip(),title))\n",
    "title=[i.replace('\\n','') for i in title]\n",
    "title"
   ]
  },
  {
   "cell_type": "code",
   "execution_count": 40,
   "metadata": {},
   "outputs": [],
   "source": [
    "import pandas as pd\n",
    "crawled_df=pd.DataFrame({'Basl_Saati': clock,'Program_Adi': title})"
   ]
  },
  {
   "cell_type": "code",
   "execution_count": 41,
   "metadata": {},
   "outputs": [
    {
     "name": "stdout",
     "output_type": "stream",
     "text": [
      "  Basl_Saati                      Program_Adi\n",
      "0      06:00  Güldüy Güldüy Show Çocuk Tekrar\n",
      "1      08:00       Kendine İyi Bak Yeni Bölüm\n",
      "2      10:00                Yeni Gelin Tekrar\n",
      "3      13:00             Gelin Evi Yeni Bölüm\n",
      "4      15:00            Zahide Yetiş'le Canlı\n",
      "5      18:45             Show Ana Haber Canlı\n",
      "6      20:00                 Çukur Yeni Bölüm\n",
      "7      00:15                   Gülperi Tekrar\n",
      "8      03:15          Lezzet Akademisi Tekrar\n",
      "9      04:45                 Gelin Evi Tekrar\n"
     ]
    }
   ],
   "source": [
    "print(crawled_df)"
   ]
  }
 ],
 "metadata": {
  "kernelspec": {
   "display_name": "Python 3",
   "language": "python",
   "name": "python3"
  },
  "language_info": {
   "codemirror_mode": {
    "name": "ipython",
    "version": 3
   },
   "file_extension": ".py",
   "mimetype": "text/x-python",
   "name": "python",
   "nbconvert_exporter": "python",
   "pygments_lexer": "ipython3",
   "version": "3.7.1"
  }
 },
 "nbformat": 4,
 "nbformat_minor": 2
}

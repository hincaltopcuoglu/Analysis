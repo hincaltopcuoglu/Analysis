{
 "cells": [
  {
   "cell_type": "markdown",
   "metadata": {},
   "source": [
    "### find best correlated features for each route and apply dynamic modelling to find R Squared values"
   ]
  },
  {
   "cell_type": "code",
   "execution_count": 26,
   "metadata": {},
   "outputs": [
    {
     "data": {
      "text/plain": [
       "{'Ankara|İstanbul': -0.0026141410324140857,\n",
       " 'İstanbul|Ankara': -0.04669100146654204,\n",
       " 'İzmir|İstanbul': 0.28013295100434565,\n",
       " 'Ankara|Adana': -0.018854415391881263,\n",
       " 'Bursa|İstanbul': 0.3841777413372758,\n",
       " 'İstanbul|İzmir': 0.5870793490915198,\n",
       " 'Adana|Ankara': 0.6627196560955554,\n",
       " 'Ankara|İzmir': -0.6383169408878042,\n",
       " 'Ankara|Mersin': 0.13059810925350424,\n",
       " 'Mersin|Ankara': 0.5277491888103039,\n",
       " 'İstanbul|Kocaeli': 0.36372888581786766,\n",
       " 'İstanbul|Bursa': 0.41012283417595186,\n",
       " 'Ankara|Antalya': 0.5096715727731307}"
      ]
     },
     "execution_count": 26,
     "metadata": {},
     "output_type": "execute_result"
    }
   ],
   "source": [
    "frame = {}\n",
    "corr= {}\n",
    "last_dict = {}\n",
    "for r in top10_routes['route']:\n",
    "    frame[r] = df_pivot[df_pivot['route']==r]\n",
    "    feat_select_cols = df_pivot.columns.tolist()[4:]\n",
    "    spearman_corrx = {}\n",
    "    for i in feat_select_cols:\n",
    "        spearman_corrx[i] = frame[r].loc[:,i]\n",
    "        spearman_df = pd.DataFrame.from_dict(spearman_corrx)\n",
    "        corr[r] = spearman_df.corr(method='spearman').abs()\n",
    "\n",
    "for k,v in corr.items():\n",
    "    last_dict[k]=(v['res_cnt'])\n",
    "    \n",
    "xx = pd.DataFrame(last_dict)\n",
    "\n",
    "final_dict = defaultdict(list)\n",
    "for i in xx.columns.tolist():\n",
    "    for r in xx.index:\n",
    "        if (xx.loc[r,i]>0.2) & (xx.loc[r,i]<1):\n",
    "            final_dict[i].append(r)\n",
    "            \n",
    "            \n",
    "\n",
    "sco = {}\n",
    "for rou,val in final_dict.items():\n",
    "    X = df_pivot[df_pivot['route']==rou][val]\n",
    "    y = df_pivot[df_pivot['route']==rou]['res_cnt']\n",
    "    X_train, X_test, y_train, y_test = train_test_split(X, y, test_size=0.2)\n",
    "    xgb_r = xg.XGBRegressor(n_estimators = 100,max_depth=4, seed = 5)\n",
    "    xgb_r.fit(X_train, y_train)\n",
    "\n",
    "    pred = xgb_r.predict(X_test) \n",
    "    sco[rou] = (r2_score(y_test, pred))\n",
    "    \n",
    "sco"
   ]
  },
  {
   "cell_type": "markdown",
   "metadata": {},
   "source": [
    "---"
   ]
  }
 ],
 "metadata": {
  "kernelspec": {
   "display_name": "Python 3",
   "language": "python",
   "name": "python3"
  },
  "language_info": {
   "codemirror_mode": {
    "name": "ipython",
    "version": 3
   },
   "file_extension": ".py",
   "mimetype": "text/x-python",
   "name": "python",
   "nbconvert_exporter": "python",
   "pygments_lexer": "ipython3",
   "version": "3.8.5"
  }
 },
 "nbformat": 4,
 "nbformat_minor": 4
}
